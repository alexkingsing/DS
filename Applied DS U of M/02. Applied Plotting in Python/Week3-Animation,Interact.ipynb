{
 "cells": [
  {
   "cell_type": "code",
   "execution_count": 1,
   "metadata": {},
   "outputs": [],
   "source": [
    "%matplotlib widget\n",
    "import matplotlib"
   ]
  },
  {
   "cell_type": "code",
   "execution_count": 2,
   "metadata": {},
   "outputs": [],
   "source": [
    "import pandas as pd\n",
    "import numpy as np\n",
    "import matplotlib.pyplot as plt\n",
    "import matplotlib.animation as animation"
   ]
  },
  {
   "cell_type": "markdown",
   "metadata": {},
   "source": [
    "# Animation"
   ]
  },
  {
   "cell_type": "code",
   "execution_count": 3,
   "metadata": {},
   "outputs": [],
   "source": [
    "# building a variable for using\n",
    "x = np.random.randn(100)"
   ]
  },
  {
   "cell_type": "code",
   "execution_count": 4,
   "metadata": {},
   "outputs": [],
   "source": [
    "# animations are managed through funcstions, for that we need to defina a function\n",
    "\n",
    "#the functions argument is the frame number. this is passed automatically by the animationa engine\n",
    "def animated(cframe):\n",
    "    # this comparison forces the animation to stop at the 100th frame\n",
    "    if cframe == 100:\n",
    "        a.event_source.stop()\n",
    "    # since bins need to be dynamic, we want evenly spaced bins. arange can do this through (start,end,step)\n",
    "    bins = np.arange(-4,4,0.5)\n",
    "    #then we plot the histogram from the initial value to the current value of the frame\n",
    "    plt.hist(x[:cframe], bins=bins, color='blue')\n",
    "    # we set the axis value so we dont have any re-scaling. xmin: -4, xmax: 4, ymin: 0, ymax: 30\n",
    "    plt.axis([-4,4,0,30])\n",
    "    #setting titles\n",
    "    plt.title(\"Plotting a random distribution.\")\n",
    "    plt.xlabel(\"Value\")\n",
    "    plt.ylabel(\"Frequency\")\n"
   ]
  },
  {
   "cell_type": "code",
   "execution_count": 6,
   "metadata": {},
   "outputs": [
    {
     "data": {
      "application/vnd.jupyter.widget-view+json": {
       "model_id": "fd266ebb675540e4badfcf27c5634521",
       "version_major": 2,
       "version_minor": 0
      },
      "text/plain": [
       "Canvas(toolbar=Toolbar(toolitems=[('Home', 'Reset original view', 'home', 'home'), ('Back', 'Back to previous …"
      ]
     },
     "metadata": {},
     "output_type": "display_data"
    }
   ],
   "source": [
    "# first we create the figure constructor\n",
    "fig = plt.figure()\n",
    "#then we pass the actual animator. the arguments are the figure, the function for the animation, and the update intervall (ms)\n",
    "a = animation.FuncAnimation(fig, animated, interval=100)"
   ]
  },
  {
   "cell_type": "markdown",
   "metadata": {},
   "source": [
    "# Interactivity"
   ]
  },
  {
   "cell_type": "code",
   "execution_count": null,
   "metadata": {},
   "outputs": [],
   "source": []
  }
 ],
 "metadata": {
  "kernelspec": {
   "display_name": "Python 3",
   "language": "python",
   "name": "python3"
  },
  "language_info": {
   "codemirror_mode": {
    "name": "ipython",
    "version": 3
   },
   "file_extension": ".py",
   "mimetype": "text/x-python",
   "name": "python",
   "nbconvert_exporter": "python",
   "pygments_lexer": "ipython3",
   "version": "3.8.5"
  }
 },
 "nbformat": 4,
 "nbformat_minor": 4
}
