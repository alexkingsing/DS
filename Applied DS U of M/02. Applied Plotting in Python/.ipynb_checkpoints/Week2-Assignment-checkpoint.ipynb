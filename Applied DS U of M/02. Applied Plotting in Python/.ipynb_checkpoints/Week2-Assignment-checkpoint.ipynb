{
 "cells": [
  {
   "cell_type": "code",
   "execution_count": 1,
   "metadata": {},
   "outputs": [],
   "source": [
    "%matplotlib widget\n",
    "import matplotlib"
   ]
  },
  {
   "cell_type": "code",
   "execution_count": 2,
   "metadata": {},
   "outputs": [],
   "source": [
    "import pandas as pd\n",
    "import numpy as np\n",
    "import matplotlib.pyplot as plt\n",
    "import calendar"
   ]
  },
  {
   "cell_type": "code",
   "execution_count": 3,
   "metadata": {},
   "outputs": [
    {
     "data": {
      "text/plain": [
       "165085"
      ]
     },
     "execution_count": 3,
     "metadata": {},
     "output_type": "execute_result"
    }
   ],
   "source": [
    "df = pd.read_csv(\"data/fb441e62df2d58994928907a91895ec62c2c42e6cd075c2700843b89.csv\")\n",
    "\n",
    "# setting date as index\n",
    "len(df)"
   ]
  },
  {
   "cell_type": "code",
   "execution_count": 4,
   "metadata": {},
   "outputs": [
    {
     "data": {
      "text/html": [
       "<div>\n",
       "<style scoped>\n",
       "    .dataframe tbody tr th:only-of-type {\n",
       "        vertical-align: middle;\n",
       "    }\n",
       "\n",
       "    .dataframe tbody tr th {\n",
       "        vertical-align: top;\n",
       "    }\n",
       "\n",
       "    .dataframe thead th {\n",
       "        text-align: right;\n",
       "    }\n",
       "</style>\n",
       "<table border=\"1\" class=\"dataframe\">\n",
       "  <thead>\n",
       "    <tr style=\"text-align: right;\">\n",
       "      <th></th>\n",
       "      <th>ID</th>\n",
       "      <th>Date</th>\n",
       "      <th>Element</th>\n",
       "      <th>Data_Value</th>\n",
       "    </tr>\n",
       "  </thead>\n",
       "  <tbody>\n",
       "    <tr>\n",
       "      <th>25720</th>\n",
       "      <td>USC00201502</td>\n",
       "      <td>2015-12-31</td>\n",
       "      <td>TMAX</td>\n",
       "      <td>-6</td>\n",
       "    </tr>\n",
       "    <tr>\n",
       "      <th>10639</th>\n",
       "      <td>USC00205050</td>\n",
       "      <td>2015-12-31</td>\n",
       "      <td>TMAX</td>\n",
       "      <td>0</td>\n",
       "    </tr>\n",
       "    <tr>\n",
       "      <th>21078</th>\n",
       "      <td>USC00205822</td>\n",
       "      <td>2015-12-31</td>\n",
       "      <td>TMIN</td>\n",
       "      <td>0</td>\n",
       "    </tr>\n",
       "    <tr>\n",
       "      <th>25717</th>\n",
       "      <td>USC00201502</td>\n",
       "      <td>2015-12-31</td>\n",
       "      <td>TMIN</td>\n",
       "      <td>-22</td>\n",
       "    </tr>\n",
       "    <tr>\n",
       "      <th>34004</th>\n",
       "      <td>USW00004848</td>\n",
       "      <td>2015-12-31</td>\n",
       "      <td>TMIN</td>\n",
       "      <td>-10</td>\n",
       "    </tr>\n",
       "    <tr>\n",
       "      <th>...</th>\n",
       "      <td>...</td>\n",
       "      <td>...</td>\n",
       "      <td>...</td>\n",
       "      <td>...</td>\n",
       "    </tr>\n",
       "    <tr>\n",
       "      <th>41309</th>\n",
       "      <td>USC00208080</td>\n",
       "      <td>2005-01-01</td>\n",
       "      <td>TMIN</td>\n",
       "      <td>-39</td>\n",
       "    </tr>\n",
       "    <tr>\n",
       "      <th>49827</th>\n",
       "      <td>USC00200228</td>\n",
       "      <td>2005-01-01</td>\n",
       "      <td>TMIN</td>\n",
       "      <td>-39</td>\n",
       "    </tr>\n",
       "    <tr>\n",
       "      <th>1860</th>\n",
       "      <td>USC00202308</td>\n",
       "      <td>2005-01-01</td>\n",
       "      <td>TMAX</td>\n",
       "      <td>150</td>\n",
       "    </tr>\n",
       "    <tr>\n",
       "      <th>55102</th>\n",
       "      <td>USC00200032</td>\n",
       "      <td>2005-01-01</td>\n",
       "      <td>TMAX</td>\n",
       "      <td>67</td>\n",
       "    </tr>\n",
       "    <tr>\n",
       "      <th>18049</th>\n",
       "      <td>USW00014853</td>\n",
       "      <td>2005-01-01</td>\n",
       "      <td>TMAX</td>\n",
       "      <td>56</td>\n",
       "    </tr>\n",
       "  </tbody>\n",
       "</table>\n",
       "<p>165002 rows × 4 columns</p>\n",
       "</div>"
      ],
      "text/plain": [
       "                ID       Date Element  Data_Value\n",
       "25720  USC00201502 2015-12-31    TMAX          -6\n",
       "10639  USC00205050 2015-12-31    TMAX           0\n",
       "21078  USC00205822 2015-12-31    TMIN           0\n",
       "25717  USC00201502 2015-12-31    TMIN         -22\n",
       "34004  USW00004848 2015-12-31    TMIN         -10\n",
       "...            ...        ...     ...         ...\n",
       "41309  USC00208080 2005-01-01    TMIN         -39\n",
       "49827  USC00200228 2005-01-01    TMIN         -39\n",
       "1860   USC00202308 2005-01-01    TMAX         150\n",
       "55102  USC00200032 2005-01-01    TMAX          67\n",
       "18049  USW00014853 2005-01-01    TMAX          56\n",
       "\n",
       "[165002 rows x 4 columns]"
      ]
     },
     "execution_count": 4,
     "metadata": {},
     "output_type": "execute_result"
    }
   ],
   "source": [
    "# converting the date to datetime\n",
    "df[\"Date\"] = pd.to_datetime(df[\"Date\"])\n",
    "\n",
    "# accessing the values of date via array attribute of the resulting series\n",
    "    ## creating a mask via month AND day to filter out leap years, AND filter out 2015\n",
    "mask = (df[\"Date\"].array.month == 2) & (df[\"Date\"].array.day == 29)\n",
    "\n",
    "    #reversing boolean values of the mask to filter out leap years\n",
    "df = df[~mask]\n",
    "\n",
    "# sorting by date NEWEST TO OLDEST\n",
    "df.sort_values(\"Date\", ascending = False, inplace=True)\n",
    "df"
   ]
  },
  {
   "cell_type": "code",
   "execution_count": 5,
   "metadata": {},
   "outputs": [
    {
     "data": {
      "text/html": [
       "<div>\n",
       "<style scoped>\n",
       "    .dataframe tbody tr th:only-of-type {\n",
       "        vertical-align: middle;\n",
       "    }\n",
       "\n",
       "    .dataframe tbody tr th {\n",
       "        vertical-align: top;\n",
       "    }\n",
       "\n",
       "    .dataframe thead th {\n",
       "        text-align: right;\n",
       "    }\n",
       "</style>\n",
       "<table border=\"1\" class=\"dataframe\">\n",
       "  <thead>\n",
       "    <tr style=\"text-align: right;\">\n",
       "      <th></th>\n",
       "      <th>Data_Value</th>\n",
       "    </tr>\n",
       "    <tr>\n",
       "      <th>Date</th>\n",
       "      <th></th>\n",
       "    </tr>\n",
       "  </thead>\n",
       "  <tbody>\n",
       "    <tr>\n",
       "      <th>2011-07-21</th>\n",
       "      <td>40.6</td>\n",
       "    </tr>\n",
       "    <tr>\n",
       "      <th>2012-06-28</th>\n",
       "      <td>40.6</td>\n",
       "    </tr>\n",
       "    <tr>\n",
       "      <th>2012-07-17</th>\n",
       "      <td>40.6</td>\n",
       "    </tr>\n",
       "  </tbody>\n",
       "</table>\n",
       "</div>"
      ],
      "text/plain": [
       "            Data_Value\n",
       "Date                  \n",
       "2011-07-21        40.6\n",
       "2012-06-28        40.6\n",
       "2012-07-17        40.6"
      ]
     },
     "execution_count": 5,
     "metadata": {},
     "output_type": "execute_result"
    }
   ],
   "source": [
    "# creating relevant summary table via pivot table\n",
    "summary_table = df.pivot_table(values=\"Data_Value\", index=\"Date\", aggfunc=[np.max, np.min])\n",
    "\n",
    "# transforming tenths of degrees to FULL DEGREES on resulting columns\n",
    "summary_table = summary_table.apply(lambda x: x/10, axis=1)\n",
    "\n",
    "# creating table for line plot\n",
    "result_table = summary_table[summary_table.index.year != 2015]\n",
    "\n",
    "# finding higuest maxs for label creation\n",
    "max_higs = result_table[\"amax\"][result_table[\"amax\"] == 40.6].dropna()\n",
    "#finding lowest lows for label creation\n",
    "min_lows = result_table[\"amin\"][result_table[\"amin\"] == (-30.6)].dropna()\n",
    "\n",
    "# creating table for scatters\n",
    "    ## finding max value for 2005-2014 period\n",
    "    ### This results in a series, which is then converted to a np.array and then its values are extracted\n",
    "max_val = np.max(result_table[\"amax\"]).values.item()\n",
    "    ## finding max value for 2005-2014 period\n",
    "    ### This results in a series, which is then converted to a np.array and then its values are extracted\n",
    "min_val = np.min(result_table[\"amin\"]).values.item()\n",
    "    ## fixind column levels for easier processing...\n",
    "summary_table.columns = summary_table.columns.droplevel(1)\n",
    "    ## obtaining days that were higuer OR lower than than max or min\n",
    "scat_mask_highs = summary_table[\"amax\"] > max_val\n",
    "scat_mask_lows = summary_table[\"amin\"] < min_val\n",
    "    ## applying mask to obtain relevant points\n",
    "scat_max_table = summary_table[scat_mask_highs]\n",
    "scat_min_table = summary_table[scat_mask_lows]\n",
    "max_higs"
   ]
  },
  {
   "cell_type": "code",
   "execution_count": 50,
   "metadata": {},
   "outputs": [
    {
     "data": {
      "application/vnd.jupyter.widget-view+json": {
       "model_id": "84441eaf53eb4835bf891a5f486da0b6",
       "version_major": 2,
       "version_minor": 0
      },
      "text/plain": [
       "Canvas(toolbar=Toolbar(toolitems=[('Home', 'Reset original view', 'home', 'home'), ('Back', 'Back to previous …"
      ]
     },
     "metadata": {},
     "output_type": "display_data"
    }
   ],
   "source": [
    "# resizing figure\n",
    "    # (WIDHT, HEIGHT)\n",
    "plt.figure(figsize=(14,8))\n",
    "\n",
    "# calling .plot twice to get the series\n",
    "    ## necessary to add the label directly into the graph call\n",
    "    # addding each line/plot individually\n",
    "plt.plot(result_table.index, result_table[\"amax\"][\"Data_Value\"], 'r-', linewidth=0.8, label=\"Daily Max\") \n",
    "plt.plot(result_table.index, result_table[\"amin\"][\"Data_Value\"], 'b-', linewidth=0.8, label=\"Daily Min\")\n",
    "plt.plot(scat_max_table.index, scat_max_table[\"amin\"], 'ro', label=\"2015 maxT above 2005-2014 maxT\")\n",
    "plt.plot(scat_min_table.index, scat_min_table[\"amin\"], 'bo', label=\"2015 minT below 2005-2014 minT\")\n",
    "\n",
    "    ## adding data labels to relevant points\n",
    "    ## plt.text(<x>, <y>, <text>)\n",
    "    ###  addding a slight offset to the Y (+3)\n",
    "for i in range(len(max_higs)-1):\n",
    "    plt.text(max_higs.index[i], max_higs.iloc[i]+3, f\"maxT:{max_val}\", color='red', verticalalignment='top', horizontalalignment='left')\n",
    "    \n",
    "    ## getting date from timestamp via timestamp.strftime('%Y-%m-%d')\n",
    "for ind in range(len(scat_min_table)):\n",
    "    plt.text(scat_min_table.index[ind], scat_min_table[\"amin\"].iloc[ind], f\"{scat_min_table.index[ind].strftime('%Y-%m-%d')}. Temp:{scat_min_table['amin'].iloc[0]}\", color=\"blue\", verticalalignment='top', horizontalalignment='center')\n",
    "    \n",
    "# setting appropiate axis labels and legend and title\n",
    "plt.gca().xaxis.set_label_text(\"Year\")\n",
    "plt.gca().yaxis.set_label_text(\"Degrees (C°)\")\n",
    "\n",
    "#setting legend to upper left\n",
    "plt.legend(loc=2)\n",
    "\n",
    "plt.title(\"Daily Max & Min Temp from 2004-2014. \")\n",
    "\n",
    "# setting Y axis to be wider to make the view easier\n",
    "plt.gca().yaxis.set_data_interval(-34.0, 48.0)\n",
    "\n",
    "# shading area between\n",
    "plt.fill_between(result_table.index, result_table[\"amin\"][\"Data_Value\"], result_table[\"amax\"][\"Data_Value\"], facecolor='grey', alpha= 0.4)\n",
    "\n",
    "plt.savefig(\"Week2-Assigntment.png\")"
   ]
  },
  {
   "cell_type": "code",
   "execution_count": null,
   "metadata": {},
   "outputs": [],
   "source": []
  }
 ],
 "metadata": {
  "kernelspec": {
   "display_name": "Python 3",
   "language": "python",
   "name": "python3"
  },
  "language_info": {
   "codemirror_mode": {
    "name": "ipython",
    "version": 3
   },
   "file_extension": ".py",
   "mimetype": "text/x-python",
   "name": "python",
   "nbconvert_exporter": "python",
   "pygments_lexer": "ipython3",
   "version": "3.8.5"
  }
 },
 "nbformat": 4,
 "nbformat_minor": 4
}
