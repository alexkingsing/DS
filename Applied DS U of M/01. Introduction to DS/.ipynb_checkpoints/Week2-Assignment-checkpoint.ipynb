{
 "cells": [
  {
   "cell_type": "code",
   "execution_count": 1,
   "metadata": {},
   "outputs": [],
   "source": [
    "import pandas as pd"
   ]
  },
  {
   "cell_type": "markdown",
   "metadata": {},
   "source": [
    "# Question 1"
   ]
  },
  {
   "cell_type": "code",
   "execution_count": 2,
   "metadata": {},
   "outputs": [
    {
     "data": {
      "text/html": [
       "<div>\n",
       "<style scoped>\n",
       "    .dataframe tbody tr th:only-of-type {\n",
       "        vertical-align: middle;\n",
       "    }\n",
       "\n",
       "    .dataframe tbody tr th {\n",
       "        vertical-align: top;\n",
       "    }\n",
       "\n",
       "    .dataframe thead th {\n",
       "        text-align: right;\n",
       "    }\n",
       "</style>\n",
       "<table border=\"1\" class=\"dataframe\">\n",
       "  <thead>\n",
       "    <tr style=\"text-align: right;\">\n",
       "      <th></th>\n",
       "      <th>SEQNUMC</th>\n",
       "      <th>SEQNUMHH</th>\n",
       "      <th>PDAT</th>\n",
       "      <th>PROVWT_D</th>\n",
       "      <th>RDDWT_D</th>\n",
       "      <th>STRATUM</th>\n",
       "      <th>YEAR</th>\n",
       "      <th>AGECPOXR</th>\n",
       "      <th>HAD_CPOX</th>\n",
       "      <th>AGEGRP</th>\n",
       "      <th>...</th>\n",
       "      <th>XVRCTY2</th>\n",
       "      <th>XVRCTY3</th>\n",
       "      <th>XVRCTY4</th>\n",
       "      <th>XVRCTY5</th>\n",
       "      <th>XVRCTY6</th>\n",
       "      <th>XVRCTY7</th>\n",
       "      <th>XVRCTY8</th>\n",
       "      <th>XVRCTY9</th>\n",
       "      <th>INS_STAT2_I</th>\n",
       "      <th>INS_BREAK_I</th>\n",
       "    </tr>\n",
       "  </thead>\n",
       "  <tbody>\n",
       "    <tr>\n",
       "      <th>1</th>\n",
       "      <td>128521</td>\n",
       "      <td>12852</td>\n",
       "      <td>2</td>\n",
       "      <td>NaN</td>\n",
       "      <td>235.916956</td>\n",
       "      <td>1031</td>\n",
       "      <td>2017</td>\n",
       "      <td>NaN</td>\n",
       "      <td>2</td>\n",
       "      <td>1</td>\n",
       "      <td>...</td>\n",
       "      <td></td>\n",
       "      <td></td>\n",
       "      <td>NaN</td>\n",
       "      <td>NaN</td>\n",
       "      <td>NaN</td>\n",
       "      <td>NaN</td>\n",
       "      <td>NaN</td>\n",
       "      <td>NaN</td>\n",
       "      <td>NaN</td>\n",
       "      <td>NaN</td>\n",
       "    </tr>\n",
       "    <tr>\n",
       "      <th>2</th>\n",
       "      <td>10741</td>\n",
       "      <td>1074</td>\n",
       "      <td>2</td>\n",
       "      <td>NaN</td>\n",
       "      <td>957.353840</td>\n",
       "      <td>1068</td>\n",
       "      <td>2017</td>\n",
       "      <td>NaN</td>\n",
       "      <td>2</td>\n",
       "      <td>1</td>\n",
       "      <td>...</td>\n",
       "      <td></td>\n",
       "      <td></td>\n",
       "      <td>NaN</td>\n",
       "      <td>NaN</td>\n",
       "      <td>NaN</td>\n",
       "      <td>NaN</td>\n",
       "      <td>NaN</td>\n",
       "      <td>NaN</td>\n",
       "      <td>NaN</td>\n",
       "      <td>NaN</td>\n",
       "    </tr>\n",
       "    <tr>\n",
       "      <th>3</th>\n",
       "      <td>220011</td>\n",
       "      <td>22001</td>\n",
       "      <td>2</td>\n",
       "      <td>NaN</td>\n",
       "      <td>189.611299</td>\n",
       "      <td>1050</td>\n",
       "      <td>2017</td>\n",
       "      <td>NaN</td>\n",
       "      <td>2</td>\n",
       "      <td>3</td>\n",
       "      <td>...</td>\n",
       "      <td></td>\n",
       "      <td></td>\n",
       "      <td>NaN</td>\n",
       "      <td>NaN</td>\n",
       "      <td>NaN</td>\n",
       "      <td>NaN</td>\n",
       "      <td>NaN</td>\n",
       "      <td>NaN</td>\n",
       "      <td>NaN</td>\n",
       "      <td>NaN</td>\n",
       "    </tr>\n",
       "    <tr>\n",
       "      <th>4</th>\n",
       "      <td>86131</td>\n",
       "      <td>8613</td>\n",
       "      <td>1</td>\n",
       "      <td>675.430817</td>\n",
       "      <td>333.447418</td>\n",
       "      <td>1040</td>\n",
       "      <td>2017</td>\n",
       "      <td>NaN</td>\n",
       "      <td>2</td>\n",
       "      <td>1</td>\n",
       "      <td>...</td>\n",
       "      <td></td>\n",
       "      <td></td>\n",
       "      <td>NaN</td>\n",
       "      <td>NaN</td>\n",
       "      <td>NaN</td>\n",
       "      <td>NaN</td>\n",
       "      <td>NaN</td>\n",
       "      <td>NaN</td>\n",
       "      <td>1.0</td>\n",
       "      <td>2.0</td>\n",
       "    </tr>\n",
       "    <tr>\n",
       "      <th>5</th>\n",
       "      <td>227141</td>\n",
       "      <td>22714</td>\n",
       "      <td>1</td>\n",
       "      <td>482.617748</td>\n",
       "      <td>278.768063</td>\n",
       "      <td>1008</td>\n",
       "      <td>2017</td>\n",
       "      <td>NaN</td>\n",
       "      <td>2</td>\n",
       "      <td>1</td>\n",
       "      <td>...</td>\n",
       "      <td></td>\n",
       "      <td></td>\n",
       "      <td>NaN</td>\n",
       "      <td>NaN</td>\n",
       "      <td>NaN</td>\n",
       "      <td>NaN</td>\n",
       "      <td>NaN</td>\n",
       "      <td>NaN</td>\n",
       "      <td>2.0</td>\n",
       "      <td>1.0</td>\n",
       "    </tr>\n",
       "  </tbody>\n",
       "</table>\n",
       "<p>5 rows × 453 columns</p>\n",
       "</div>"
      ],
      "text/plain": [
       "   SEQNUMC  SEQNUMHH  PDAT    PROVWT_D     RDDWT_D  STRATUM  YEAR  AGECPOXR  \\\n",
       "1   128521     12852     2         NaN  235.916956     1031  2017       NaN   \n",
       "2    10741      1074     2         NaN  957.353840     1068  2017       NaN   \n",
       "3   220011     22001     2         NaN  189.611299     1050  2017       NaN   \n",
       "4    86131      8613     1  675.430817  333.447418     1040  2017       NaN   \n",
       "5   227141     22714     1  482.617748  278.768063     1008  2017       NaN   \n",
       "\n",
       "   HAD_CPOX  AGEGRP  ...  XVRCTY2  XVRCTY3  XVRCTY4  XVRCTY5  XVRCTY6  \\\n",
       "1         2       1  ...                        NaN      NaN      NaN   \n",
       "2         2       1  ...                        NaN      NaN      NaN   \n",
       "3         2       3  ...                        NaN      NaN      NaN   \n",
       "4         2       1  ...                        NaN      NaN      NaN   \n",
       "5         2       1  ...                        NaN      NaN      NaN   \n",
       "\n",
       "   XVRCTY7  XVRCTY8  XVRCTY9  INS_STAT2_I  INS_BREAK_I  \n",
       "1      NaN      NaN      NaN          NaN          NaN  \n",
       "2      NaN      NaN      NaN          NaN          NaN  \n",
       "3      NaN      NaN      NaN          NaN          NaN  \n",
       "4      NaN      NaN      NaN          1.0          2.0  \n",
       "5      NaN      NaN      NaN          2.0          1.0  \n",
       "\n",
       "[5 rows x 453 columns]"
      ]
     },
     "execution_count": 2,
     "metadata": {},
     "output_type": "execute_result"
    }
   ],
   "source": [
    "df = pd.read_csv(\"datasets/NISPUF17.csv\",index_col=0)\n",
    "df.head()"
   ]
  },
  {
   "cell_type": "code",
   "execution_count": 3,
   "metadata": {},
   "outputs": [
    {
     "data": {
      "text/plain": [
       "{'less than high school': 0.10202002459160373,\n",
       " 'high school': 0.172352011241876,\n",
       " 'more than high school but not college': 0.24588090637625154,\n",
       " 'college': 0.47974705779026877}"
      ]
     },
     "execution_count": 3,
     "metadata": {},
     "output_type": "execute_result"
    }
   ],
   "source": [
    "'''Write a function called proportion_of_education which returns the proportion of children in the dataset who had a mother with the education levels equal to less than high school (<12), high school (12), more than high school but not a college graduate (>12) and college degree.\n",
    "\n",
    "This function should return a dictionary in the form of (use the correct numbers, do not round numbers):\n",
    "\n",
    "    {\"less than high school\":0.2,\n",
    "    \"high school\":0.4,\n",
    "    \"more than high school but not college\":0.2,\n",
    "    \"college\":0.2}\n",
    "'''\n",
    "\n",
    "def proportion_of_education():\n",
    "    df = pd.read_csv(\"datasets/NISPUF17.csv\",index_col=0)\n",
    "\n",
    "    less_than_high_school = (df[\"EDUC1\"] == 1)\n",
    "    high_school = (df[\"EDUC1\"] == 2)\n",
    "    more_than_high_school_but_not_college = (df[\"EDUC1\"] == 3)\n",
    "    college = (df[\"EDUC1\"] == 4)\n",
    "\n",
    "    answer_set = {}\n",
    "    answer_set[\"less than high school\"] = len(df[less_than_high_school]) / len(df) \n",
    "    answer_set[\"high school\"] = len(df[high_school]) / len(df) \n",
    "    answer_set[\"more than high school but not college\"] = len(df[more_than_high_school_but_not_college]) / len(df) \n",
    "    answer_set[\"college\"] = len(df[college]) / len(df) \n",
    "\n",
    "    answer_set\n",
    "    \n",
    "    return answer_set\n",
    "proportion_of_education()"
   ]
  },
  {
   "cell_type": "markdown",
   "metadata": {},
   "source": [
    "# Question 2"
   ]
  },
  {
   "cell_type": "code",
   "execution_count": 37,
   "metadata": {},
   "outputs": [
    {
     "data": {
      "text/plain": [
       "(1.8799187420058687, 1.5963945918878317)"
      ]
     },
     "execution_count": 37,
     "metadata": {},
     "output_type": "execute_result"
    }
   ],
   "source": [
    "# Return a tuple of the average number of influenza vaccines for those children we know received breastmilk as a child and those who know did not.\n",
    "## CBF_01  -> Breastfeeding variable.\n",
    "## P_NUMFLU -> Doses of seasonal influenza\n",
    "import numpy as np\n",
    "\n",
    "def average_influenza_doses():\n",
    "\n",
    "    received_breastmilk = (df[\"CBF_01\"] == 1)\n",
    "    didnot_received_breastmilk = (df[\"CBF_01\"] == 2)\n",
    "\n",
    "    tot_breastfed = len(df[received_breastmilk][\"P_NUMFLU\"].dropna())\n",
    "    tot_not_breastfed = len(df[didnot_received_breastmilk][\"P_NUMFLU\"].dropna())\n",
    "\n",
    "    tot_vac_for_breastfed = np.sum(df[received_breastmilk][\"P_NUMFLU\"])\n",
    "    tot_vac_fornot_breastfed = np.sum(df[didnot_received_breastmilk][\"P_NUMFLU\"])\n",
    "\n",
    "    tpl = (tot_vac_for_breastfed/tot_breastfed,tot_vac_fornot_breastfed/tot_not_breastfed)\n",
    "    tpl\n",
    "    return tpl\n",
    "\n",
    "average_influenza_doses()"
   ]
  },
  {
   "cell_type": "markdown",
   "metadata": {},
   "source": [
    "# Question 3"
   ]
  },
  {
   "cell_type": "code",
   "execution_count": 5,
   "metadata": {},
   "outputs": [
    {
     "data": {
      "text/plain": [
       "{'male': 0.009675583380762664, 'female': 0.0077918259335489565}"
      ]
     },
     "execution_count": 5,
     "metadata": {},
     "output_type": "execute_result"
    }
   ],
   "source": [
    "# Calculate the ratio of the number of children who contracted chickenpox but were vaccinated against it (at least one varicella dose) versus those who were vaccinated but did not contract chicken pox. \n",
    "# Return results by sex.\n",
    "## P_NUMVRC – total number of varicella doses\n",
    "## HAD_CPOX - boolean chickenpox filter. 1 is YES. 2 is NO.\n",
    "## SEX – sex of child. 1 for male. 2 for female.\n",
    "\n",
    "\n",
    "hadcpox_vac_male_mask = (df[\"P_NUMVRC\"] > 0) & (df[\"HAD_CPOX\"] == 1) & (df[\"SEX\"] == 1)\n",
    "nothadcpox_vac_male_mask = (df[\"P_NUMVRC\"] > 0) & (df[\"HAD_CPOX\"] == 2) & (df[\"SEX\"] == 1)\n",
    "hadcpox_vac_female_mask = (df[\"P_NUMVRC\"] > 0) & (df[\"HAD_CPOX\"] == 1) & (df[\"SEX\"] == 2)\n",
    "nothadcpox_vac_female_mask = (df[\"P_NUMVRC\"] > 0) & (df[\"HAD_CPOX\"] == 2) & (df[\"SEX\"] == 2)\n",
    "\n",
    "dic = {\"male\":len(df[hadcpox_vac_male_mask])/len(df[nothadcpox_vac_male_mask]),\n",
    "      \"female\":len(df[hadcpox_vac_female_mask])/len(df[nothadcpox_vac_female_mask])}\n",
    "dic"
   ]
  },
  {
   "cell_type": "markdown",
   "metadata": {},
   "source": [
    "# Question 4"
   ]
  },
  {
   "cell_type": "code",
   "execution_count": 80,
   "metadata": {},
   "outputs": [
    {
     "data": {
      "text/plain": [
       "0.07044873460147864"
      ]
     },
     "execution_count": 80,
     "metadata": {},
     "output_type": "execute_result"
    }
   ],
   "source": [
    " #In this question, you are to see if there is a correlation between having had the chicken pox and the number of chickenpox vaccine doses given \n",
    "# filters: Delete all NaNs from P_NUMVRC ; Delete all 77,99 from HAD_CPOX\n",
    "# pd.notnull is a mask to exclude nans from a dataframe\n",
    "\n",
    "import scipy.stats as stats\n",
    "\n",
    "filter_mask = (df[\"HAD_CPOX\"] != 77) & (df[\"HAD_CPOX\"] != 99) & (pd.notnull(df[\"P_NUMVRC\"]))\n",
    "\n",
    "corr, pval=stats.pearsonr(df[filter_mask][\"HAD_CPOX\"],df[filter_mask][\"P_NUMVRC\"])\n",
    "corr"
   ]
  },
  {
   "cell_type": "code",
   "execution_count": null,
   "metadata": {},
   "outputs": [],
   "source": []
  }
 ],
 "metadata": {
  "kernelspec": {
   "display_name": "Python 3",
   "language": "python",
   "name": "python3"
  },
  "language_info": {
   "codemirror_mode": {
    "name": "ipython",
    "version": 3
   },
   "file_extension": ".py",
   "mimetype": "text/x-python",
   "name": "python",
   "nbconvert_exporter": "python",
   "pygments_lexer": "ipython3",
   "version": "3.8.5"
  }
 },
 "nbformat": 4,
 "nbformat_minor": 4
}
