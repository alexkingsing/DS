{
 "cells": [
  {
   "cell_type": "markdown",
   "metadata": {},
   "source": [
    "# Pandas"
   ]
  },
  {
   "cell_type": "markdown",
   "metadata": {},
   "source": [
    "## Intro to Pandas"
   ]
  },
  {
   "cell_type": "code",
   "execution_count": 2,
   "metadata": {},
   "outputs": [],
   "source": [
    "import pandas as pd\n",
    "import numpy as np"
   ]
  },
  {
   "cell_type": "code",
   "execution_count": 2,
   "metadata": {},
   "outputs": [
    {
     "data": {
      "text/plain": [
       "0       Papa\n",
       "1       Mama\n",
       "2    Jessica\n",
       "dtype: object"
      ]
     },
     "execution_count": 2,
     "metadata": {},
     "output_type": "execute_result"
    }
   ],
   "source": [
    "# Passing a list of strings to panda.\n",
    "# Creates a one-dimensional array / series. If an index (key) is not provided, pandas automatically creates a numbered index.\n",
    "names = [\"Papa\",\"Mama\",\"Jessica\"]\n",
    "series1 = pd.Series(names)\n",
    "series1"
   ]
  },
  {
   "cell_type": "code",
   "execution_count": 3,
   "metadata": {},
   "outputs": [
    {
     "data": {
      "text/plain": [
       "0       Papa\n",
       "1       Mama\n",
       "2    Jessica\n",
       "3       None\n",
       "dtype: object"
      ]
     },
     "execution_count": 3,
     "metadata": {},
     "output_type": "execute_result"
    }
   ],
   "source": [
    "# None values are not altered but are instead stored as-is\n",
    "names = [\"Papa\",\"Mama\",\"Jessica\",None]\n",
    "series1 = pd.Series(names)\n",
    "series1"
   ]
  },
  {
   "cell_type": "code",
   "execution_count": 4,
   "metadata": {},
   "outputs": [
    {
     "data": {
      "text/plain": [
       "0    1.0\n",
       "1    2.0\n",
       "2    5.0\n",
       "3    6.0\n",
       "4    NaN\n",
       "dtype: float64"
      ]
     },
     "execution_count": 4,
     "metadata": {},
     "output_type": "execute_result"
    }
   ],
   "source": [
    "# Passing a list of numbers to panda.\n",
    "# Creates a one-dimensional array / series. If an index (key) is not provided, pandas automatically creates a numbered index.\n",
    "# None values, unlike in strings, are modified into NaN (Not a Number) values which are, mentally the same as None, BUT ARE NOT THE SAME TO NONE.\n",
    "numbers = [1,2,5,6,None]\n",
    "series2 = pd.Series(numbers)\n",
    "series2"
   ]
  },
  {
   "cell_type": "code",
   "execution_count": 6,
   "metadata": {},
   "outputs": [
    {
     "data": {
      "text/plain": [
       "False"
      ]
     },
     "execution_count": 6,
     "metadata": {},
     "output_type": "execute_result"
    }
   ],
   "source": [
    "# Nan cannot be evaluated and compared with None\n",
    "np.nan == None"
   ]
  },
  {
   "cell_type": "code",
   "execution_count": 7,
   "metadata": {},
   "outputs": [
    {
     "data": {
      "text/plain": [
       "True"
      ]
     },
     "execution_count": 7,
     "metadata": {},
     "output_type": "execute_result"
    }
   ],
   "source": [
    "# Nan can only be evaluated via a special funcion\n",
    "np.isnan(np.nan)"
   ]
  },
  {
   "cell_type": "code",
   "execution_count": 8,
   "metadata": {},
   "outputs": [
    {
     "data": {
      "text/plain": [
       "Valentina    Matematicas\n",
       "Diego            Idiomas\n",
       "Alejandro       Religion\n",
       "dtype: object"
      ]
     },
     "execution_count": 8,
     "metadata": {},
     "output_type": "execute_result"
    }
   ],
   "source": [
    "# Data can be loaded with indices if its through a dictionary\n",
    "\n",
    "sobrinos = {\"Valentina\":\"Matematicas\",\"Diego\":\"Idiomas\",\"Alejandro\":\"Religion\"}\n",
    "series3 = pd.Series(sobrinos)\n",
    "series3"
   ]
  },
  {
   "cell_type": "code",
   "execution_count": 3,
   "metadata": {},
   "outputs": [
    {
     "data": {
      "text/plain": [
       "Valentina    Matematica\n",
       "Diego           Idiomas\n",
       "Alejandro      Religion\n",
       "dtype: object"
      ]
     },
     "execution_count": 3,
     "metadata": {},
     "output_type": "execute_result"
    }
   ],
   "source": [
    "# Indeces can also be added manually as an argument to the constructor function with index=\n",
    "\n",
    "clases = [\"Matematica\",\"Idiomas\",\"Religion\"]\n",
    "series4 = pd.Series(clases,index=[\"Valentina\",\"Diego\",\"Alejandro\"])\n",
    "series4"
   ]
  },
  {
   "cell_type": "code",
   "execution_count": 12,
   "metadata": {},
   "outputs": [
    {
     "data": {
      "text/plain": [
       "Valentina    Matematicas\n",
       "Diego            Idiomas\n",
       "Clara                NaN\n",
       "dtype: object"
      ]
     },
     "execution_count": 12,
     "metadata": {},
     "output_type": "execute_result"
    }
   ],
   "source": [
    "# Creating a series from a dictionary normally uses the keys and the indeces, but you can also send indeces explicitly.\n",
    "# If an explicitly sent index is NOT in the dictionary, pandas fills the voids with NaN\n",
    "\n",
    "sobrinos = {\"Valentina\":\"Matematicas\",\"Diego\":\"Idiomas\",\"Alejandro\":\"Religion\"}\n",
    "series5 = pd.Series(sobrinos,index=[\"Valentina\",\"Diego\",\"Clara\"])\n",
    "series5"
   ]
  },
  {
   "cell_type": "markdown",
   "metadata": {},
   "source": [
    "## Querying Series"
   ]
  },
  {
   "cell_type": "code",
   "execution_count": 13,
   "metadata": {},
   "outputs": [
    {
     "data": {
      "text/plain": [
       "Index(['Valentina', 'Diego', 'Clara'], dtype='object')"
      ]
     },
     "execution_count": 13,
     "metadata": {},
     "output_type": "execute_result"
    }
   ],
   "source": [
    "# Index attribute returns the index section of the series\n",
    "\n",
    "series5.index"
   ]
  },
  {
   "cell_type": "code",
   "execution_count": 16,
   "metadata": {},
   "outputs": [
    {
     "data": {
      "text/plain": [
       "'Matematicas'"
      ]
     },
     "execution_count": 16,
     "metadata": {},
     "output_type": "execute_result"
    }
   ],
   "source": [
    "# A series can queried via the index OR a positional argument using LOC and ILOC.\n",
    "# LOC and ILOC are METHODS, not FUNCTIONS. They use slicing notation [] not ().\n",
    "# To query a series with an index, we use LOC.\n",
    "series5.loc[\"Valentina\"]"
   ]
  },
  {
   "cell_type": "code",
   "execution_count": 19,
   "metadata": {},
   "outputs": [
    {
     "data": {
      "text/plain": [
       "'Idiomas'"
      ]
     },
     "execution_count": 19,
     "metadata": {},
     "output_type": "execute_result"
    }
   ],
   "source": [
    "# To query a series with a positional argument, we use ILOC\n",
    "series5.iloc[1]"
   ]
  },
  {
   "cell_type": "code",
   "execution_count": 22,
   "metadata": {},
   "outputs": [
    {
     "data": {
      "text/plain": [
       "Valentina    Matematicas\n",
       "Diego            Idiomas\n",
       "Clara                NaN\n",
       "Tia                 Yoga\n",
       "dtype: object"
      ]
     },
     "execution_count": 22,
     "metadata": {},
     "output_type": "execute_result"
    }
   ],
   "source": [
    "# We can also add an element to a series with LOC, an Index AND the value. AS IF IT WAS A DICTIONARY.\n",
    "series5.loc[\"Tia\"] = \"Yoga\"\n",
    "series5"
   ]
  },
  {
   "cell_type": "markdown",
   "metadata": {},
   "source": [
    "## Operations in Series"
   ]
  },
  {
   "cell_type": "code",
   "execution_count": 23,
   "metadata": {},
   "outputs": [
    {
     "data": {
      "text/plain": [
       "220"
      ]
     },
     "execution_count": 23,
     "metadata": {},
     "output_type": "execute_result"
    }
   ],
   "source": [
    "# Finding the sum of a series can be do programatically, but this can be inefficient and slow.\n",
    "\n",
    "values = [100,50,70]\n",
    "ser = pd.Series(values)\n",
    "summ = 0\n",
    "for value in ser:\n",
    "    summ += value\n",
    "summ"
   ]
  },
  {
   "cell_type": "code",
   "execution_count": 25,
   "metadata": {},
   "outputs": [
    {
     "data": {
      "text/plain": [
       "220"
      ]
     },
     "execution_count": 25,
     "metadata": {},
     "output_type": "execute_result"
    }
   ],
   "source": [
    "# A much more efficient method is to use numpy methods/functions which are optimized, for example, numpy's SUM.\n",
    "\n",
    "summ = np.sum(ser)\n",
    "summ"
   ]
  },
  {
   "cell_type": "markdown",
   "metadata": {},
   "source": [
    "## Manipulating Series"
   ]
  },
  {
   "cell_type": "code",
   "execution_count": 26,
   "metadata": {},
   "outputs": [
    {
     "data": {
      "text/plain": [
       "0    100\n",
       "1     50\n",
       "2     70\n",
       "dtype: int64"
      ]
     },
     "execution_count": 26,
     "metadata": {},
     "output_type": "execute_result"
    }
   ],
   "source": [
    "# A series values can be modified directly by using operations on the series itself. This is called broadcating.\n",
    "ser"
   ]
  },
  {
   "cell_type": "code",
   "execution_count": 27,
   "metadata": {},
   "outputs": [
    {
     "data": {
      "text/plain": [
       "0    102\n",
       "1     52\n",
       "2     72\n",
       "dtype: int64"
      ]
     },
     "execution_count": 27,
     "metadata": {},
     "output_type": "execute_result"
    }
   ],
   "source": [
    "ser +=2\n",
    "ser"
   ]
  },
  {
   "cell_type": "code",
   "execution_count": 28,
   "metadata": {},
   "outputs": [
    {
     "data": {
      "text/plain": [
       "0    104\n",
       "1     54\n",
       "2     74\n",
       "dtype: int64"
      ]
     },
     "execution_count": 28,
     "metadata": {},
     "output_type": "execute_result"
    }
   ],
   "source": [
    "# Programatically, this can be done with the iteritems method (ALMOST LIKE A DICTIONARY) to unpack and the at() moethod.\n",
    "\n",
    "for index,value in ser.iteritems():\n",
    "    ser.at[index]=value+2\n",
    "ser"
   ]
  },
  {
   "cell_type": "code",
   "execution_count": 29,
   "metadata": {},
   "outputs": [
    {
     "data": {
      "text/plain": [
       "Vale    1\n",
       "Vale    5\n",
       "Vale    9\n",
       "dtype: int64"
      ]
     },
     "execution_count": 29,
     "metadata": {},
     "output_type": "execute_result"
    }
   ],
   "source": [
    "# A series can be created with the same index for multiples values.\n",
    "valores = [1,5,9]\n",
    "series6 = pd.Series(valores,index=[\"Vale\",\"Vale\",\"Vale\"])\n",
    "series6"
   ]
  },
  {
   "cell_type": "code",
   "execution_count": 31,
   "metadata": {},
   "outputs": [
    {
     "data": {
      "text/plain": [
       "Valentina    Matematicas\n",
       "Diego            Idiomas\n",
       "Clara                NaN\n",
       "Tia                 Yoga\n",
       "Vale                   1\n",
       "Vale                   5\n",
       "Vale                   9\n",
       "dtype: object"
      ]
     },
     "execution_count": 31,
     "metadata": {},
     "output_type": "execute_result"
    }
   ],
   "source": [
    "# A series can be appended to a different series to \"concatenate it\" however unlike lists, this is NOT in-plae, it must be assigned.\n",
    "series7= series5.append(series6)\n",
    "series7"
   ]
  },
  {
   "cell_type": "code",
   "execution_count": 32,
   "metadata": {},
   "outputs": [
    {
     "data": {
      "text/plain": [
       "Vale    1\n",
       "Vale    5\n",
       "Vale    9\n",
       "dtype: object"
      ]
     },
     "execution_count": 32,
     "metadata": {},
     "output_type": "execute_result"
    }
   ],
   "source": [
    "# If an index repeats in a series and is searched for, the result is not a value, but a series\n",
    "series7.loc[\"Vale\"]"
   ]
  },
  {
   "cell_type": "code",
   "execution_count": 34,
   "metadata": {},
   "outputs": [
    {
     "data": {
      "text/plain": [
       "5"
      ]
     },
     "execution_count": 34,
     "metadata": {},
     "output_type": "execute_result"
    }
   ],
   "source": [
    "series7.loc[\"Vale\"].iloc[1]"
   ]
  },
  {
   "cell_type": "code",
   "execution_count": null,
   "metadata": {},
   "outputs": [],
   "source": []
  }
 ],
 "metadata": {
  "kernelspec": {
   "display_name": "Python 3",
   "language": "python",
   "name": "python3"
  },
  "language_info": {
   "codemirror_mode": {
    "name": "ipython",
    "version": 3
   },
   "file_extension": ".py",
   "mimetype": "text/x-python",
   "name": "python",
   "nbconvert_exporter": "python",
   "pygments_lexer": "ipython3",
   "version": "3.8.5"
  }
 },
 "nbformat": 4,
 "nbformat_minor": 4
}
