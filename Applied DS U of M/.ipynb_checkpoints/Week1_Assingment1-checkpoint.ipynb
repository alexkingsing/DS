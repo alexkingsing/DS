{
 "cells": [
  {
   "cell_type": "markdown",
   "metadata": {},
   "source": [
    "# This Notebook is for general practice and exercises related to University of Michigan's Applied Data Science specialization\n",
    "## This noteboook contains:\n",
    "\n",
    "#### --ASSIGNMENT 1, WEEK 1"
   ]
  },
  {
   "cell_type": "raw",
   "metadata": {},
   "source": []
  },
  {
   "cell_type": "markdown",
   "metadata": {},
   "source": [
    "# Assignment 1"
   ]
  },
  {
   "cell_type": "markdown",
   "metadata": {},
   "source": [
    "## TEST"
   ]
  },
  {
   "cell_type": "code",
   "execution_count": 6,
   "metadata": {},
   "outputs": [
    {
     "data": {
      "text/plain": [
       "5"
      ]
     },
     "execution_count": 6,
     "metadata": {},
     "output_type": "execute_result"
    }
   ],
   "source": [
    "example_string = \"Amy is 5 years old\"\n",
    "\n",
    "def example_word_count(string):\n",
    "    # This example question requires counting words in the example_string below.\n",
    "    \n",
    "    # YOUR CODE HERE.\n",
    "    # You should write your solution here, and return your result, you can comment out or delete the\n",
    "    # NotImplementedError below.\n",
    "    result = example_string.split(\" \")\n",
    "    return len(result)\n",
    "\n",
    "example_word_count(example_string)"
   ]
  },
  {
   "cell_type": "markdown",
   "metadata": {},
   "source": [
    "## PART A"
   ]
  },
  {
   "cell_type": "code",
   "execution_count": 7,
   "metadata": {},
   "outputs": [
    {
     "data": {
      "text/plain": [
       "['Amy', 'Mary', 'Ruth', 'Peter']"
      ]
     },
     "execution_count": 7,
     "metadata": {},
     "output_type": "execute_result"
    }
   ],
   "source": [
    "#Find a list of all of the names in the following string using regex.\n",
    "\n",
    "import re\n",
    "def names():\n",
    "    simple_string = \"\"\"Amy is 5 years old, and her sister Mary is 2 years old. \n",
    "    Ruth and Peter, their parents, have 3 kids.\"\"\"\n",
    "\n",
    "    list = re.findall(\"Amy|Mary|Ruth|Peter\",simple_string)\n",
    "    \n",
    "    \n",
    "    return list\n",
    "names()"
   ]
  },
  {
   "cell_type": "markdown",
   "metadata": {},
   "source": [
    "## PART B"
   ]
  },
  {
   "cell_type": "code",
   "execution_count": 13,
   "metadata": {},
   "outputs": [
    {
     "data": {
      "text/plain": [
       "['Bell Kassulke',\n",
       " 'Simon Loidl',\n",
       " 'Elias Jovanovic',\n",
       " 'Hakim Botros',\n",
       " 'Emilie Lorentsen',\n",
       " 'Jake Wood',\n",
       " 'Fatemeh Akhtar',\n",
       " 'Kim Weston',\n",
       " 'Yasmin Dar',\n",
       " 'Viswamitra Upandhye',\n",
       " 'Killian Kaufman',\n",
       " 'Elwood Page',\n",
       " 'Elodie Booker',\n",
       " 'Adnan Chen',\n",
       " 'Hank Spinka',\n",
       " 'Hannah Bayer']"
      ]
     },
     "execution_count": 13,
     "metadata": {},
     "output_type": "execute_result"
    }
   ],
   "source": [
    "# Create a regex to generate a list of just those students who received a B in the course.\n",
    "\n",
    "text='''\n",
    "Ronald Mayr: A\n",
    "Bell Kassulke: B\n",
    "Jacqueline Rupp: A \n",
    "Alexander Zeller: C\n",
    "Valentina Denk: C \n",
    "Simon Loidl: B \n",
    "Elias Jovanovic: B \n",
    "Stefanie Weninger: A \n",
    "Fabian Peer: C \n",
    "Hakim Botros: B\n",
    "Emilie Lorentsen: B\n",
    "Herman Karlsen: C\n",
    "Nathalie Delacruz: C\n",
    "Casey Hartman: C\n",
    "Lily Walker : A\n",
    "Gerard Wang: C\n",
    "Tony Mcdowell: C\n",
    "Jake Wood: B\n",
    "Fatemeh Akhtar: B\n",
    "Kim Weston: B\n",
    "Nicholas Beatty: A\n",
    "Kirsten Williams: C\n",
    "Vaishali Surana: C\n",
    "Coby Mccormack: C\n",
    "Yasmin Dar: B\n",
    "Romy Donnelly: A\n",
    "Viswamitra Upandhye: B\n",
    "Kendrick Hilpert: A\n",
    "Killian Kaufman: B\n",
    "Elwood Page: B\n",
    "Mukti Patel: A\n",
    "Emily Lesch: C\n",
    "Elodie Booker: B\n",
    "Jedd Kim: A\n",
    "Annabel Davies: A\n",
    "Adnan Chen: B\n",
    "Jonathan Berg: C\n",
    "Hank Spinka: B\n",
    "Agnes Schneider: C\n",
    "Kimberly Green: A\n",
    "Lola-Rose Coates: C\n",
    "Rose Christiansen: C\n",
    "Shirley Hintz: C\n",
    "Hannah Bayer: B\n",
    "'''\n",
    "\n",
    "import re\n",
    "def grades(string):\n",
    "    #REGEX: Find ONE OR MORE letters , followed by WHITESPACE, followed by ONE OR MORE letters. Followed by a double-dot and a B.\n",
    "    student_names = re.findall(\"(\\w*\\s\\w*): B\",string)\n",
    "    return student_names\n",
    "grades(text)"
   ]
  },
  {
   "cell_type": "markdown",
   "metadata": {},
   "source": [
    "## PART C"
   ]
  },
  {
   "cell_type": "code",
   "execution_count": 112,
   "metadata": {},
   "outputs": [
    {
     "data": {
      "text/plain": [
       "[{'host': '146.204.224.152',\n",
       "  'user_name': 'feest6811',\n",
       "  'time': '21/Jun/2019:15:45:24 -0700',\n",
       "  'request': 'POST /incentivize HTTP/1.1'}]"
      ]
     },
     "execution_count": 112,
     "metadata": {},
     "output_type": "execute_result"
    }
   ],
   "source": [
    "'''\n",
    "This file records the access a user makes when visiting a web page (like this one!). Each line of the log has the following items:\n",
    "\n",
    "a host (e.g., '146.204.224.152')\n",
    "a user_name (e.g., 'feest6811' note: sometimes the user name is missing! In this case, use '-' as the value for the username.)\n",
    "the time a request was made (e.g., '21/Jun/2019:15:45:24 -0700')\n",
    "the post request type (e.g., 'POST /incentivize HTTP/1.1' note: not everything is a POST!)\n",
    "Your task is to convert this into a list of dictionaries, where each dictionary looks like the following:\n",
    "\n",
    "example_dict = {\"host\":\"146.204.224.152\", \n",
    "                \"user_name\":\"feest6811\", \n",
    "                \"time\":\"21/Jun/2019:15:45:24 -0700\",\n",
    "                \"request\":\"POST /incentivize HTTP/1.1\"}\n",
    "'''\n",
    "\n",
    "text = '''\n",
    "146.204.224.152 - feest6811 [21/Jun/2019:15:45:24 -0700] \"POST /incentivize HTTP/1.1\" 302 4622\n",
    "'''\n",
    "\n",
    "import re\n",
    "def logs(string):\n",
    "    lst_of_dics = []\n",
    "    \n",
    "    results = re.findall(\"(\\d{1,3}.\\d{1,3}.\\d{1,3}.\\d{1,3}) - (.*?) (.*) (\\\".*\\\")\",string)\n",
    "    for tupl in results:\n",
    "            dic = dict()\n",
    "            dic[\"host\"] = tupl[0]\n",
    "            dic[\"user_name\"] = tupl[1]\n",
    "            dic[\"time\"] = tupl[2].replace(\"[\",\"\").replace(\"]\",\"\")\n",
    "            dic[\"request\"] = tupl[3].replace('\"','')\n",
    "            \n",
    "            lst_of_dics.append(dic)\n",
    "    \n",
    "    return lst_of_dics\n",
    "logs(text)"
   ]
  },
  {
   "cell_type": "code",
   "execution_count": 113,
   "metadata": {},
   "outputs": [
    {
     "name": "stdout",
     "output_type": "stream",
     "text": [
      "True\n",
      "True\n",
      "True\n",
      "True\n"
     ]
    }
   ],
   "source": [
    "example_dict = {\"host\":\"146.204.224.152\", \n",
    "                \"user_name\":\"feest6811\", \n",
    "                \"time\":\"21/Jun/2019:15:45:24 -0700\",\n",
    "                \"request\":\"POST /incentivize HTTP/1.1\"}\n",
    "\n",
    "for element in logs(text):\n",
    "    for key in element:\n",
    "        print(element[key] in example_dict.values())"
   ]
  },
  {
   "cell_type": "code",
   "execution_count": null,
   "metadata": {},
   "outputs": [],
   "source": []
  }
 ],
 "metadata": {
  "kernelspec": {
   "display_name": "Python 3",
   "language": "python",
   "name": "python3"
  },
  "language_info": {
   "codemirror_mode": {
    "name": "ipython",
    "version": 3
   },
   "file_extension": ".py",
   "mimetype": "text/x-python",
   "name": "python",
   "nbconvert_exporter": "python",
   "pygments_lexer": "ipython3",
   "version": "3.8.5"
  }
 },
 "nbformat": 4,
 "nbformat_minor": 4
}
