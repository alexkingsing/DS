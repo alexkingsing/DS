{
 "cells": [
  {
   "cell_type": "code",
   "execution_count": 1,
   "metadata": {},
   "outputs": [],
   "source": [
    "import numpy as np\n",
    "import pandas as pd\n"
   ]
  },
  {
   "cell_type": "markdown",
   "metadata": {},
   "source": [
    "# Question 1"
   ]
  },
  {
   "cell_type": "code",
   "execution_count": 2,
   "metadata": {},
   "outputs": [
    {
     "data": {
      "text/plain": [
       "'Question 1\\nLoad the energy data from the file assets/Energy Indicators.xls, which is a list of indicators of energy supply and renewable electricity production from the United Nations for the year 2013, and should be put into a DataFrame with the variable name of Energy.\\n\\nKeep in mind that this is an Excel file, and not a comma separated values file. Also, make sure to exclude the footer and header information from the datafile. The first two columns are unneccessary, so you should get rid of them, and you should change the column labels so that the columns are:\\n\\n[\\'Country\\', \\'Energy Supply\\', \\'Energy Supply per Capita\\', \\'% Renewable]\\n\\nConvert Energy Supply to gigajoules (Note: there are 1,000,000 gigajoules in a petajoule). For all countries which have missing data (e.g. data with \"...\") make sure this is reflected as np.NaN values.\\n\\nRename the following list of countries (for use in later questions):\\n\\n\"Republic of Korea\": \"South Korea\",\\n\"United States of America\": \"United States\",\\n\"United Kingdom of Great Britain and Northern Ireland\": \"United Kingdom\",\\n\"China, Hong Kong Special Administrative Region\": \"Hong Kong\"\\n\\nThere are also several countries with numbers and/or parenthesis in their name. Be sure to remove these, e.g. \\'Bolivia (Plurinational State of)\\' should be \\'Bolivia\\'. \\'Switzerland17\\' should be \\'Switzerland\\'.\\n\\nNext, load the GDP data from the file assets/world_bank.csv, which is a csv containing countries\\' GDP from 1960 to 2015 from World Bank. Call this DataFrame GDP.\\n\\nMake sure to skip the header, and rename the following list of countries:\\n\\n\"Korea, Rep.\": \"South Korea\", \\n\"Iran, Islamic Rep.\": \"Iran\",\\n\"Hong Kong SAR, China\": \"Hong Kong\"\\n\\nFinally, load the Sciamgo Journal and Country Rank data for Energy Engineering and Power Technology from the file assets/scimagojr-3.xlsx, which ranks countries based on their journal contributions in the aforementioned area. Call this DataFrame ScimEn.\\n\\nJoin the three datasets: GDP, Energy, and ScimEn into a new dataset (using the intersection of country names). Use only the last 10 years (2006-2015) of GDP data and only the top 15 countries by Scimagojr \\'Rank\\' (Rank 1 through 15).\\n\\nThe index of this DataFrame should be the name of the country, and the columns should be [\\'Rank\\', \\'Documents\\', \\'Citable documents\\', \\'Citations\\', \\'Self-citations\\', \\'Citations per document\\', \\'H index\\', \\'Energy Supply\\', \\'Energy Supply per Capita\\', \\'% Renewable\\', \\'2006\\', \\'2007\\', \\'2008\\', \\'2009\\', \\'2010\\', \\'2011\\', \\'2012\\', \\'2013\\', \\'2014\\', \\'2015\\'].\\n\\nThis function should return a DataFrame with 20 columns and 15 entries, and the rows of the DataFrame should be sorted by \"Rank\".\\n'"
      ]
     },
     "execution_count": 2,
     "metadata": {},
     "output_type": "execute_result"
    }
   ],
   "source": [
    "'''Question 1\n",
    "Load the energy data from the file assets/Energy Indicators.xls, which is a list of indicators of energy supply and renewable electricity production from the United Nations for the year 2013, and should be put into a DataFrame with the variable name of Energy.\n",
    "\n",
    "Keep in mind that this is an Excel file, and not a comma separated values file. Also, make sure to exclude the footer and header information from the datafile. The first two columns are unneccessary, so you should get rid of them, and you should change the column labels so that the columns are:\n",
    "\n",
    "['Country', 'Energy Supply', 'Energy Supply per Capita', '% Renewable]\n",
    "\n",
    "Convert Energy Supply to gigajoules (Note: there are 1,000,000 gigajoules in a petajoule). For all countries which have missing data (e.g. data with \"...\") make sure this is reflected as np.NaN values.\n",
    "\n",
    "Rename the following list of countries (for use in later questions):\n",
    "\n",
    "\"Republic of Korea\": \"South Korea\",\n",
    "\"United States of America\": \"United States\",\n",
    "\"United Kingdom of Great Britain and Northern Ireland\": \"United Kingdom\",\n",
    "\"China, Hong Kong Special Administrative Region\": \"Hong Kong\"\n",
    "\n",
    "There are also several countries with numbers and/or parenthesis in their name. Be sure to remove these, e.g. 'Bolivia (Plurinational State of)' should be 'Bolivia'. 'Switzerland17' should be 'Switzerland'.\n",
    "\n",
    "Next, load the GDP data from the file assets/world_bank.csv, which is a csv containing countries' GDP from 1960 to 2015 from World Bank. Call this DataFrame GDP.\n",
    "\n",
    "Make sure to skip the header, and rename the following list of countries:\n",
    "\n",
    "\"Korea, Rep.\": \"South Korea\", \n",
    "\"Iran, Islamic Rep.\": \"Iran\",\n",
    "\"Hong Kong SAR, China\": \"Hong Kong\"\n",
    "\n",
    "Finally, load the Sciamgo Journal and Country Rank data for Energy Engineering and Power Technology from the file assets/scimagojr-3.xlsx, which ranks countries based on their journal contributions in the aforementioned area. Call this DataFrame ScimEn.\n",
    "\n",
    "Join the three datasets: GDP, Energy, and ScimEn into a new dataset (using the intersection of country names). Use only the last 10 years (2006-2015) of GDP data and only the top 15 countries by Scimagojr 'Rank' (Rank 1 through 15).\n",
    "\n",
    "The index of this DataFrame should be the name of the country, and the columns should be ['Rank', 'Documents', 'Citable documents', 'Citations', 'Self-citations', 'Citations per document', 'H index', 'Energy Supply', 'Energy Supply per Capita', '% Renewable', '2006', '2007', '2008', '2009', '2010', '2011', '2012', '2013', '2014', '2015'].\n",
    "\n",
    "This function should return a DataFrame with 20 columns and 15 entries, and the rows of the DataFrame should be sorted by \"Rank\".\n",
    "'''"
   ]
  },
  {
   "cell_type": "markdown",
   "metadata": {},
   "source": [
    "## Energy Indicators"
   ]
  },
  {
   "cell_type": "code",
   "execution_count": 3,
   "metadata": {},
   "outputs": [],
   "source": [
    "# Header -> sets the \"starting row\" where the reader begins to read. Row (0-indexed) to use for the column labels of the parsed DataFrame. \n",
    "    ## If a list of integers is passed those row positions will be combined into a MultiIndex. \n",
    "# Names -> List of column names to use. If file contains no header row, then you should explicitly pass header=None.\n",
    "# usecols -> If str, then indicates comma separated list of Excel column letters and column ranges (e.g. “A:E” or “A,C,E:F”). Ranges are inclusive of both sides.\n",
    "\n",
    "# dropna deletes all rows with nans\n",
    "\n",
    "energy=pd.read_excel(\"datasets\\Energy Indicators.xls\",\n",
    "                     header=[17],\n",
    "                     names=['Country', 'Energy Supply(PJ)', 'Energy Supply per Capita(GJ)', '% Renewable'],\n",
    "                     usecols=\"C:F\")\n",
    "energy.dropna(inplace=True)"
   ]
  },
  {
   "cell_type": "code",
   "execution_count": 4,
   "metadata": {},
   "outputs": [
    {
     "data": {
      "text/html": [
       "<div>\n",
       "<style scoped>\n",
       "    .dataframe tbody tr th:only-of-type {\n",
       "        vertical-align: middle;\n",
       "    }\n",
       "\n",
       "    .dataframe tbody tr th {\n",
       "        vertical-align: top;\n",
       "    }\n",
       "\n",
       "    .dataframe thead th {\n",
       "        text-align: right;\n",
       "    }\n",
       "</style>\n",
       "<table border=\"1\" class=\"dataframe\">\n",
       "  <thead>\n",
       "    <tr style=\"text-align: right;\">\n",
       "      <th></th>\n",
       "      <th>Country</th>\n",
       "      <th>Energy Supply(PJ)</th>\n",
       "      <th>Energy Supply per Capita(GJ)</th>\n",
       "      <th>% Renewable</th>\n",
       "    </tr>\n",
       "  </thead>\n",
       "  <tbody>\n",
       "    <tr>\n",
       "      <th>0</th>\n",
       "      <td>Afghanistan</td>\n",
       "      <td>321000000</td>\n",
       "      <td>10</td>\n",
       "      <td>78.669280</td>\n",
       "    </tr>\n",
       "    <tr>\n",
       "      <th>1</th>\n",
       "      <td>Albania</td>\n",
       "      <td>102000000</td>\n",
       "      <td>35</td>\n",
       "      <td>100.000000</td>\n",
       "    </tr>\n",
       "    <tr>\n",
       "      <th>2</th>\n",
       "      <td>Algeria</td>\n",
       "      <td>1959000000</td>\n",
       "      <td>51</td>\n",
       "      <td>0.551010</td>\n",
       "    </tr>\n",
       "    <tr>\n",
       "      <th>3</th>\n",
       "      <td>American Samoa</td>\n",
       "      <td>.................................................</td>\n",
       "      <td>...</td>\n",
       "      <td>0.641026</td>\n",
       "    </tr>\n",
       "    <tr>\n",
       "      <th>4</th>\n",
       "      <td>Andorra</td>\n",
       "      <td>9000000</td>\n",
       "      <td>121</td>\n",
       "      <td>88.695650</td>\n",
       "    </tr>\n",
       "    <tr>\n",
       "      <th>5</th>\n",
       "      <td>Angola</td>\n",
       "      <td>642000000</td>\n",
       "      <td>27</td>\n",
       "      <td>70.909090</td>\n",
       "    </tr>\n",
       "    <tr>\n",
       "      <th>6</th>\n",
       "      <td>Anguilla</td>\n",
       "      <td>2000000</td>\n",
       "      <td>136</td>\n",
       "      <td>0.000000</td>\n",
       "    </tr>\n",
       "    <tr>\n",
       "      <th>7</th>\n",
       "      <td>Antigua and Barbuda</td>\n",
       "      <td>8000000</td>\n",
       "      <td>84</td>\n",
       "      <td>0.000000</td>\n",
       "    </tr>\n",
       "    <tr>\n",
       "      <th>8</th>\n",
       "      <td>Argentina</td>\n",
       "      <td>3378000000</td>\n",
       "      <td>79</td>\n",
       "      <td>24.064520</td>\n",
       "    </tr>\n",
       "    <tr>\n",
       "      <th>9</th>\n",
       "      <td>Armenia</td>\n",
       "      <td>143000000</td>\n",
       "      <td>48</td>\n",
       "      <td>28.236060</td>\n",
       "    </tr>\n",
       "    <tr>\n",
       "      <th>10</th>\n",
       "      <td>Aruba</td>\n",
       "      <td>12000000</td>\n",
       "      <td>120</td>\n",
       "      <td>14.870690</td>\n",
       "    </tr>\n",
       "    <tr>\n",
       "      <th>11</th>\n",
       "      <td>Australia1</td>\n",
       "      <td>5386000000</td>\n",
       "      <td>231</td>\n",
       "      <td>11.810810</td>\n",
       "    </tr>\n",
       "    <tr>\n",
       "      <th>12</th>\n",
       "      <td>Austria</td>\n",
       "      <td>1391000000</td>\n",
       "      <td>164</td>\n",
       "      <td>72.452820</td>\n",
       "    </tr>\n",
       "    <tr>\n",
       "      <th>13</th>\n",
       "      <td>Azerbaijan</td>\n",
       "      <td>567000000</td>\n",
       "      <td>60</td>\n",
       "      <td>6.384345</td>\n",
       "    </tr>\n",
       "    <tr>\n",
       "      <th>14</th>\n",
       "      <td>Bahamas</td>\n",
       "      <td>45000000</td>\n",
       "      <td>118</td>\n",
       "      <td>0.000000</td>\n",
       "    </tr>\n",
       "    <tr>\n",
       "      <th>15</th>\n",
       "      <td>Bahrain</td>\n",
       "      <td>574000000</td>\n",
       "      <td>425</td>\n",
       "      <td>0.000000</td>\n",
       "    </tr>\n",
       "    <tr>\n",
       "      <th>16</th>\n",
       "      <td>Bangladesh</td>\n",
       "      <td>1625000000</td>\n",
       "      <td>10</td>\n",
       "      <td>1.966329</td>\n",
       "    </tr>\n",
       "    <tr>\n",
       "      <th>17</th>\n",
       "      <td>Barbados</td>\n",
       "      <td>19000000</td>\n",
       "      <td>69</td>\n",
       "      <td>0.000000</td>\n",
       "    </tr>\n",
       "    <tr>\n",
       "      <th>18</th>\n",
       "      <td>Belarus</td>\n",
       "      <td>1142000000</td>\n",
       "      <td>120</td>\n",
       "      <td>0.463389</td>\n",
       "    </tr>\n",
       "    <tr>\n",
       "      <th>19</th>\n",
       "      <td>Belgium</td>\n",
       "      <td>2338000000</td>\n",
       "      <td>210</td>\n",
       "      <td>9.959739</td>\n",
       "    </tr>\n",
       "  </tbody>\n",
       "</table>\n",
       "</div>"
      ],
      "text/plain": [
       "                Country                                  Energy Supply(PJ)  \\\n",
       "0           Afghanistan                                          321000000   \n",
       "1               Albania                                          102000000   \n",
       "2               Algeria                                         1959000000   \n",
       "3        American Samoa  .................................................   \n",
       "4               Andorra                                            9000000   \n",
       "5                Angola                                          642000000   \n",
       "6              Anguilla                                            2000000   \n",
       "7   Antigua and Barbuda                                            8000000   \n",
       "8             Argentina                                         3378000000   \n",
       "9               Armenia                                          143000000   \n",
       "10                Aruba                                           12000000   \n",
       "11           Australia1                                         5386000000   \n",
       "12              Austria                                         1391000000   \n",
       "13           Azerbaijan                                          567000000   \n",
       "14              Bahamas                                           45000000   \n",
       "15              Bahrain                                          574000000   \n",
       "16           Bangladesh                                         1625000000   \n",
       "17             Barbados                                           19000000   \n",
       "18              Belarus                                         1142000000   \n",
       "19              Belgium                                         2338000000   \n",
       "\n",
       "   Energy Supply per Capita(GJ)  % Renewable  \n",
       "0                            10    78.669280  \n",
       "1                            35   100.000000  \n",
       "2                            51     0.551010  \n",
       "3                           ...     0.641026  \n",
       "4                           121    88.695650  \n",
       "5                            27    70.909090  \n",
       "6                           136     0.000000  \n",
       "7                            84     0.000000  \n",
       "8                            79    24.064520  \n",
       "9                            48    28.236060  \n",
       "10                          120    14.870690  \n",
       "11                          231    11.810810  \n",
       "12                          164    72.452820  \n",
       "13                           60     6.384345  \n",
       "14                          118     0.000000  \n",
       "15                          425     0.000000  \n",
       "16                           10     1.966329  \n",
       "17                           69     0.000000  \n",
       "18                          120     0.463389  \n",
       "19                          210     9.959739  "
      ]
     },
     "execution_count": 4,
     "metadata": {},
     "output_type": "execute_result"
    }
   ],
   "source": [
    "# transforming PJ to GJ through apply and lambda. apply applies the lambda to every row of the resulting series\n",
    "energy['Energy Supply(PJ)'] = energy['Energy Supply(PJ)'].apply(lambda x: x*1000000)\n",
    "energy.head(20)"
   ]
  },
  {
   "cell_type": "code",
   "execution_count": 5,
   "metadata": {},
   "outputs": [],
   "source": [
    "# transforming empty values (\"...\") to nans\n",
    "# using relative positioning energy.iloc[3].loc[\"Energy Supply(PJ)\"] to replace unfilled values\n",
    "energy.replace(energy.iloc[3].loc[\"Energy Supply(PJ)\"], np.nan, inplace=True)"
   ]
  },
  {
   "cell_type": "code",
   "execution_count": 6,
   "metadata": {},
   "outputs": [
    {
     "data": {
      "text/html": [
       "<div>\n",
       "<style scoped>\n",
       "    .dataframe tbody tr th:only-of-type {\n",
       "        vertical-align: middle;\n",
       "    }\n",
       "\n",
       "    .dataframe tbody tr th {\n",
       "        vertical-align: top;\n",
       "    }\n",
       "\n",
       "    .dataframe thead th {\n",
       "        text-align: right;\n",
       "    }\n",
       "</style>\n",
       "<table border=\"1\" class=\"dataframe\">\n",
       "  <thead>\n",
       "    <tr style=\"text-align: right;\">\n",
       "      <th></th>\n",
       "      <th>Country</th>\n",
       "      <th>Energy Supply(GJ)</th>\n",
       "      <th>Energy Supply per Capita(GJ)</th>\n",
       "      <th>% Renewable</th>\n",
       "    </tr>\n",
       "  </thead>\n",
       "  <tbody>\n",
       "    <tr>\n",
       "      <th>0</th>\n",
       "      <td>Afghanistan</td>\n",
       "      <td>3.210000e+08</td>\n",
       "      <td>10</td>\n",
       "      <td>78.669280</td>\n",
       "    </tr>\n",
       "    <tr>\n",
       "      <th>1</th>\n",
       "      <td>Albania</td>\n",
       "      <td>1.020000e+08</td>\n",
       "      <td>35</td>\n",
       "      <td>100.000000</td>\n",
       "    </tr>\n",
       "    <tr>\n",
       "      <th>2</th>\n",
       "      <td>Algeria</td>\n",
       "      <td>1.959000e+09</td>\n",
       "      <td>51</td>\n",
       "      <td>0.551010</td>\n",
       "    </tr>\n",
       "    <tr>\n",
       "      <th>3</th>\n",
       "      <td>American Samoa</td>\n",
       "      <td>NaN</td>\n",
       "      <td>...</td>\n",
       "      <td>0.641026</td>\n",
       "    </tr>\n",
       "    <tr>\n",
       "      <th>4</th>\n",
       "      <td>Andorra</td>\n",
       "      <td>9.000000e+06</td>\n",
       "      <td>121</td>\n",
       "      <td>88.695650</td>\n",
       "    </tr>\n",
       "  </tbody>\n",
       "</table>\n",
       "</div>"
      ],
      "text/plain": [
       "          Country  Energy Supply(GJ) Energy Supply per Capita(GJ)  % Renewable\n",
       "0     Afghanistan       3.210000e+08                           10    78.669280\n",
       "1         Albania       1.020000e+08                           35   100.000000\n",
       "2         Algeria       1.959000e+09                           51     0.551010\n",
       "3  American Samoa                NaN                          ...     0.641026\n",
       "4         Andorra       9.000000e+06                          121    88.695650"
      ]
     },
     "execution_count": 6,
     "metadata": {},
     "output_type": "execute_result"
    }
   ],
   "source": [
    "# replacing column names directly on attribute to better fit new data\n",
    "energy.columns = ['Country', 'Energy Supply(GJ)', 'Energy Supply per Capita(GJ)', '% Renewable']\n",
    "energy.head()"
   ]
  },
  {
   "cell_type": "code",
   "execution_count": 7,
   "metadata": {},
   "outputs": [],
   "source": [
    "# cleaning countries with parenthesis\n",
    "\n",
    "# finding the iloc of the offending countries\n",
    "# this returns a dataframe with the country AND the \"extra part\" with proper labelled columns\n",
    "country_names = energy[\"Country\"].str.extract(\"(?P<Country>.*)(?P<Extra>\\(.*\\))\").dropna()\n",
    "\n",
    "#extracting the index loc from the DF as a list\n",
    "locs = list(country_names.index)\n",
    "\n",
    "# extracting proper names\n",
    "names = list(country_names[\"Country\"])\n",
    "\n",
    "#iterating through index locs list to replace the value\n",
    "i = 0\n",
    "for loc in locs:\n",
    "    energy.loc[loc,[\"Country\"]] = names[i]\n",
    "    i +=1\n"
   ]
  },
  {
   "cell_type": "code",
   "execution_count": 8,
   "metadata": {},
   "outputs": [
    {
     "data": {
      "text/html": [
       "<div>\n",
       "<style scoped>\n",
       "    .dataframe tbody tr th:only-of-type {\n",
       "        vertical-align: middle;\n",
       "    }\n",
       "\n",
       "    .dataframe tbody tr th {\n",
       "        vertical-align: top;\n",
       "    }\n",
       "\n",
       "    .dataframe thead th {\n",
       "        text-align: right;\n",
       "    }\n",
       "</style>\n",
       "<table border=\"1\" class=\"dataframe\">\n",
       "  <thead>\n",
       "    <tr style=\"text-align: right;\">\n",
       "      <th></th>\n",
       "      <th>Country</th>\n",
       "      <th>Energy Supply(GJ)</th>\n",
       "      <th>Energy Supply per Capita(GJ)</th>\n",
       "      <th>% Renewable</th>\n",
       "    </tr>\n",
       "  </thead>\n",
       "  <tbody>\n",
       "    <tr>\n",
       "      <th>24</th>\n",
       "      <td>Bolivia</td>\n",
       "      <td>3.360000e+08</td>\n",
       "      <td>32</td>\n",
       "      <td>31.477120</td>\n",
       "    </tr>\n",
       "    <tr>\n",
       "      <th>70</th>\n",
       "      <td>Falkland Islands</td>\n",
       "      <td>1.000000e+06</td>\n",
       "      <td>258</td>\n",
       "      <td>33.333330</td>\n",
       "    </tr>\n",
       "    <tr>\n",
       "      <th>98</th>\n",
       "      <td>Iran</td>\n",
       "      <td>9.172000e+09</td>\n",
       "      <td>119</td>\n",
       "      <td>5.707721</td>\n",
       "    </tr>\n",
       "    <tr>\n",
       "      <th>133</th>\n",
       "      <td>Micronesia</td>\n",
       "      <td>2.000000e+06</td>\n",
       "      <td>21</td>\n",
       "      <td>2.941176</td>\n",
       "    </tr>\n",
       "    <tr>\n",
       "      <th>183</th>\n",
       "      <td>Sint Maarten</td>\n",
       "      <td>1.200000e+07</td>\n",
       "      <td>327</td>\n",
       "      <td>0.000000</td>\n",
       "    </tr>\n",
       "    <tr>\n",
       "      <th>221</th>\n",
       "      <td>Venezuela</td>\n",
       "      <td>2.871000e+09</td>\n",
       "      <td>95</td>\n",
       "      <td>67.834520</td>\n",
       "    </tr>\n",
       "    <tr>\n",
       "      <th>222</th>\n",
       "      <td>Viet Nam</td>\n",
       "      <td>2.554000e+09</td>\n",
       "      <td>28</td>\n",
       "      <td>45.321520</td>\n",
       "    </tr>\n",
       "  </tbody>\n",
       "</table>\n",
       "</div>"
      ],
      "text/plain": [
       "               Country  Energy Supply(GJ) Energy Supply per Capita(GJ)  \\\n",
       "24            Bolivia        3.360000e+08                           32   \n",
       "70   Falkland Islands        1.000000e+06                          258   \n",
       "98               Iran        9.172000e+09                          119   \n",
       "133        Micronesia        2.000000e+06                           21   \n",
       "183      Sint Maarten        1.200000e+07                          327   \n",
       "221         Venezuela        2.871000e+09                           95   \n",
       "222           Viet Nam       2.554000e+09                           28   \n",
       "\n",
       "     % Renewable  \n",
       "24     31.477120  \n",
       "70     33.333330  \n",
       "98      5.707721  \n",
       "133     2.941176  \n",
       "183     0.000000  \n",
       "221    67.834520  \n",
       "222    45.321520  "
      ]
     },
     "execution_count": 8,
     "metadata": {},
     "output_type": "execute_result"
    }
   ],
   "source": [
    "# verifying elimination fo paranthesis\n",
    "energy.loc[[24,70,98,133,183,221,222]]"
   ]
  },
  {
   "cell_type": "code",
   "execution_count": 9,
   "metadata": {},
   "outputs": [],
   "source": [
    "# cleaning countries with numbers in the name\n",
    "\n",
    "# create a dataframe with country and the digit separated\n",
    "clean_names = energy[\"Country\"].str.extract(\"(?P<Country>.*\\D)(?P<Digit>\\d{1,4})\").dropna()\n",
    "\n",
    "# extracting relevant index locations as a list\n",
    "locs = list(clean_names.index)\n",
    "\n",
    "# extracting proper country names as a list\n",
    "names2 = list(clean_names[\"Country\"])\n",
    "\n",
    "# iterating through index loc to correct\n",
    "i=0\n",
    "for loc in locs:\n",
    "    energy.loc[loc,[\"Country\"]] = names2[i]\n",
    "    i += 1"
   ]
  },
  {
   "cell_type": "code",
   "execution_count": 10,
   "metadata": {},
   "outputs": [
    {
     "data": {
      "text/plain": [
       "'China, Hong Kong Special Administrative Region'"
      ]
     },
     "execution_count": 10,
     "metadata": {},
     "output_type": "execute_result"
    }
   ],
   "source": [
    "energy.loc[43].iloc[0]"
   ]
  },
  {
   "cell_type": "code",
   "execution_count": 11,
   "metadata": {},
   "outputs": [],
   "source": [
    "# replacing countries names as per guidance\n",
    "# passing a dictionary into replace directly transforms a current value (key) into a new value (value)\n",
    "energy.replace({\"Republic of Korea\": \"South Korea\",\n",
    "\"United States of America\": \"United States\",\n",
    "\"United Kingdom of Great Britain and Northern Ireland\": \"United Kingdom\",\n",
    "\"China, Hong Kong Special Administrative Region\": \"Hong Kong\"}, inplace=True)"
   ]
  },
  {
   "cell_type": "code",
   "execution_count": 12,
   "metadata": {},
   "outputs": [
    {
     "data": {
      "text/plain": [
       "'Hong Kong'"
      ]
     },
     "execution_count": 12,
     "metadata": {},
     "output_type": "execute_result"
    }
   ],
   "source": [
    "energy.loc[43].iloc[0]"
   ]
  },
  {
   "cell_type": "code",
   "execution_count": 13,
   "metadata": {},
   "outputs": [],
   "source": [
    "# cleaning spaces on a delinquent row!\n",
    "energy.loc[98,[\"Country\"]] = \"Iran\""
   ]
  },
  {
   "cell_type": "markdown",
   "metadata": {},
   "source": [
    "## GDP Data"
   ]
  },
  {
   "cell_type": "code",
   "execution_count": 14,
   "metadata": {},
   "outputs": [],
   "source": [
    "# Header -> sets the \"starting row\" where the reader begins to read. Row (0-indexed) to use for the column labels of the parsed DataFrame. \n",
    "    ## If a list of integers is passed those row positions will be combined into a MultiIndex. \n",
    "\n",
    "gdp = pd.read_csv(\"datasets\\world_bank.csv\", header=4)\n"
   ]
  },
  {
   "cell_type": "code",
   "execution_count": 15,
   "metadata": {},
   "outputs": [
    {
     "data": {
      "text/html": [
       "<div>\n",
       "<style scoped>\n",
       "    .dataframe tbody tr th:only-of-type {\n",
       "        vertical-align: middle;\n",
       "    }\n",
       "\n",
       "    .dataframe tbody tr th {\n",
       "        vertical-align: top;\n",
       "    }\n",
       "\n",
       "    .dataframe thead th {\n",
       "        text-align: right;\n",
       "    }\n",
       "</style>\n",
       "<table border=\"1\" class=\"dataframe\">\n",
       "  <thead>\n",
       "    <tr style=\"text-align: right;\">\n",
       "      <th></th>\n",
       "      <th>Country</th>\n",
       "      <th>Country Code</th>\n",
       "      <th>Indicator Name</th>\n",
       "      <th>Indicator Code</th>\n",
       "      <th>1960</th>\n",
       "      <th>1961</th>\n",
       "      <th>1962</th>\n",
       "      <th>1963</th>\n",
       "      <th>1964</th>\n",
       "      <th>1965</th>\n",
       "      <th>...</th>\n",
       "      <th>2006</th>\n",
       "      <th>2007</th>\n",
       "      <th>2008</th>\n",
       "      <th>2009</th>\n",
       "      <th>2010</th>\n",
       "      <th>2011</th>\n",
       "      <th>2012</th>\n",
       "      <th>2013</th>\n",
       "      <th>2014</th>\n",
       "      <th>2015</th>\n",
       "    </tr>\n",
       "  </thead>\n",
       "  <tbody>\n",
       "    <tr>\n",
       "      <th>0</th>\n",
       "      <td>Aruba</td>\n",
       "      <td>ABW</td>\n",
       "      <td>GDP at market prices (constant 2010 US$)</td>\n",
       "      <td>NY.GDP.MKTP.KD</td>\n",
       "      <td>NaN</td>\n",
       "      <td>NaN</td>\n",
       "      <td>NaN</td>\n",
       "      <td>NaN</td>\n",
       "      <td>NaN</td>\n",
       "      <td>NaN</td>\n",
       "      <td>...</td>\n",
       "      <td>NaN</td>\n",
       "      <td>NaN</td>\n",
       "      <td>NaN</td>\n",
       "      <td>NaN</td>\n",
       "      <td>2.467704e+09</td>\n",
       "      <td>NaN</td>\n",
       "      <td>NaN</td>\n",
       "      <td>NaN</td>\n",
       "      <td>NaN</td>\n",
       "      <td>NaN</td>\n",
       "    </tr>\n",
       "    <tr>\n",
       "      <th>1</th>\n",
       "      <td>Andorra</td>\n",
       "      <td>AND</td>\n",
       "      <td>GDP at market prices (constant 2010 US$)</td>\n",
       "      <td>NY.GDP.MKTP.KD</td>\n",
       "      <td>NaN</td>\n",
       "      <td>NaN</td>\n",
       "      <td>NaN</td>\n",
       "      <td>NaN</td>\n",
       "      <td>NaN</td>\n",
       "      <td>NaN</td>\n",
       "      <td>...</td>\n",
       "      <td>4.018196e+09</td>\n",
       "      <td>4.021331e+09</td>\n",
       "      <td>3.675728e+09</td>\n",
       "      <td>3.535389e+09</td>\n",
       "      <td>3.346317e+09</td>\n",
       "      <td>3.185605e+09</td>\n",
       "      <td>3.129538e+09</td>\n",
       "      <td>3.127550e+09</td>\n",
       "      <td>NaN</td>\n",
       "      <td>NaN</td>\n",
       "    </tr>\n",
       "    <tr>\n",
       "      <th>2</th>\n",
       "      <td>Afghanistan</td>\n",
       "      <td>AFG</td>\n",
       "      <td>GDP at market prices (constant 2010 US$)</td>\n",
       "      <td>NY.GDP.MKTP.KD</td>\n",
       "      <td>NaN</td>\n",
       "      <td>NaN</td>\n",
       "      <td>NaN</td>\n",
       "      <td>NaN</td>\n",
       "      <td>NaN</td>\n",
       "      <td>NaN</td>\n",
       "      <td>...</td>\n",
       "      <td>1.030523e+10</td>\n",
       "      <td>1.172119e+10</td>\n",
       "      <td>1.214448e+10</td>\n",
       "      <td>1.469733e+10</td>\n",
       "      <td>1.593680e+10</td>\n",
       "      <td>1.691113e+10</td>\n",
       "      <td>1.935220e+10</td>\n",
       "      <td>1.973134e+10</td>\n",
       "      <td>1.999032e+10</td>\n",
       "      <td>2.029415e+10</td>\n",
       "    </tr>\n",
       "    <tr>\n",
       "      <th>3</th>\n",
       "      <td>Angola</td>\n",
       "      <td>AGO</td>\n",
       "      <td>GDP at market prices (constant 2010 US$)</td>\n",
       "      <td>NY.GDP.MKTP.KD</td>\n",
       "      <td>NaN</td>\n",
       "      <td>NaN</td>\n",
       "      <td>NaN</td>\n",
       "      <td>NaN</td>\n",
       "      <td>NaN</td>\n",
       "      <td>NaN</td>\n",
       "      <td>...</td>\n",
       "      <td>5.581103e+10</td>\n",
       "      <td>6.842044e+10</td>\n",
       "      <td>7.787420e+10</td>\n",
       "      <td>7.975320e+10</td>\n",
       "      <td>8.247091e+10</td>\n",
       "      <td>8.570262e+10</td>\n",
       "      <td>9.012096e+10</td>\n",
       "      <td>9.626143e+10</td>\n",
       "      <td>1.008863e+11</td>\n",
       "      <td>1.039106e+11</td>\n",
       "    </tr>\n",
       "    <tr>\n",
       "      <th>4</th>\n",
       "      <td>Albania</td>\n",
       "      <td>ALB</td>\n",
       "      <td>GDP at market prices (constant 2010 US$)</td>\n",
       "      <td>NY.GDP.MKTP.KD</td>\n",
       "      <td>NaN</td>\n",
       "      <td>NaN</td>\n",
       "      <td>NaN</td>\n",
       "      <td>NaN</td>\n",
       "      <td>NaN</td>\n",
       "      <td>NaN</td>\n",
       "      <td>...</td>\n",
       "      <td>9.771760e+09</td>\n",
       "      <td>1.034829e+10</td>\n",
       "      <td>1.112752e+10</td>\n",
       "      <td>1.150029e+10</td>\n",
       "      <td>1.192695e+10</td>\n",
       "      <td>1.223109e+10</td>\n",
       "      <td>1.240477e+10</td>\n",
       "      <td>1.254247e+10</td>\n",
       "      <td>1.279331e+10</td>\n",
       "      <td>1.312082e+10</td>\n",
       "    </tr>\n",
       "  </tbody>\n",
       "</table>\n",
       "<p>5 rows × 60 columns</p>\n",
       "</div>"
      ],
      "text/plain": [
       "       Country Country Code                            Indicator Name  \\\n",
       "0        Aruba          ABW  GDP at market prices (constant 2010 US$)   \n",
       "1      Andorra          AND  GDP at market prices (constant 2010 US$)   \n",
       "2  Afghanistan          AFG  GDP at market prices (constant 2010 US$)   \n",
       "3       Angola          AGO  GDP at market prices (constant 2010 US$)   \n",
       "4      Albania          ALB  GDP at market prices (constant 2010 US$)   \n",
       "\n",
       "   Indicator Code  1960  1961  1962  1963  1964  1965  ...          2006  \\\n",
       "0  NY.GDP.MKTP.KD   NaN   NaN   NaN   NaN   NaN   NaN  ...           NaN   \n",
       "1  NY.GDP.MKTP.KD   NaN   NaN   NaN   NaN   NaN   NaN  ...  4.018196e+09   \n",
       "2  NY.GDP.MKTP.KD   NaN   NaN   NaN   NaN   NaN   NaN  ...  1.030523e+10   \n",
       "3  NY.GDP.MKTP.KD   NaN   NaN   NaN   NaN   NaN   NaN  ...  5.581103e+10   \n",
       "4  NY.GDP.MKTP.KD   NaN   NaN   NaN   NaN   NaN   NaN  ...  9.771760e+09   \n",
       "\n",
       "           2007          2008          2009          2010          2011  \\\n",
       "0           NaN           NaN           NaN  2.467704e+09           NaN   \n",
       "1  4.021331e+09  3.675728e+09  3.535389e+09  3.346317e+09  3.185605e+09   \n",
       "2  1.172119e+10  1.214448e+10  1.469733e+10  1.593680e+10  1.691113e+10   \n",
       "3  6.842044e+10  7.787420e+10  7.975320e+10  8.247091e+10  8.570262e+10   \n",
       "4  1.034829e+10  1.112752e+10  1.150029e+10  1.192695e+10  1.223109e+10   \n",
       "\n",
       "           2012          2013          2014          2015  \n",
       "0           NaN           NaN           NaN           NaN  \n",
       "1  3.129538e+09  3.127550e+09           NaN           NaN  \n",
       "2  1.935220e+10  1.973134e+10  1.999032e+10  2.029415e+10  \n",
       "3  9.012096e+10  9.626143e+10  1.008863e+11  1.039106e+11  \n",
       "4  1.240477e+10  1.254247e+10  1.279331e+10  1.312082e+10  \n",
       "\n",
       "[5 rows x 60 columns]"
      ]
     },
     "execution_count": 15,
     "metadata": {},
     "output_type": "execute_result"
    }
   ],
   "source": [
    "# replacing incorrectly named countries.\n",
    "gdp.replace({\"Korea, Rep.\": \"South Korea\", \n",
    "\"Iran, Islamic Rep.\": \"Iran\",\n",
    "\"Hong Kong SAR, China\": \"Hong Kong\"}, inplace=True)\n",
    "\n",
    "# renaming one column for consistency\n",
    "gdp.rename(columns={\"Country Name\":\"Country\"},inplace=True)\n",
    "gdp.head()"
   ]
  },
  {
   "cell_type": "code",
   "execution_count": 16,
   "metadata": {},
   "outputs": [
    {
     "data": {
      "text/html": [
       "<div>\n",
       "<style scoped>\n",
       "    .dataframe tbody tr th:only-of-type {\n",
       "        vertical-align: middle;\n",
       "    }\n",
       "\n",
       "    .dataframe tbody tr th {\n",
       "        vertical-align: top;\n",
       "    }\n",
       "\n",
       "    .dataframe thead th {\n",
       "        text-align: right;\n",
       "    }\n",
       "</style>\n",
       "<table border=\"1\" class=\"dataframe\">\n",
       "  <thead>\n",
       "    <tr style=\"text-align: right;\">\n",
       "      <th></th>\n",
       "      <th>Country</th>\n",
       "    </tr>\n",
       "  </thead>\n",
       "  <tbody>\n",
       "    <tr>\n",
       "      <th>93</th>\n",
       "      <td>Hong Kong</td>\n",
       "    </tr>\n",
       "    <tr>\n",
       "      <th>109</th>\n",
       "      <td>Iran</td>\n",
       "    </tr>\n",
       "    <tr>\n",
       "      <th>123</th>\n",
       "      <td>South Korea</td>\n",
       "    </tr>\n",
       "  </tbody>\n",
       "</table>\n",
       "</div>"
      ],
      "text/plain": [
       "         Country\n",
       "93     Hong Kong\n",
       "109         Iran\n",
       "123  South Korea"
      ]
     },
     "execution_count": 16,
     "metadata": {},
     "output_type": "execute_result"
    }
   ],
   "source": [
    "# verifying proper replacement\n",
    "gdp[\"Country\"].str.extract(\"(?P<Country>South Korea|Iran|Hong Kong)\").dropna()"
   ]
  },
  {
   "cell_type": "markdown",
   "metadata": {},
   "source": [
    "## Sciamgo Journal"
   ]
  },
  {
   "cell_type": "code",
   "execution_count": 17,
   "metadata": {},
   "outputs": [
    {
     "data": {
      "text/html": [
       "<div>\n",
       "<style scoped>\n",
       "    .dataframe tbody tr th:only-of-type {\n",
       "        vertical-align: middle;\n",
       "    }\n",
       "\n",
       "    .dataframe tbody tr th {\n",
       "        vertical-align: top;\n",
       "    }\n",
       "\n",
       "    .dataframe thead th {\n",
       "        text-align: right;\n",
       "    }\n",
       "</style>\n",
       "<table border=\"1\" class=\"dataframe\">\n",
       "  <thead>\n",
       "    <tr style=\"text-align: right;\">\n",
       "      <th></th>\n",
       "      <th>Rank</th>\n",
       "      <th>Country</th>\n",
       "      <th>Documents</th>\n",
       "      <th>Citable documents</th>\n",
       "      <th>Citations</th>\n",
       "      <th>Self-citations</th>\n",
       "      <th>Citations per document</th>\n",
       "      <th>H index</th>\n",
       "    </tr>\n",
       "  </thead>\n",
       "  <tbody>\n",
       "    <tr>\n",
       "      <th>0</th>\n",
       "      <td>1</td>\n",
       "      <td>China</td>\n",
       "      <td>127050</td>\n",
       "      <td>126767</td>\n",
       "      <td>597237</td>\n",
       "      <td>411683</td>\n",
       "      <td>4.70</td>\n",
       "      <td>138</td>\n",
       "    </tr>\n",
       "    <tr>\n",
       "      <th>1</th>\n",
       "      <td>2</td>\n",
       "      <td>United States</td>\n",
       "      <td>96661</td>\n",
       "      <td>94747</td>\n",
       "      <td>792274</td>\n",
       "      <td>265436</td>\n",
       "      <td>8.20</td>\n",
       "      <td>230</td>\n",
       "    </tr>\n",
       "    <tr>\n",
       "      <th>2</th>\n",
       "      <td>3</td>\n",
       "      <td>Japan</td>\n",
       "      <td>30504</td>\n",
       "      <td>30287</td>\n",
       "      <td>223024</td>\n",
       "      <td>61554</td>\n",
       "      <td>7.31</td>\n",
       "      <td>134</td>\n",
       "    </tr>\n",
       "    <tr>\n",
       "      <th>3</th>\n",
       "      <td>4</td>\n",
       "      <td>United Kingdom</td>\n",
       "      <td>20944</td>\n",
       "      <td>20357</td>\n",
       "      <td>206091</td>\n",
       "      <td>37874</td>\n",
       "      <td>9.84</td>\n",
       "      <td>139</td>\n",
       "    </tr>\n",
       "    <tr>\n",
       "      <th>4</th>\n",
       "      <td>5</td>\n",
       "      <td>Russian Federation</td>\n",
       "      <td>18534</td>\n",
       "      <td>18301</td>\n",
       "      <td>34266</td>\n",
       "      <td>12422</td>\n",
       "      <td>1.85</td>\n",
       "      <td>57</td>\n",
       "    </tr>\n",
       "    <tr>\n",
       "      <th>5</th>\n",
       "      <td>6</td>\n",
       "      <td>Canada</td>\n",
       "      <td>17899</td>\n",
       "      <td>17620</td>\n",
       "      <td>215003</td>\n",
       "      <td>40930</td>\n",
       "      <td>12.01</td>\n",
       "      <td>149</td>\n",
       "    </tr>\n",
       "    <tr>\n",
       "      <th>6</th>\n",
       "      <td>7</td>\n",
       "      <td>Germany</td>\n",
       "      <td>17027</td>\n",
       "      <td>16831</td>\n",
       "      <td>140566</td>\n",
       "      <td>27426</td>\n",
       "      <td>8.26</td>\n",
       "      <td>126</td>\n",
       "    </tr>\n",
       "    <tr>\n",
       "      <th>7</th>\n",
       "      <td>8</td>\n",
       "      <td>India</td>\n",
       "      <td>15005</td>\n",
       "      <td>14841</td>\n",
       "      <td>128763</td>\n",
       "      <td>37209</td>\n",
       "      <td>8.58</td>\n",
       "      <td>115</td>\n",
       "    </tr>\n",
       "    <tr>\n",
       "      <th>8</th>\n",
       "      <td>9</td>\n",
       "      <td>France</td>\n",
       "      <td>13153</td>\n",
       "      <td>12973</td>\n",
       "      <td>130632</td>\n",
       "      <td>28601</td>\n",
       "      <td>9.93</td>\n",
       "      <td>114</td>\n",
       "    </tr>\n",
       "    <tr>\n",
       "      <th>9</th>\n",
       "      <td>10</td>\n",
       "      <td>South Korea</td>\n",
       "      <td>11983</td>\n",
       "      <td>11923</td>\n",
       "      <td>114675</td>\n",
       "      <td>22595</td>\n",
       "      <td>9.57</td>\n",
       "      <td>104</td>\n",
       "    </tr>\n",
       "    <tr>\n",
       "      <th>10</th>\n",
       "      <td>11</td>\n",
       "      <td>Italy</td>\n",
       "      <td>10964</td>\n",
       "      <td>10794</td>\n",
       "      <td>111850</td>\n",
       "      <td>26661</td>\n",
       "      <td>10.20</td>\n",
       "      <td>106</td>\n",
       "    </tr>\n",
       "    <tr>\n",
       "      <th>11</th>\n",
       "      <td>12</td>\n",
       "      <td>Spain</td>\n",
       "      <td>9428</td>\n",
       "      <td>9330</td>\n",
       "      <td>123336</td>\n",
       "      <td>23964</td>\n",
       "      <td>13.08</td>\n",
       "      <td>115</td>\n",
       "    </tr>\n",
       "    <tr>\n",
       "      <th>12</th>\n",
       "      <td>13</td>\n",
       "      <td>Iran</td>\n",
       "      <td>8896</td>\n",
       "      <td>8819</td>\n",
       "      <td>57470</td>\n",
       "      <td>19125</td>\n",
       "      <td>6.46</td>\n",
       "      <td>72</td>\n",
       "    </tr>\n",
       "    <tr>\n",
       "      <th>13</th>\n",
       "      <td>14</td>\n",
       "      <td>Australia</td>\n",
       "      <td>8831</td>\n",
       "      <td>8725</td>\n",
       "      <td>90765</td>\n",
       "      <td>15606</td>\n",
       "      <td>10.28</td>\n",
       "      <td>107</td>\n",
       "    </tr>\n",
       "    <tr>\n",
       "      <th>14</th>\n",
       "      <td>15</td>\n",
       "      <td>Brazil</td>\n",
       "      <td>8668</td>\n",
       "      <td>8596</td>\n",
       "      <td>60702</td>\n",
       "      <td>14396</td>\n",
       "      <td>7.00</td>\n",
       "      <td>86</td>\n",
       "    </tr>\n",
       "  </tbody>\n",
       "</table>\n",
       "</div>"
      ],
      "text/plain": [
       "    Rank             Country  Documents  Citable documents  Citations  \\\n",
       "0      1               China     127050             126767     597237   \n",
       "1      2       United States      96661              94747     792274   \n",
       "2      3               Japan      30504              30287     223024   \n",
       "3      4      United Kingdom      20944              20357     206091   \n",
       "4      5  Russian Federation      18534              18301      34266   \n",
       "5      6              Canada      17899              17620     215003   \n",
       "6      7             Germany      17027              16831     140566   \n",
       "7      8               India      15005              14841     128763   \n",
       "8      9              France      13153              12973     130632   \n",
       "9     10         South Korea      11983              11923     114675   \n",
       "10    11               Italy      10964              10794     111850   \n",
       "11    12               Spain       9428               9330     123336   \n",
       "12    13                Iran       8896               8819      57470   \n",
       "13    14           Australia       8831               8725      90765   \n",
       "14    15              Brazil       8668               8596      60702   \n",
       "\n",
       "    Self-citations  Citations per document  H index  \n",
       "0           411683                    4.70      138  \n",
       "1           265436                    8.20      230  \n",
       "2            61554                    7.31      134  \n",
       "3            37874                    9.84      139  \n",
       "4            12422                    1.85       57  \n",
       "5            40930                   12.01      149  \n",
       "6            27426                    8.26      126  \n",
       "7            37209                    8.58      115  \n",
       "8            28601                    9.93      114  \n",
       "9            22595                    9.57      104  \n",
       "10           26661                   10.20      106  \n",
       "11           23964                   13.08      115  \n",
       "12           19125                    6.46       72  \n",
       "13           15606                   10.28      107  \n",
       "14           14396                    7.00       86  "
      ]
     },
     "execution_count": 17,
     "metadata": {},
     "output_type": "execute_result"
    }
   ],
   "source": [
    "scimen = pd.read_excel(\"datasets\\scimagojr-3.xlsx\")\n",
    "scimen.head(15)"
   ]
  },
  {
   "cell_type": "code",
   "execution_count": 18,
   "metadata": {},
   "outputs": [
    {
     "data": {
      "text/html": [
       "<div>\n",
       "<style scoped>\n",
       "    .dataframe tbody tr th:only-of-type {\n",
       "        vertical-align: middle;\n",
       "    }\n",
       "\n",
       "    .dataframe tbody tr th {\n",
       "        vertical-align: top;\n",
       "    }\n",
       "\n",
       "    .dataframe thead th {\n",
       "        text-align: right;\n",
       "    }\n",
       "</style>\n",
       "<table border=\"1\" class=\"dataframe\">\n",
       "  <thead>\n",
       "    <tr style=\"text-align: right;\">\n",
       "      <th></th>\n",
       "      <th>Rank</th>\n",
       "      <th>Country</th>\n",
       "      <th>Documents</th>\n",
       "      <th>Citable documents</th>\n",
       "      <th>Citations</th>\n",
       "      <th>Self-citations</th>\n",
       "      <th>Citations per document</th>\n",
       "      <th>H index</th>\n",
       "      <th>Energy Supply(GJ)</th>\n",
       "      <th>Energy Supply per Capita(GJ)</th>\n",
       "      <th>% Renewable</th>\n",
       "    </tr>\n",
       "  </thead>\n",
       "  <tbody>\n",
       "    <tr>\n",
       "      <th>0</th>\n",
       "      <td>1</td>\n",
       "      <td>China</td>\n",
       "      <td>127050</td>\n",
       "      <td>126767</td>\n",
       "      <td>597237</td>\n",
       "      <td>411683</td>\n",
       "      <td>4.70</td>\n",
       "      <td>138</td>\n",
       "      <td>1.271910e+11</td>\n",
       "      <td>93</td>\n",
       "      <td>19.754910</td>\n",
       "    </tr>\n",
       "    <tr>\n",
       "      <th>1</th>\n",
       "      <td>2</td>\n",
       "      <td>United States</td>\n",
       "      <td>96661</td>\n",
       "      <td>94747</td>\n",
       "      <td>792274</td>\n",
       "      <td>265436</td>\n",
       "      <td>8.20</td>\n",
       "      <td>230</td>\n",
       "      <td>9.083800e+10</td>\n",
       "      <td>286</td>\n",
       "      <td>11.570980</td>\n",
       "    </tr>\n",
       "    <tr>\n",
       "      <th>2</th>\n",
       "      <td>3</td>\n",
       "      <td>Japan</td>\n",
       "      <td>30504</td>\n",
       "      <td>30287</td>\n",
       "      <td>223024</td>\n",
       "      <td>61554</td>\n",
       "      <td>7.31</td>\n",
       "      <td>134</td>\n",
       "      <td>1.898400e+10</td>\n",
       "      <td>149</td>\n",
       "      <td>10.232820</td>\n",
       "    </tr>\n",
       "    <tr>\n",
       "      <th>3</th>\n",
       "      <td>4</td>\n",
       "      <td>United Kingdom</td>\n",
       "      <td>20944</td>\n",
       "      <td>20357</td>\n",
       "      <td>206091</td>\n",
       "      <td>37874</td>\n",
       "      <td>9.84</td>\n",
       "      <td>139</td>\n",
       "      <td>7.920000e+09</td>\n",
       "      <td>124</td>\n",
       "      <td>10.600470</td>\n",
       "    </tr>\n",
       "    <tr>\n",
       "      <th>4</th>\n",
       "      <td>5</td>\n",
       "      <td>Russian Federation</td>\n",
       "      <td>18534</td>\n",
       "      <td>18301</td>\n",
       "      <td>34266</td>\n",
       "      <td>12422</td>\n",
       "      <td>1.85</td>\n",
       "      <td>57</td>\n",
       "      <td>3.070900e+10</td>\n",
       "      <td>214</td>\n",
       "      <td>17.288680</td>\n",
       "    </tr>\n",
       "    <tr>\n",
       "      <th>5</th>\n",
       "      <td>6</td>\n",
       "      <td>Canada</td>\n",
       "      <td>17899</td>\n",
       "      <td>17620</td>\n",
       "      <td>215003</td>\n",
       "      <td>40930</td>\n",
       "      <td>12.01</td>\n",
       "      <td>149</td>\n",
       "      <td>1.043100e+10</td>\n",
       "      <td>296</td>\n",
       "      <td>61.945430</td>\n",
       "    </tr>\n",
       "    <tr>\n",
       "      <th>6</th>\n",
       "      <td>7</td>\n",
       "      <td>Germany</td>\n",
       "      <td>17027</td>\n",
       "      <td>16831</td>\n",
       "      <td>140566</td>\n",
       "      <td>27426</td>\n",
       "      <td>8.26</td>\n",
       "      <td>126</td>\n",
       "      <td>1.326100e+10</td>\n",
       "      <td>165</td>\n",
       "      <td>17.901530</td>\n",
       "    </tr>\n",
       "    <tr>\n",
       "      <th>7</th>\n",
       "      <td>8</td>\n",
       "      <td>India</td>\n",
       "      <td>15005</td>\n",
       "      <td>14841</td>\n",
       "      <td>128763</td>\n",
       "      <td>37209</td>\n",
       "      <td>8.58</td>\n",
       "      <td>115</td>\n",
       "      <td>3.319500e+10</td>\n",
       "      <td>26</td>\n",
       "      <td>14.969080</td>\n",
       "    </tr>\n",
       "    <tr>\n",
       "      <th>8</th>\n",
       "      <td>9</td>\n",
       "      <td>France</td>\n",
       "      <td>13153</td>\n",
       "      <td>12973</td>\n",
       "      <td>130632</td>\n",
       "      <td>28601</td>\n",
       "      <td>9.93</td>\n",
       "      <td>114</td>\n",
       "      <td>1.059700e+10</td>\n",
       "      <td>166</td>\n",
       "      <td>17.020280</td>\n",
       "    </tr>\n",
       "    <tr>\n",
       "      <th>9</th>\n",
       "      <td>10</td>\n",
       "      <td>South Korea</td>\n",
       "      <td>11983</td>\n",
       "      <td>11923</td>\n",
       "      <td>114675</td>\n",
       "      <td>22595</td>\n",
       "      <td>9.57</td>\n",
       "      <td>104</td>\n",
       "      <td>1.100700e+10</td>\n",
       "      <td>221</td>\n",
       "      <td>2.279353</td>\n",
       "    </tr>\n",
       "    <tr>\n",
       "      <th>10</th>\n",
       "      <td>11</td>\n",
       "      <td>Italy</td>\n",
       "      <td>10964</td>\n",
       "      <td>10794</td>\n",
       "      <td>111850</td>\n",
       "      <td>26661</td>\n",
       "      <td>10.20</td>\n",
       "      <td>106</td>\n",
       "      <td>6.530000e+09</td>\n",
       "      <td>109</td>\n",
       "      <td>33.667230</td>\n",
       "    </tr>\n",
       "    <tr>\n",
       "      <th>11</th>\n",
       "      <td>12</td>\n",
       "      <td>Spain</td>\n",
       "      <td>9428</td>\n",
       "      <td>9330</td>\n",
       "      <td>123336</td>\n",
       "      <td>23964</td>\n",
       "      <td>13.08</td>\n",
       "      <td>115</td>\n",
       "      <td>4.923000e+09</td>\n",
       "      <td>106</td>\n",
       "      <td>37.968590</td>\n",
       "    </tr>\n",
       "    <tr>\n",
       "      <th>12</th>\n",
       "      <td>13</td>\n",
       "      <td>Iran</td>\n",
       "      <td>8896</td>\n",
       "      <td>8819</td>\n",
       "      <td>57470</td>\n",
       "      <td>19125</td>\n",
       "      <td>6.46</td>\n",
       "      <td>72</td>\n",
       "      <td>9.172000e+09</td>\n",
       "      <td>119</td>\n",
       "      <td>5.707721</td>\n",
       "    </tr>\n",
       "    <tr>\n",
       "      <th>13</th>\n",
       "      <td>14</td>\n",
       "      <td>Australia</td>\n",
       "      <td>8831</td>\n",
       "      <td>8725</td>\n",
       "      <td>90765</td>\n",
       "      <td>15606</td>\n",
       "      <td>10.28</td>\n",
       "      <td>107</td>\n",
       "      <td>5.386000e+09</td>\n",
       "      <td>231</td>\n",
       "      <td>11.810810</td>\n",
       "    </tr>\n",
       "    <tr>\n",
       "      <th>14</th>\n",
       "      <td>15</td>\n",
       "      <td>Brazil</td>\n",
       "      <td>8668</td>\n",
       "      <td>8596</td>\n",
       "      <td>60702</td>\n",
       "      <td>14396</td>\n",
       "      <td>7.00</td>\n",
       "      <td>86</td>\n",
       "      <td>1.214900e+10</td>\n",
       "      <td>59</td>\n",
       "      <td>69.648030</td>\n",
       "    </tr>\n",
       "  </tbody>\n",
       "</table>\n",
       "</div>"
      ],
      "text/plain": [
       "    Rank             Country  Documents  Citable documents  Citations  \\\n",
       "0      1               China     127050             126767     597237   \n",
       "1      2       United States      96661              94747     792274   \n",
       "2      3               Japan      30504              30287     223024   \n",
       "3      4      United Kingdom      20944              20357     206091   \n",
       "4      5  Russian Federation      18534              18301      34266   \n",
       "5      6              Canada      17899              17620     215003   \n",
       "6      7             Germany      17027              16831     140566   \n",
       "7      8               India      15005              14841     128763   \n",
       "8      9              France      13153              12973     130632   \n",
       "9     10         South Korea      11983              11923     114675   \n",
       "10    11               Italy      10964              10794     111850   \n",
       "11    12               Spain       9428               9330     123336   \n",
       "12    13                Iran       8896               8819      57470   \n",
       "13    14           Australia       8831               8725      90765   \n",
       "14    15              Brazil       8668               8596      60702   \n",
       "\n",
       "    Self-citations  Citations per document  H index  Energy Supply(GJ)  \\\n",
       "0           411683                    4.70      138       1.271910e+11   \n",
       "1           265436                    8.20      230       9.083800e+10   \n",
       "2            61554                    7.31      134       1.898400e+10   \n",
       "3            37874                    9.84      139       7.920000e+09   \n",
       "4            12422                    1.85       57       3.070900e+10   \n",
       "5            40930                   12.01      149       1.043100e+10   \n",
       "6            27426                    8.26      126       1.326100e+10   \n",
       "7            37209                    8.58      115       3.319500e+10   \n",
       "8            28601                    9.93      114       1.059700e+10   \n",
       "9            22595                    9.57      104       1.100700e+10   \n",
       "10           26661                   10.20      106       6.530000e+09   \n",
       "11           23964                   13.08      115       4.923000e+09   \n",
       "12           19125                    6.46       72       9.172000e+09   \n",
       "13           15606                   10.28      107       5.386000e+09   \n",
       "14           14396                    7.00       86       1.214900e+10   \n",
       "\n",
       "   Energy Supply per Capita(GJ)  % Renewable  \n",
       "0                            93    19.754910  \n",
       "1                           286    11.570980  \n",
       "2                           149    10.232820  \n",
       "3                           124    10.600470  \n",
       "4                           214    17.288680  \n",
       "5                           296    61.945430  \n",
       "6                           165    17.901530  \n",
       "7                            26    14.969080  \n",
       "8                           166    17.020280  \n",
       "9                           221     2.279353  \n",
       "10                          109    33.667230  \n",
       "11                          106    37.968590  \n",
       "12                          119     5.707721  \n",
       "13                          231    11.810810  \n",
       "14                           59    69.648030  "
      ]
     },
     "execution_count": 18,
     "metadata": {},
     "output_type": "execute_result"
    }
   ],
   "source": [
    "df = pd.merge(scimen.loc[0:14],energy,how=\"inner\",on=\"Country\")\n",
    "df"
   ]
  },
  {
   "cell_type": "code",
   "execution_count": 19,
   "metadata": {},
   "outputs": [],
   "source": [
    "df = pd.merge(df,gdp.loc[:,[\"Country\",'2006', '2007', '2008', '2009', '2010', '2011', '2012', '2013', '2014', '2015']],how=\"inner\",on=\"Country\")\n",
    "df.set_index(\"Rank\",inplace=True)"
   ]
  },
  {
   "cell_type": "markdown",
   "metadata": {},
   "source": [
    "# Question 2"
   ]
  },
  {
   "cell_type": "code",
   "execution_count": 20,
   "metadata": {},
   "outputs": [
    {
     "data": {
      "text/plain": [
       "'The previous question joined three datasets then reduced this to just the top 15 entries. When you joined the datasets, but before you reduced this to the top 15 items, how many entries did you lose?\\n\\nThis function should return a single number. AS PER DISCS, THIS IS THE DIF BETWEEN FULL OUTER AND FULL INNER'"
      ]
     },
     "execution_count": 20,
     "metadata": {},
     "output_type": "execute_result"
    }
   ],
   "source": [
    "'''The previous question joined three datasets then reduced this to just the top 15 entries. When you joined the datasets, but before you reduced this to the top 15 items, how many entries did you lose?\n",
    "\n",
    "This function should return a single number. AS PER DISCS, THIS IS THE DIF BETWEEN FULL OUTER AND FULL INNER'''"
   ]
  },
  {
   "cell_type": "code",
   "execution_count": 21,
   "metadata": {},
   "outputs": [
    {
     "data": {
      "text/plain": [
       "15"
      ]
     },
     "execution_count": 21,
     "metadata": {},
     "output_type": "execute_result"
    }
   ],
   "source": [
    "len(df)"
   ]
  },
  {
   "cell_type": "code",
   "execution_count": 22,
   "metadata": {},
   "outputs": [
    {
     "data": {
      "text/plain": [
       "161"
      ]
     },
     "execution_count": 22,
     "metadata": {},
     "output_type": "execute_result"
    }
   ],
   "source": [
    "outer_df = pd.merge(pd.merge(energy,gdp,how=\"outer\",on=\"Country\"),scimen,how=\"outer\",on=\"Country\")\n",
    "inner_df = pd.merge(pd.merge(energy,gdp,how=\"inner\",on=\"Country\"),scimen,how=\"inner\",on=\"Country\")\n",
    "len(outer_df) - len(inner_df)"
   ]
  },
  {
   "cell_type": "markdown",
   "metadata": {},
   "source": [
    "# Question 3"
   ]
  },
  {
   "cell_type": "code",
   "execution_count": 23,
   "metadata": {},
   "outputs": [
    {
     "data": {
      "text/plain": [
       "'What are the top 15 countries for average GDP over the last 10 years?\\n\\nThis function should return a Series named avgGDP with 15 countries and their average GDP sorted in descending order.'"
      ]
     },
     "execution_count": 23,
     "metadata": {},
     "output_type": "execute_result"
    }
   ],
   "source": [
    "'''What are the top 15 countries for average GDP over the last 10 years?\n",
    "\n",
    "This function should return a Series named avgGDP with 15 countries and their average GDP sorted in descending order.'''"
   ]
  },
  {
   "cell_type": "code",
   "execution_count": 24,
   "metadata": {},
   "outputs": [
    {
     "name": "stderr",
     "output_type": "stream",
     "text": [
      "<ipython-input-24-f6dce33d4e48>:3: RuntimeWarning: Mean of empty slice\n",
      "  result_ser = pd.DataFrame(gdp[['2006', '2007', '2008', '2009', '2010', '2011', '2012', '2013', '2014', '2015']].apply(lambda x: np.nanmean(x),axis=1))\n"
     ]
    },
    {
     "data": {
      "text/plain": [
       "United States         1.536434e+13\n",
       "China                 6.348609e+12\n",
       "Japan                 5.542208e+12\n",
       "Germany               3.493025e+12\n",
       "France                2.681725e+12\n",
       "United Kingdom        2.487907e+12\n",
       "Brazil                2.189794e+12\n",
       "Italy                 2.120175e+12\n",
       "India                 1.769297e+12\n",
       "Canada                1.660647e+12\n",
       "Russian Federation    1.565459e+12\n",
       "Spain                 1.418078e+12\n",
       "Australia             1.164043e+12\n",
       "South Korea           1.106715e+12\n",
       "Mexico                1.090990e+12\n",
       "Name: avgGDP, dtype: float64"
      ]
     },
     "execution_count": 24,
     "metadata": {},
     "output_type": "execute_result"
    }
   ],
   "source": [
    "'''DEPRECATED SOLUTION'''\n",
    "\n",
    "result_ser = pd.DataFrame(gdp[['2006', '2007', '2008', '2009', '2010', '2011', '2012', '2013', '2014', '2015']].apply(lambda x: np.nanmean(x),axis=1))\n",
    "columns = list(gdp[\"Country\"])\n",
    "result_ser.index = columns\n",
    "result_ser.sort_values(0,ascending=False,inplace=True)\n",
    "#Eliminate these groupings...\n",
    "result_ser.drop([\"World\",\"High income\",\"OECD members\",\"Post-demographic dividend\",\"IDA & IBRD total\",\"Europe & Central Asia\",\n",
    "                 \"Low & middle income\",\"Middle income\",\"IBRD only\",\"European Union\",\"East Asia & Pacific\",\"North America\",\"Upper middle income\",\n",
    "                \"Late-demographic dividend\",\"Euro area\",\"Early-demographic dividend\",\"East Asia & Pacific (excluding high income)\",\n",
    "                 \"East Asia & Pacific (IDA & IBRD countries)\",\"Latin America & Caribbean\",\"Latin America & the Caribbean (IDA & IBRD countries)\",\n",
    "                \"Lower middle income\",\"Latin America & Caribbean (excluding high income)\",\"Europe & Central Asia (IDA & IBRD countries)\",\n",
    "                 \"Europe & Central Asia (excluding high income)\",\"Middle East & North Africa\",\"South Asia (IDA & IBRD)\",\"South Asia\",\"Arab World\",\"IDA total\",\n",
    "                \"Sub-Saharan Africa\",\"Sub-Saharan Africa (IDA & IBRD countries)\",\"Sub-Saharan Africa (excluding high income)\",\n",
    "                \"Central Europe and the Baltics\",\"Middle East & North Africa (excluding high income)\",\"Middle East & North Africa (IDA & IBRD countries)\"],inplace=True)\n",
    "#Keep only the top 15 results\n",
    "result_ser = result_ser.iloc[0:15]\n",
    "result_ser.rename(columns={0:\"avgGDP\"},inplace=True)\n",
    "result_ser = result_ser.squeeze()\n",
    "result_ser"
   ]
  },
  {
   "cell_type": "code",
   "execution_count": 25,
   "metadata": {},
   "outputs": [
    {
     "data": {
      "text/plain": [
       "Country                \n",
       "Afghanistan         2      1.610842e+10\n",
       "Albania             4      1.177673e+10\n",
       "Algeria             57     1.177673e+10\n",
       "American Samoa      9      1.177673e+10\n",
       "Andorra             1      1.177673e+10\n",
       "                               ...     \n",
       "West Bank and Gaza  256    1.177673e+10\n",
       "World               257    1.177673e+10\n",
       "Yemen, Rep.         259    1.177673e+10\n",
       "Zambia              262    1.177673e+10\n",
       "Zimbabwe            263    1.177673e+10\n",
       "Name: avgGDP, Length: 264, dtype: float64"
      ]
     },
     "execution_count": 25,
     "metadata": {},
     "output_type": "execute_result"
    }
   ],
   "source": [
    "'''MUCH BETTER SOLUTION\n",
    "MUCH MUCHMUCHMUCHMUCHMUCHMUCHMUCHMUCHMUCHMUCHMUCHMUCH BETTER SOLUTION\n",
    "'''\n",
    "\n",
    "def average_in(frame):\n",
    "    frame[\"avgGDP\"] = np.nanmean(frame[['2006', '2007', '2008', '2009', '2010', '2011', '2012', '2013', '2014', '2015']])\n",
    "    \n",
    "    return frame[\"avgGDP\"]\n",
    "\n",
    "gdp.groupby(\"Country\").apply(average_in)"
   ]
  },
  {
   "cell_type": "markdown",
   "metadata": {},
   "source": [
    "\n",
    "# Question 4"
   ]
  },
  {
   "cell_type": "code",
   "execution_count": 26,
   "metadata": {},
   "outputs": [
    {
     "data": {
      "text/plain": [
       "'By how much had the GDP changed over the 10 year span for the country with the 6th largest average GDP?\\n\\nThis function should return a single number.'"
      ]
     },
     "execution_count": 26,
     "metadata": {},
     "output_type": "execute_result"
    }
   ],
   "source": [
    "'''By how much had the GDP changed over the 10 year span for the country with the 6th largest average GDP?\n",
    "\n",
    "This function should return a single number.'''"
   ]
  },
  {
   "cell_type": "code",
   "execution_count": 27,
   "metadata": {},
   "outputs": [
    {
     "data": {
      "text/plain": [
       "246702696075.3999"
      ]
     },
     "execution_count": 27,
     "metadata": {},
     "output_type": "execute_result"
    }
   ],
   "source": [
    "# set GDP's index to be the country, since  we already calculated averages we can skip the discovery step\n",
    "# retrieve the GDP values for 2015 and substract the GDP value for 2006\n",
    "\n",
    "gdp.set_index(\"Country\").loc[\"United Kingdom\",[\"2015\"]].iloc[0] - gdp.set_index(\"Country\").loc[\"United Kingdom\",[\"2006\"]].iloc[0]"
   ]
  },
  {
   "cell_type": "markdown",
   "metadata": {},
   "source": [
    "# Question 5"
   ]
  },
  {
   "cell_type": "code",
   "execution_count": 28,
   "metadata": {},
   "outputs": [
    {
     "data": {
      "text/plain": [
       "'What is the mean energy supply per capita?\\n\\nThis function should return a single number.'"
      ]
     },
     "execution_count": 28,
     "metadata": {},
     "output_type": "execute_result"
    }
   ],
   "source": [
    "'''What is the mean energy supply per capita?\n",
    "\n",
    "This function should return a single number.'''"
   ]
  },
  {
   "cell_type": "code",
   "execution_count": 29,
   "metadata": {},
   "outputs": [
    {
     "data": {
      "text/plain": [
       "90.66666666666667"
      ]
     },
     "execution_count": 29,
     "metadata": {},
     "output_type": "execute_result"
    }
   ],
   "source": [
    "# Retrieve the relevant column as a series\n",
    "# delete the odd ones (values is a dot)\n",
    "# then apply np.average\n",
    "np.average(energy[\"Energy Supply per Capita(GJ)\"].drop([3,86,150,210,217]))"
   ]
  },
  {
   "cell_type": "markdown",
   "metadata": {},
   "source": [
    "# Question 6"
   ]
  },
  {
   "cell_type": "code",
   "execution_count": 30,
   "metadata": {},
   "outputs": [
    {
     "data": {
      "text/plain": [
       "'What country has the maximum % Renewable and what is the percentage?\\n\\nThis function should return a tuple with the name of the country and the percentage.'"
      ]
     },
     "execution_count": 30,
     "metadata": {},
     "output_type": "execute_result"
    }
   ],
   "source": [
    "'''What country has the maximum % Renewable and what is the percentage?\n",
    "\n",
    "This function should return a tuple with the name of the country and the percentage.'''"
   ]
  },
  {
   "cell_type": "code",
   "execution_count": 31,
   "metadata": {},
   "outputs": [
    {
     "data": {
      "text/plain": [
       "('Bhutan', 100.0)"
      ]
     },
     "execution_count": 31,
     "metadata": {},
     "output_type": "execute_result"
    }
   ],
   "source": [
    "# creating a copy of the DF with sorted values\n",
    "sorted_energy = energy.sort_values(\"% Renewable\", ascending=False)\n",
    "\n",
    "# since the DF is sorted, retrieve the 1st row (this is a series) and from the first row retrieve the first value (column)\n",
    "# repeat the indexing and retrieve the 4th row fot the series (% Renewable)\n",
    "country_and_renewable = (sorted_energy.iloc[0].iloc[0] , sorted_energy.iloc[0].iloc[3])\n",
    "country_and_renewable"
   ]
  },
  {
   "cell_type": "markdown",
   "metadata": {},
   "source": [
    "# Question 7"
   ]
  },
  {
   "cell_type": "code",
   "execution_count": 32,
   "metadata": {},
   "outputs": [
    {
     "data": {
      "text/plain": [
       "'Question 7\\nCreate a new column that is the ratio of Self-Citations to Total Citations. What is the maximum value for this new column, and what country has the highest ratio?\\n\\nThis function should return a tuple with the name of the country and the ratio.'"
      ]
     },
     "execution_count": 32,
     "metadata": {},
     "output_type": "execute_result"
    }
   ],
   "source": [
    "'''Question 7\n",
    "Create a new column that is the ratio of Self-Citations to Total Citations. What is the maximum value for this new column, and what country has the highest ratio?\n",
    "\n",
    "This function should return a tuple with the name of the country and the ratio.'''"
   ]
  },
  {
   "cell_type": "code",
   "execution_count": 33,
   "metadata": {},
   "outputs": [
    {
     "data": {
      "text/html": [
       "<div>\n",
       "<style scoped>\n",
       "    .dataframe tbody tr th:only-of-type {\n",
       "        vertical-align: middle;\n",
       "    }\n",
       "\n",
       "    .dataframe tbody tr th {\n",
       "        vertical-align: top;\n",
       "    }\n",
       "\n",
       "    .dataframe thead th {\n",
       "        text-align: right;\n",
       "    }\n",
       "</style>\n",
       "<table border=\"1\" class=\"dataframe\">\n",
       "  <thead>\n",
       "    <tr style=\"text-align: right;\">\n",
       "      <th></th>\n",
       "      <th>Rank</th>\n",
       "      <th>Country</th>\n",
       "      <th>Documents</th>\n",
       "      <th>Citable documents</th>\n",
       "      <th>Citations</th>\n",
       "      <th>Self-citations</th>\n",
       "      <th>Citations per document</th>\n",
       "      <th>H index</th>\n",
       "    </tr>\n",
       "  </thead>\n",
       "  <tbody>\n",
       "    <tr>\n",
       "      <th>0</th>\n",
       "      <td>1</td>\n",
       "      <td>China</td>\n",
       "      <td>127050</td>\n",
       "      <td>126767</td>\n",
       "      <td>597237</td>\n",
       "      <td>411683</td>\n",
       "      <td>4.70</td>\n",
       "      <td>138</td>\n",
       "    </tr>\n",
       "    <tr>\n",
       "      <th>1</th>\n",
       "      <td>2</td>\n",
       "      <td>United States</td>\n",
       "      <td>96661</td>\n",
       "      <td>94747</td>\n",
       "      <td>792274</td>\n",
       "      <td>265436</td>\n",
       "      <td>8.20</td>\n",
       "      <td>230</td>\n",
       "    </tr>\n",
       "    <tr>\n",
       "      <th>2</th>\n",
       "      <td>3</td>\n",
       "      <td>Japan</td>\n",
       "      <td>30504</td>\n",
       "      <td>30287</td>\n",
       "      <td>223024</td>\n",
       "      <td>61554</td>\n",
       "      <td>7.31</td>\n",
       "      <td>134</td>\n",
       "    </tr>\n",
       "  </tbody>\n",
       "</table>\n",
       "</div>"
      ],
      "text/plain": [
       "   Rank        Country  Documents  Citable documents  Citations  \\\n",
       "0     1          China     127050             126767     597237   \n",
       "1     2  United States      96661              94747     792274   \n",
       "2     3          Japan      30504              30287     223024   \n",
       "\n",
       "   Self-citations  Citations per document  H index  \n",
       "0          411683                    4.70      138  \n",
       "1          265436                    8.20      230  \n",
       "2           61554                    7.31      134  "
      ]
     },
     "execution_count": 33,
     "metadata": {},
     "output_type": "execute_result"
    }
   ],
   "source": [
    "scimen.head(3)"
   ]
  },
  {
   "cell_type": "code",
   "execution_count": 34,
   "metadata": {},
   "outputs": [],
   "source": [
    "#Defining a function to apply the division logic\n",
    "def division(frame):\n",
    "    \n",
    "    frame[\"Ratio\"] = frame[\"Self-citations\"] / frame[\"Citations\"]\n",
    "    \n",
    "    #return only relevant columns\n",
    "    return frame[[\"Country\",\"Ratio\",\"Self-citations\",\"Citations\"]]\n",
    "\n",
    "# create a mask to find the indexes with 0s on either side since both are irrelevant\n",
    "mask_0 = (scimen[\"Self-citations\"] == 0) | (scimen[\"Citations\"] == 0)\n",
    "\n",
    "# create the list of indexes to delete\n",
    "to_delete = list(scimen[mask_0].index)\n",
    "\n",
    "# create a copy WITHOUT 0 values\n",
    "scimen_copy = scimen.drop(to_delete, axis=0)\n",
    "\n",
    "# apply division function\n",
    "scimen_copy = scimen_copy.apply(division, axis=1)\n",
    "\n",
    "#sort\n",
    "scimen_copy.sort_values(\"Ratio\", ascending=False, inplace=True)\n",
    "\n",
    "# assign values to the tuple\n",
    "country_and_ratio = (scimen_copy.iloc[0].iloc[0], scimen_copy.iloc[0].iloc[3])"
   ]
  },
  {
   "cell_type": "code",
   "execution_count": 35,
   "metadata": {},
   "outputs": [
    {
     "data": {
      "text/plain": [
       "('French Guiana', 1)"
      ]
     },
     "execution_count": 35,
     "metadata": {},
     "output_type": "execute_result"
    }
   ],
   "source": [
    "country_and_ratio"
   ]
  },
  {
   "cell_type": "markdown",
   "metadata": {},
   "source": [
    "# Question 8"
   ]
  },
  {
   "cell_type": "code",
   "execution_count": 36,
   "metadata": {},
   "outputs": [
    {
     "data": {
      "text/plain": [
       "'Create a column that estimates the population using Energy Supply and Energy Supply per capita. What is the third most populous country according to this estimate?\\n\\nThis function should return the name of the country'"
      ]
     },
     "execution_count": 36,
     "metadata": {},
     "output_type": "execute_result"
    }
   ],
   "source": [
    "'''Create a column that estimates the population using Energy Supply and Energy Supply per capita. What is the third most populous country according to this estimate?\n",
    "\n",
    "This function should return the name of the country'''"
   ]
  },
  {
   "cell_type": "code",
   "execution_count": 37,
   "metadata": {},
   "outputs": [
    {
     "data": {
      "text/html": [
       "<div>\n",
       "<style scoped>\n",
       "    .dataframe tbody tr th:only-of-type {\n",
       "        vertical-align: middle;\n",
       "    }\n",
       "\n",
       "    .dataframe tbody tr th {\n",
       "        vertical-align: top;\n",
       "    }\n",
       "\n",
       "    .dataframe thead th {\n",
       "        text-align: right;\n",
       "    }\n",
       "</style>\n",
       "<table border=\"1\" class=\"dataframe\">\n",
       "  <thead>\n",
       "    <tr style=\"text-align: right;\">\n",
       "      <th></th>\n",
       "      <th>Country</th>\n",
       "      <th>Energy Supply(GJ)</th>\n",
       "      <th>Energy Supply per Capita(GJ)</th>\n",
       "      <th>% Renewable</th>\n",
       "    </tr>\n",
       "  </thead>\n",
       "  <tbody>\n",
       "    <tr>\n",
       "      <th>0</th>\n",
       "      <td>Afghanistan</td>\n",
       "      <td>3.210000e+08</td>\n",
       "      <td>10</td>\n",
       "      <td>78.669280</td>\n",
       "    </tr>\n",
       "    <tr>\n",
       "      <th>1</th>\n",
       "      <td>Albania</td>\n",
       "      <td>1.020000e+08</td>\n",
       "      <td>35</td>\n",
       "      <td>100.000000</td>\n",
       "    </tr>\n",
       "    <tr>\n",
       "      <th>2</th>\n",
       "      <td>Algeria</td>\n",
       "      <td>1.959000e+09</td>\n",
       "      <td>51</td>\n",
       "      <td>0.551010</td>\n",
       "    </tr>\n",
       "    <tr>\n",
       "      <th>3</th>\n",
       "      <td>American Samoa</td>\n",
       "      <td>NaN</td>\n",
       "      <td>...</td>\n",
       "      <td>0.641026</td>\n",
       "    </tr>\n",
       "    <tr>\n",
       "      <th>4</th>\n",
       "      <td>Andorra</td>\n",
       "      <td>9.000000e+06</td>\n",
       "      <td>121</td>\n",
       "      <td>88.695650</td>\n",
       "    </tr>\n",
       "  </tbody>\n",
       "</table>\n",
       "</div>"
      ],
      "text/plain": [
       "          Country  Energy Supply(GJ) Energy Supply per Capita(GJ)  % Renewable\n",
       "0     Afghanistan       3.210000e+08                           10    78.669280\n",
       "1         Albania       1.020000e+08                           35   100.000000\n",
       "2         Algeria       1.959000e+09                           51     0.551010\n",
       "3  American Samoa                NaN                          ...     0.641026\n",
       "4         Andorra       9.000000e+06                          121    88.695650"
      ]
     },
     "execution_count": 37,
     "metadata": {},
     "output_type": "execute_result"
    }
   ],
   "source": [
    "energy.head()"
   ]
  },
  {
   "cell_type": "code",
   "execution_count": 38,
   "metadata": {},
   "outputs": [
    {
     "data": {
      "text/plain": [
       "'United States'"
      ]
     },
     "execution_count": 38,
     "metadata": {},
     "output_type": "execute_result"
    }
   ],
   "source": [
    "# create a function to calculate the population\n",
    "\n",
    "def pop(frame):\n",
    "    \n",
    "    frame[\"Population\"] = frame[\"Energy Supply(GJ)\"] / frame[\"Energy Supply per Capita(GJ)\"]\n",
    "    \n",
    "    return frame\n",
    "\n",
    "\n",
    "# create a copy of energyDF, drop NaN, and apply the function\n",
    "\n",
    "energy_copy = energy.dropna().apply(pop, axis=1)\n",
    "\n",
    "# sort the copy by population\n",
    "energy_copy.sort_values(\"Population\", ascending=False, inplace=True)\n",
    "\n",
    "# retrieve the name of the third country\n",
    "\n",
    "energy_copy.iloc[2].loc[\"Country\"]"
   ]
  },
  {
   "cell_type": "markdown",
   "metadata": {},
   "source": [
    "# Question 9 "
   ]
  },
  {
   "cell_type": "code",
   "execution_count": 39,
   "metadata": {},
   "outputs": [
    {
     "data": {
      "text/plain": [
       "\"Create a column that estimates the number of citable documents per person. \\nWhat is the correlation between the number of citable documents per capita and the energy supply per capita? Use the .corr() method, (Pearson's correlation).\\n\\nThis function should return a single number.\\n\\n(Optional: Use the built-in function plot9() to visualize the relationship between Energy Supply per Capita vs. Citable docs per Capita)\""
      ]
     },
     "execution_count": 39,
     "metadata": {},
     "output_type": "execute_result"
    }
   ],
   "source": [
    "'''Create a column that estimates the number of citable documents per person. \n",
    "What is the correlation between the number of citable documents per capita and the energy supply per capita? Use the .corr() method, (Pearson's correlation).\n",
    "\n",
    "This function should return a single number.\n",
    "\n",
    "(Optional: Use the built-in function plot9() to visualize the relationship between Energy Supply per Capita vs. Citable docs per Capita)'''"
   ]
  },
  {
   "cell_type": "code",
   "execution_count": 40,
   "metadata": {},
   "outputs": [
    {
     "data": {
      "text/plain": [
       "0.11698823431104612"
      ]
     },
     "execution_count": 40,
     "metadata": {},
     "output_type": "execute_result"
    }
   ],
   "source": [
    "# join the tables for easier processing\n",
    "energy_and_scimen = pd.merge(scimen, energy_copy, how=\"inner\", on=\"Country\")\n",
    "\n",
    "# define a function to process the new column\n",
    "def docspercapita(frame):\n",
    "    frame[\"Docspcapita\"] = frame[\"Citable documents\"] / frame[\"Population\"]\n",
    "    \n",
    "    return frame\n",
    "  \n",
    "# create a mask to delete 0 values from the relevant columns\n",
    "mask_1 = (energy_and_scimen[\"Citable documents\"] < 1) | (energy_and_scimen[\"Population\"] < 1)\n",
    "\n",
    "# apply the mask to find the relevant indexes\n",
    "to_delete2 = list(energy_and_scimen[mask_1].index)\n",
    "\n",
    "# delete the relevant indexes\n",
    "energy_and_scimen.drop(to_delete2, axis=0, inplace=True)\n",
    "\n",
    "# apply the function to create the new column\n",
    "energy_and_scimen = energy_and_scimen.apply(docspercapita, axis=1)\n",
    "\n",
    "# find correlation. This accepts the whole column as argument\n",
    "import scipy.stats as stats\n",
    "\n",
    "results = stats.pearsonr(energy_and_scimen[\"Docspcapita\"], energy_and_scimen[\"Energy Supply(GJ)\"])\n",
    "results[0]"
   ]
  },
  {
   "cell_type": "markdown",
   "metadata": {},
   "source": [
    "# Question 10"
   ]
  },
  {
   "cell_type": "code",
   "execution_count": 41,
   "metadata": {},
   "outputs": [
    {
     "data": {
      "text/plain": [
       "\"Create a new column with a 1 if the country's % Renewable value is at or above the median for all countries in the top 15, \\nand a 0 if the country's % Renewable value is below the median.\\n\\nThis function should return a series named HighRenew whose index is the country name sorted in ascending order of rank.\""
      ]
     },
     "execution_count": 41,
     "metadata": {},
     "output_type": "execute_result"
    }
   ],
   "source": [
    "'''Create a new column with a 1 if the country's % Renewable value is at or above the median for all countries in the top 15, \n",
    "and a 0 if the country's % Renewable value is below the median.\n",
    "\n",
    "This function should return a series named HighRenew whose index is the country name sorted in ascending order of rank.'''"
   ]
  },
  {
   "cell_type": "code",
   "execution_count": 42,
   "metadata": {},
   "outputs": [],
   "source": [
    "# recycling copy to re-sort it based on % Renewable\n",
    "energy_copy.sort_values(\"% Renewable\", ascending=False, inplace=True)\n",
    "\n",
    "# finding the median of the top 15\n",
    "median = np.median(energy_copy[[\"% Renewable\"]].iloc[0:15])\n",
    "\n",
    "# applying a lambda to create the new column\n",
    "energy_copy[\"Less_than_Median\"] = energy_copy[\"% Renewable\"].apply(lambda x: x>median)\n",
    "\n",
    "# converting T/F to Integers\n",
    "energy_copy[\"Less_than_Median\"] = energy_copy[\"Less_than_Median\"].astype(int)\n",
    "\n",
    "# creating the requested series. Setting index to country. requesting the boolean column\n",
    "HighRenew = energy_copy.set_index(\"Country\")[\"Less_than_Median\"]"
   ]
  },
  {
   "cell_type": "markdown",
   "metadata": {},
   "source": [
    "# Question 11"
   ]
  },
  {
   "cell_type": "raw",
   "metadata": {},
   "source": [
    "Use the following dictionary to group the Countries by Continent, then create a DataFrame that displays the sample size \n",
    "(the number of countries in each continent bin), and the sum, mean, and std deviation for the estimated population of each country.\n",
    "\n",
    "ContinentDict  = {'China':'Asia', \n",
    "                  'United States':'North America', \n",
    "                  'Japan':'Asia', \n",
    "                  'United Kingdom':'Europe', \n",
    "                  'Russian Federation':'Europe', \n",
    "                  'Canada':'North America', \n",
    "                  'Germany':'Europe', \n",
    "                  'India':'Asia',\n",
    "                  'France':'Europe', \n",
    "                  'South Korea':'Asia', \n",
    "                  'Italy':'Europe', \n",
    "                  'Spain':'Europe', \n",
    "                  'Iran':'Asia',\n",
    "                  'Australia':'Australia', \n",
    "                  'Brazil':'South America'}\n",
    "This function should return a DataFrame with index named Continent ['Asia', 'Australia', 'Europe', 'North America', 'South America'] and columns ['size', 'sum', 'mean', 'std']"
   ]
  },
  {
   "cell_type": "code",
   "execution_count": 43,
   "metadata": {},
   "outputs": [
    {
     "data": {
      "text/html": [
       "<div>\n",
       "<style scoped>\n",
       "    .dataframe tbody tr th:only-of-type {\n",
       "        vertical-align: middle;\n",
       "    }\n",
       "\n",
       "    .dataframe tbody tr th {\n",
       "        vertical-align: top;\n",
       "    }\n",
       "\n",
       "    .dataframe thead tr th {\n",
       "        text-align: left;\n",
       "    }\n",
       "\n",
       "    .dataframe thead tr:last-of-type th {\n",
       "        text-align: right;\n",
       "    }\n",
       "</style>\n",
       "<table border=\"1\" class=\"dataframe\">\n",
       "  <thead>\n",
       "    <tr>\n",
       "      <th></th>\n",
       "      <th colspan=\"4\" halign=\"left\">Population</th>\n",
       "    </tr>\n",
       "    <tr>\n",
       "      <th></th>\n",
       "      <th>sum</th>\n",
       "      <th>mean</th>\n",
       "      <th>std</th>\n",
       "      <th>len</th>\n",
       "    </tr>\n",
       "    <tr>\n",
       "      <th>continent</th>\n",
       "      <th></th>\n",
       "      <th></th>\n",
       "      <th></th>\n",
       "      <th></th>\n",
       "    </tr>\n",
       "  </thead>\n",
       "  <tbody>\n",
       "    <tr>\n",
       "      <th>Asia</th>\n",
       "      <td>2.898666e+09</td>\n",
       "      <td>5.797333e+08</td>\n",
       "      <td>6.790979e+08</td>\n",
       "      <td>5.0</td>\n",
       "    </tr>\n",
       "    <tr>\n",
       "      <th>Australia</th>\n",
       "      <td>2.331602e+07</td>\n",
       "      <td>2.331602e+07</td>\n",
       "      <td>NaN</td>\n",
       "      <td>1.0</td>\n",
       "    </tr>\n",
       "    <tr>\n",
       "      <th>Europe</th>\n",
       "      <td>4.579297e+08</td>\n",
       "      <td>7.632161e+07</td>\n",
       "      <td>3.464767e+07</td>\n",
       "      <td>6.0</td>\n",
       "    </tr>\n",
       "    <tr>\n",
       "      <th>North America</th>\n",
       "      <td>3.528552e+08</td>\n",
       "      <td>1.764276e+08</td>\n",
       "      <td>1.996696e+08</td>\n",
       "      <td>2.0</td>\n",
       "    </tr>\n",
       "    <tr>\n",
       "      <th>South America</th>\n",
       "      <td>2.059153e+08</td>\n",
       "      <td>2.059153e+08</td>\n",
       "      <td>NaN</td>\n",
       "      <td>1.0</td>\n",
       "    </tr>\n",
       "  </tbody>\n",
       "</table>\n",
       "</div>"
      ],
      "text/plain": [
       "                 Population                                 \n",
       "                        sum          mean           std  len\n",
       "continent                                                   \n",
       "Asia           2.898666e+09  5.797333e+08  6.790979e+08  5.0\n",
       "Australia      2.331602e+07  2.331602e+07           NaN  1.0\n",
       "Europe         4.579297e+08  7.632161e+07  3.464767e+07  6.0\n",
       "North America  3.528552e+08  1.764276e+08  1.996696e+08  2.0\n",
       "South America  2.059153e+08  2.059153e+08           NaN  1.0"
      ]
     },
     "execution_count": 43,
     "metadata": {},
     "output_type": "execute_result"
    }
   ],
   "source": [
    "#create a new column that links the existing dictionary to countries and continents\n",
    "cont_country = {'China':'Asia', \n",
    "                  'United States':'North America', \n",
    "                  'Japan':'Asia', \n",
    "                  'United Kingdom':'Europe', \n",
    "                  'Russian Federation':'Europe', \n",
    "                  'Canada':'North America', \n",
    "                  'Germany':'Europe', \n",
    "                  'India':'Asia',\n",
    "                  'France':'Europe', \n",
    "                  'South Korea':'Asia', \n",
    "                  'Italy':'Europe', \n",
    "                  'Spain':'Europe', \n",
    "                  'Iran':'Asia',\n",
    "                  'Australia':'Australia', \n",
    "                  'Brazil':'South America'}\n",
    "\n",
    "# create the new column via apply and lambda.\n",
    "    ## Lambdas searches for the value in the dictionary and if not found returns nan.\n",
    "energy_copy[\"continent\"] = energy_copy[\"Country\"].apply(lambda x: cont_country[x] if x in cont_country else np.nan)\n",
    "\n",
    "# drop nans and assign to a new DF\n",
    "ret_df = energy_copy.dropna()\n",
    "\n",
    "# remake DF by:\n",
    "    #grouping by country\n",
    "    #calculating statistics based on population\n",
    "        ## len in this case also calculates the size of the parent \"bin\"\n",
    "ret_df = ret_df.groupby(\"continent\").agg({\"Population\":[np.sum, np.mean, np.std, len]})\n",
    "ret_df"
   ]
  },
  {
   "cell_type": "markdown",
   "metadata": {},
   "source": [
    "# Question 12"
   ]
  },
  {
   "cell_type": "raw",
   "metadata": {},
   "source": [
    "Cut % Renewable into 5 bins. Group Top15 by the Continent, as well as these new % Renewable bins. How many countries are in each of these groups?\n",
    "\n",
    "This function should return a Series with a MultiIndex of Continent, then the bins for % Renewable. Do not include groups with no countries."
   ]
  },
  {
   "cell_type": "code",
   "execution_count": 44,
   "metadata": {},
   "outputs": [],
   "source": [
    "# creating the bins and storing them in a series/df\n",
    "cut_df = pd.cut(energy_copy[\"% Renewable\"],6)\n",
    "\n",
    "# appending a new column based on bins. The order is preserved\n",
    "energy_copy[\"% Bins\"] = cut_df"
   ]
  },
  {
   "cell_type": "code",
   "execution_count": 45,
   "metadata": {},
   "outputs": [
    {
     "data": {
      "text/html": [
       "<div>\n",
       "<style scoped>\n",
       "    .dataframe tbody tr th:only-of-type {\n",
       "        vertical-align: middle;\n",
       "    }\n",
       "\n",
       "    .dataframe tbody tr th {\n",
       "        vertical-align: top;\n",
       "    }\n",
       "\n",
       "    .dataframe thead th {\n",
       "        text-align: right;\n",
       "    }\n",
       "</style>\n",
       "<table border=\"1\" class=\"dataframe\">\n",
       "  <thead>\n",
       "    <tr style=\"text-align: right;\">\n",
       "      <th></th>\n",
       "      <th></th>\n",
       "      <th>Country</th>\n",
       "    </tr>\n",
       "    <tr>\n",
       "      <th>continent</th>\n",
       "      <th>% Bins</th>\n",
       "      <th></th>\n",
       "    </tr>\n",
       "  </thead>\n",
       "  <tbody>\n",
       "    <tr>\n",
       "      <th rowspan=\"2\" valign=\"top\">Asia</th>\n",
       "      <th>(-0.1, 16.667]</th>\n",
       "      <td>4.0</td>\n",
       "    </tr>\n",
       "    <tr>\n",
       "      <th>(16.667, 33.333]</th>\n",
       "      <td>1.0</td>\n",
       "    </tr>\n",
       "    <tr>\n",
       "      <th>Australia</th>\n",
       "      <th>(-0.1, 16.667]</th>\n",
       "      <td>1.0</td>\n",
       "    </tr>\n",
       "    <tr>\n",
       "      <th rowspan=\"3\" valign=\"top\">Europe</th>\n",
       "      <th>(-0.1, 16.667]</th>\n",
       "      <td>1.0</td>\n",
       "    </tr>\n",
       "    <tr>\n",
       "      <th>(16.667, 33.333]</th>\n",
       "      <td>3.0</td>\n",
       "    </tr>\n",
       "    <tr>\n",
       "      <th>(33.333, 50.0]</th>\n",
       "      <td>2.0</td>\n",
       "    </tr>\n",
       "    <tr>\n",
       "      <th rowspan=\"2\" valign=\"top\">North America</th>\n",
       "      <th>(-0.1, 16.667]</th>\n",
       "      <td>1.0</td>\n",
       "    </tr>\n",
       "    <tr>\n",
       "      <th>(50.0, 66.667]</th>\n",
       "      <td>1.0</td>\n",
       "    </tr>\n",
       "    <tr>\n",
       "      <th>South America</th>\n",
       "      <th>(66.667, 83.333]</th>\n",
       "      <td>1.0</td>\n",
       "    </tr>\n",
       "  </tbody>\n",
       "</table>\n",
       "</div>"
      ],
      "text/plain": [
       "                                Country\n",
       "continent     % Bins                   \n",
       "Asia          (-0.1, 16.667]        4.0\n",
       "              (16.667, 33.333]      1.0\n",
       "Australia     (-0.1, 16.667]        1.0\n",
       "Europe        (-0.1, 16.667]        1.0\n",
       "              (16.667, 33.333]      3.0\n",
       "              (33.333, 50.0]        2.0\n",
       "North America (-0.1, 16.667]        1.0\n",
       "              (50.0, 66.667]        1.0\n",
       "South America (66.667, 83.333]      1.0"
      ]
     },
     "execution_count": 45,
     "metadata": {},
     "output_type": "execute_result"
    }
   ],
   "source": [
    "'''SOLUTION VIA PIVOT'''\n",
    "\n",
    "bins_df2 = energy_copy.pivot_table(values=\"Country\", index=[\"continent\",\"% Bins\"], aggfunc=len)\n",
    "bins_df2"
   ]
  },
  {
   "cell_type": "code",
   "execution_count": 46,
   "metadata": {},
   "outputs": [
    {
     "data": {
      "text/plain": [
       "continent      % Bins          \n",
       "Asia           (-0.1, 16.667]      4.0\n",
       "               (16.667, 33.333]    1.0\n",
       "Australia      (-0.1, 16.667]      1.0\n",
       "Europe         (-0.1, 16.667]      1.0\n",
       "               (16.667, 33.333]    3.0\n",
       "               (33.333, 50.0]      2.0\n",
       "North America  (-0.1, 16.667]      1.0\n",
       "               (50.0, 66.667]      1.0\n",
       "South America  (66.667, 83.333]    1.0\n",
       "Name: Country, dtype: float64"
      ]
     },
     "execution_count": 46,
     "metadata": {},
     "output_type": "execute_result"
    }
   ],
   "source": [
    "'''HANDMADE SOLUTION'''\n",
    "\n",
    "##### creating clean DF without NAs\n",
    "bins_df = energy_copy.dropna()\n",
    "\n",
    "# setting multilevel index\n",
    "bins_df.set_index([\"continent\",\"% Bins\"],inplace=True)\n",
    "\n",
    "# grouping by multilevel index and counting the elements of each bin\n",
    "bins_df = bins_df.groupby(level=(0,1)).agg({\"Country\":len})\n",
    "\n",
    "# deleting nans\n",
    "bins_df.dropna(inplace=True)\n",
    "\n",
    "# squeezing into a series\n",
    "bins_df.squeeze()"
   ]
  },
  {
   "cell_type": "markdown",
   "metadata": {},
   "source": [
    "# Question 13"
   ]
  },
  {
   "cell_type": "raw",
   "metadata": {},
   "source": [
    "Convert the Population Estimate series to a string with thousands separator (using commas). Use all significant digits (do not round the results).\n",
    "\n",
    "e.g. 12345678.90 -> 12,345,678.90\n",
    "\n",
    "This function should return a series PopEst whose index is the country name and whose values are the population estimate string"
   ]
  },
  {
   "cell_type": "code",
   "execution_count": 56,
   "metadata": {},
   "outputs": [
    {
     "data": {
      "text/plain": [
       "Country\n",
       "India                 1,276,730,769.2307692\n",
       "China                 1,367,645,161.2903225\n",
       "Japan                  127,409,395.97315437\n",
       "Russian Federation            143,500,000.0\n",
       "Brazil                 205,915,254.23728815\n",
       "Australia              23,316,017.316017315\n",
       "United States          317,615,384.61538464\n",
       "Canada                  35,239,864.86486486\n",
       "Spain                    46,443,396.2264151\n",
       "South Korea            49,805,429.864253394\n",
       "Italy                  59,908,256.880733944\n",
       "France                  63,837,349.39759036\n",
       "United Kingdom         63,870,967.741935484\n",
       "Iran                    77,075,630.25210084\n",
       "Germany                 80,369,696.96969697\n",
       "Name: PopEst, dtype: object"
      ]
     },
     "execution_count": 56,
     "metadata": {},
     "output_type": "execute_result"
    }
   ],
   "source": [
    "# found in stackoverflow -> ADD THOUSANDS SEPARATOR PYTHON --> {0:,}'.format(1000000)\n",
    "\n",
    "#applying to create a new column\n",
    "energy_copy[\"PopEst\"] = energy_copy[\"Population\"].apply(lambda x: '{0:,}'.format(x))\n",
    "\n",
    "# set the index to the desired column\n",
    "popest_df = energy_copy.set_index(\"Country\")\n",
    "\n",
    "#THEY DIDNT SPECIFY TO DROP THE COUNTRIES WITHOUT CONTINENT\n",
    "popest_df.dropna(inplace=True)\n",
    "\n",
    "#Retrieve the relevant series\n",
    "popest_df = popest_df[\"PopEst\"]\n",
    "popest_df = popest_df.sort_values(ascending=True)\n",
    "popest_df"
   ]
  },
  {
   "cell_type": "code",
   "execution_count": null,
   "metadata": {},
   "outputs": [],
   "source": []
  }
 ],
 "metadata": {
  "kernelspec": {
   "display_name": "Python 3",
   "language": "python",
   "name": "python3"
  },
  "language_info": {
   "codemirror_mode": {
    "name": "ipython",
    "version": 3
   },
   "file_extension": ".py",
   "mimetype": "text/x-python",
   "name": "python",
   "nbconvert_exporter": "python",
   "pygments_lexer": "ipython3",
   "version": "3.8.5"
  }
 },
 "nbformat": 4,
 "nbformat_minor": 4
}
