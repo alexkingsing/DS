{
 "cells": [
  {
   "cell_type": "code",
   "execution_count": 45,
   "metadata": {},
   "outputs": [],
   "source": [
    "import numpy as np\n",
    "import pandas as pd\n",
    "\n",
    "from sklearn.model_selection import train_test_split\n",
    "from sklearn.model_selection import validation_curve\n",
    "from sklearn.model_selection import cross_val_score\n",
    "\n",
    "from sklearn.preprocessing import PolynomialFeatures\n",
    "from sklearn.linear_model import LinearRegression\n",
    "from sklearn.linear_model import Lasso\n",
    "\n",
    "from sklearn.tree import DecisionTreeClassifier\n",
    "\n",
    "from sklearn.svm import SVC\n",
    "\n",
    "import matplotlib.pyplot as plt"
   ]
  },
  {
   "cell_type": "code",
   "execution_count": 2,
   "metadata": {},
   "outputs": [],
   "source": [
    "# variables as per problem generation\n",
    "\n",
    "np.random.seed(0)\n",
    "n = 15\n",
    "x = np.linspace(0,10,n) + np.random.randn(n)/5\n",
    "y = np.sin(x)+x/6 + np.random.randn(n)/10\n",
    "\n",
    "\n",
    "X_train, X_test, y_train, y_test = train_test_split(x, y, random_state=0)"
   ]
  },
  {
   "cell_type": "markdown",
   "metadata": {},
   "source": [
    "# QUESTION 1"
   ]
  },
  {
   "cell_type": "raw",
   "metadata": {},
   "source": [
    "Write a function that fits a polynomial LinearRegression model on the training data X_train for degrees 1, 3, 6, and 9. (Use PolynomialFeatures in sklearn.preprocessing to create the polynomial features and then fit a linear regression model) For each model, find 100 predicted values over the interval x = 0 to 10 (e.g. np.linspace(0,10,100)) and store this in a numpy array. The first row of this array should correspond to the output from the model trained on degree 1, the second row degree 3, the third row degree 6, and the fourth row degree 9.\n",
    "\n",
    "This function should return a numpy array with shape (4, 100)"
   ]
  },
  {
   "cell_type": "code",
   "execution_count": 3,
   "metadata": {},
   "outputs": [
    {
     "data": {
      "text/plain": [
       "(4, 100)"
      ]
     },
     "execution_count": 3,
     "metadata": {},
     "output_type": "execute_result"
    }
   ],
   "source": [
    "# creating the polinomial separations\n",
    "X_pol_3 = PolynomialFeatures(degree=3)\n",
    "X_pol_6 = PolynomialFeatures(degree=6)\n",
    "X_pol_9 = PolynomialFeatures(degree=9)\n",
    "X_poly_3 = X_pol_3.fit_transform(X_train.reshape(-1, 1))\n",
    "X_poly_6 = X_pol_6.fit_transform(X_train.reshape(-1, 1))\n",
    "X_poly_9 = X_pol_9.fit_transform(X_train.reshape(-1, 1))\n",
    "\n",
    "lin_1 = LinearRegression()\n",
    "lin_1.fit(X_train.reshape(-1, 1), y_train)\n",
    "\n",
    "lin_3 = LinearRegression()\n",
    "lin_3.fit(X_poly_3, y_train)\n",
    "lin_6 = LinearRegression()\n",
    "lin_6.fit(X_poly_6, y_train)\n",
    "lin_9 = LinearRegression()\n",
    "lin_9.fit(X_poly_9, y_train)\n",
    "\n",
    "\n",
    "t_array = np.linspace(0,10,100).reshape(-1, 1)\n",
    "t_array3 = X_pol_3.fit_transform(t_array)\n",
    "t_array6 = X_pol_6.fit_transform(t_array)\n",
    "t_array9 = X_pol_9.fit_transform(t_array)\n",
    "sol_array = np.concatenate((lin_1.predict(t_array).reshape(1, -1), lin_3.predict(t_array3).reshape(1, -1), lin_6.predict(t_array6).reshape(1, -1), lin_9.predict(t_array9).reshape(1, -1)))\n",
    "sol_array.shape"
   ]
  },
  {
   "cell_type": "markdown",
   "metadata": {},
   "source": [
    "# QUESTION 2"
   ]
  },
  {
   "cell_type": "raw",
   "metadata": {},
   "source": [
    "Write a function that fits a polynomial LinearRegression model on the training data X_train for degrees 0 through 9. For each model compute the  R2R2  (coefficient of determination) regression score on the training data as well as the the test data, and return both of these arrays in a tuple.\n",
    "\n",
    "This function should return one tuple of numpy arrays (r2_train, r2_test). Both arrays should have shape (10,)"
   ]
  },
  {
   "cell_type": "code",
   "execution_count": 4,
   "metadata": {},
   "outputs": [],
   "source": [
    "test_array = None\n",
    "train_array = None\n",
    "\n",
    "for i in range(0,10):\n",
    "    poly = PolynomialFeatures(degree=i)\n",
    "\n",
    "    X_train_i = poly.fit_transform(X_train.reshape(-1, 1))\n",
    "    X_test_i = poly.fit_transform(X_test.reshape(-1, 1))\n",
    "\n",
    "    lngreg = LinearRegression()\n",
    "    lngreg.fit(X_train_i, y_train)\n",
    "\n",
    "    v1 = np.array(lngreg.score(X_test_i, y_test)).reshape(1)\n",
    "    v2 = np.array(lngreg.score(X_train_i, y_train)).reshape(1)\n",
    "\n",
    "    if test_array is None:\n",
    "        test_array = v1\n",
    "        train_array = v2\n",
    "    else:\n",
    "        test_array = np.concatenate((test_array, v1))\n",
    "        train_array = np.concatenate((train_array, v2))\n",
    "\n",
    "sol = (train_array, test_array)"
   ]
  },
  {
   "cell_type": "markdown",
   "metadata": {},
   "source": [
    "# QUESTION 3"
   ]
  },
  {
   "cell_type": "raw",
   "metadata": {},
   "source": [
    "Based on the  R2  scores from question 2 (degree levels 0 through 9), what degree level corresponds to a model that is underfitting? What degree level corresponds to a model that is overfitting? What choice of degree level would provide a model with good generalization performance on this dataset?\n",
    "\n",
    "Hint: Try plotting the  R2R2  scores from question 2 to visualize the relationship between degree level and  R2R2 . Remember to comment out the import matplotlib line before submission.\n",
    "\n",
    "This function should return one tuple with the degree values in this order: (Underfitting, Overfitting, Good_Generalization). There might be multiple correct solutions, however, you only need to return one possible solution, for example, (1,2,3)."
   ]
  },
  {
   "cell_type": "code",
   "execution_count": 5,
   "metadata": {},
   "outputs": [
    {
     "data": {
      "image/png": "[encoded data removed]",
      "text/plain": [
       "<Figure size 432x288 with 1 Axes>"
      ]
     },
     "metadata": {
      "needs_background": "light"
     },
     "output_type": "display_data"
    }
   ],
   "source": [
    "plt.plot(sol[0], label=\"train\")\n",
    "plt.plot(sol[1], label=\"test\")\n",
    "plt.xticks(list(range(0,10)))\n",
    "plt.legend();"
   ]
  },
  {
   "cell_type": "markdown",
   "metadata": {},
   "source": [
    "# QUESTION 4"
   ]
  },
  {
   "cell_type": "raw",
   "metadata": {},
   "source": [
    "Training models on high degree polynomial features can result in overly complex models that overfit, so we often use regularized versions of the model to constrain model complexity, as we saw with Ridge and Lasso linear regression.\n",
    "\n",
    "For this question, train two models: a non-regularized LinearRegression model (default parameters) and a regularized Lasso Regression model (with parameters alpha=0.01, max_iter=10000) both on polynomial features of degree 12. Return the  R2R2  score for both the LinearRegression and Lasso model's test sets.\n",
    "\n",
    "This function should return one tuple (LinearRegression_R2_test_score, Lasso_R2_test_score)"
   ]
  },
  {
   "cell_type": "code",
   "execution_count": 8,
   "metadata": {},
   "outputs": [
    {
     "name": "stderr",
     "output_type": "stream",
     "text": [
      "C:\\Users\\User\\miniconda3\\lib\\site-packages\\sklearn\\linear_model\\_coordinate_descent.py:530: ConvergenceWarning: Objective did not converge. You might want to increase the number of iterations. Duality gap: 0.3556421695890253, tolerance: 0.0006894982540382801\n",
      "  model = cd_fast.enet_coordinate_descent(\n"
     ]
    },
    {
     "data": {
      "text/plain": [
       "(-4.311955012614453, 0.8406625614750236)"
      ]
     },
     "execution_count": 8,
     "metadata": {},
     "output_type": "execute_result"
    }
   ],
   "source": [
    "poly = PolynomialFeatures(degree = 12)\n",
    "Xtrain_pol_12 = poly.fit_transform(X_train.reshape(-1, 1))\n",
    "Xtest_pol_12 = poly.fit_transform(X_test.reshape(-1, 1))\n",
    "\n",
    "# instantiating linear reg\n",
    "linreg = LinearRegression()\n",
    "\n",
    "# instantiating lasso\n",
    "lass = Lasso(alpha=0.01, max_iter=10000)\n",
    "\n",
    "#training both models\n",
    "linreg.fit(Xtrain_pol_12, y_train)\n",
    "lass.fit(Xtrain_pol_12, y_train)\n",
    "\n",
    "# obtaining R2 results\n",
    "\n",
    "result = ( linreg.score(Xtest_pol_12, y_test) , lass.score(Xtest_pol_12, y_test) )\n",
    "result"
   ]
  },
  {
   "cell_type": "markdown",
   "metadata": {},
   "source": [
    "# CLASSIFICATION"
   ]
  },
  {
   "cell_type": "raw",
   "metadata": {},
   "source": [
    "Here's an application of machine learning that could save your life! For this section of the assignment we will be working with the UCI Mushroom Data Set stored in readonly/mushrooms.csv. The data will be used to train a model to predict whether or not a mushroom is poisonous. The following attributes are provided:\n",
    "\n",
    "Attribute Information:\n",
    "\n",
    "cap-shape: bell=b, conical=c, convex=x, flat=f, knobbed=k, sunken=s\n",
    "cap-surface: fibrous=f, grooves=g, scaly=y, smooth=s\n",
    "cap-color: brown=n, buff=b, cinnamon=c, gray=g, green=r, pink=p, purple=u, red=e, white=w, yellow=y\n",
    "bruises?: bruises=t, no=f\n",
    "odor: almond=a, anise=l, creosote=c, fishy=y, foul=f, musty=m, none=n, pungent=p, spicy=s\n",
    "gill-attachment: attached=a, descending=d, free=f, notched=n\n",
    "gill-spacing: close=c, crowded=w, distant=d\n",
    "gill-size: broad=b, narrow=n\n",
    "gill-color: black=k, brown=n, buff=b, chocolate=h, gray=g, green=r, orange=o, pink=p, purple=u, red=e, white=w, yellow=y\n",
    "stalk-shape: enlarging=e, tapering=t\n",
    "stalk-root: bulbous=b, club=c, cup=u, equal=e, rhizomorphs=z, rooted=r, missing=?\n",
    "stalk-surface-above-ring: fibrous=f, scaly=y, silky=k, smooth=s\n",
    "stalk-surface-below-ring: fibrous=f, scaly=y, silky=k, smooth=s\n",
    "stalk-color-above-ring: brown=n, buff=b, cinnamon=c, gray=g, orange=o, pink=p, red=e, white=w, yellow=y\n",
    "stalk-color-below-ring: brown=n, buff=b, cinnamon=c, gray=g, orange=o, pink=p, red=e, white=w, yellow=y\n",
    "veil-type: partial=p, universal=u\n",
    "veil-color: brown=n, orange=o, white=w, yellow=y\n",
    "ring-number: none=n, one=o, two=t\n",
    "ring-type: cobwebby=c, evanescent=e, flaring=f, large=l, none=n, pendant=p, sheathing=s, zone=z\n",
    "spore-print-color: black=k, brown=n, buff=b, chocolate=h, green=r, orange=o, purple=u, white=w, yellow=y\n",
    "population: abundant=a, clustered=c, numerous=n, scattered=s, several=v, solitary=y\n",
    "habitat: grasses=g, leaves=l, meadows=m, paths=p, urban=u, waste=w, woods=d\n",
    "\n",
    "\n",
    "The data in the mushrooms dataset is currently encoded with strings. These values will need to be encoded to numeric to work with sklearn. We'll use pd.get_dummies to convert the categorical variables into indicator variables."
   ]
  },
  {
   "cell_type": "raw",
   "metadata": {},
   "source": [
    "PD.GET_DUMMIES IS A METHOD THAT CONVERTS CATEGORICAL VARIABLES INTO TRUE/FALSE BINARY VARIABLES"
   ]
  },
  {
   "cell_type": "markdown",
   "metadata": {},
   "source": [
    "# QUESTION 5"
   ]
  },
  {
   "cell_type": "raw",
   "metadata": {},
   "source": [
    "Using X_train2 and y_train2 from the preceeding cell, train a DecisionTreeClassifier with default parameters and random_state=0. What are the 5 most important features found by the decision tree?\n",
    "\n",
    "As a reminder, the feature names are available in the X_train2.columns property, and the order of the features in X_train2.columns matches the order of the feature importance values in the classifier's feature_importances_ property.\n",
    "\n",
    "This function should return a list of length 5 containing the feature names in descending order of importance.\n",
    "\n",
    "Note: remember that you also need to set random_state in the DecisionTreeClassifier.\n",
    "\n",
    "# use the variables X_train2, y_train2 for Question 5\n",
    "X_train2, X_test2, y_train2, y_test2 = train_test_split(X_mush, y_mush, random_state=0)\n",
    "\n",
    "# Use the variables X_subset, y_subset for Questions 6 and 7.\n",
    "X_subset = X_test2\n",
    "y_subset = y_test2"
   ]
  },
  {
   "cell_type": "code",
   "execution_count": 12,
   "metadata": {},
   "outputs": [],
   "source": [
    "mush_df = pd.read_csv('data/mushrooms.csv')\n",
    "mush_df2 = pd.get_dummies(mush_df)\n",
    "\n",
    "X_mush = mush_df2.iloc[:,2:]\n",
    "y_mush = mush_df2.iloc[:,1]\n",
    "\n",
    "# use the variables X_train2, y_train2 for Question 5\n",
    "X_train2, X_test2, y_train2, y_test2 = train_test_split(X_mush, y_mush, random_state=0)\n",
    "\n",
    "# Use the variables X_subset, y_subset for Questions 6 and 7.\n",
    "X_subset = X_test2\n",
    "y_subset = y_test2"
   ]
  },
  {
   "cell_type": "code",
   "execution_count": 44,
   "metadata": {},
   "outputs": [
    {
     "data": {
      "text/plain": [
       "['odor_n', 'stalk-root_c', 'stalk-root_r', 'spore-print-color_r', 'odor_l']"
      ]
     },
     "execution_count": 44,
     "metadata": {},
     "output_type": "execute_result"
    }
   ],
   "source": [
    "tree = DecisionTreeClassifier(random_state=0)\n",
    "tree.fit(X_train2, y_train2)\n",
    "\n",
    "imps = list(tree.feature_importances_)\n",
    "feats = list(X_train2.columns)\n",
    "\n",
    "# creating results dict via zip\n",
    "result = dict(zip(feats, imps))\n",
    "\n",
    "# ordering the dictionary via dictionary comprehension\n",
    "    ## basically, use the sorted func to order the dic_items. the lambda is used to sort based on value [1]\n",
    "result = {key: value for key, value in sorted(result.items(), key=lambda item: item[1], reverse=True)}\n",
    "    ## converting the ordered results to a list as per problem statement\n",
    "result_list = list(result.keys())\n",
    "result_list[:5]"
   ]
  },
  {
   "cell_type": "markdown",
   "metadata": {},
   "source": [
    "# QUESTION 6"
   ]
  },
  {
   "cell_type": "raw",
   "metadata": {},
   "source": [
    "For this question, we're going to use the validation_curve function in sklearn.model_selection to determine training and test scores for a Support Vector Classifier (SVC) with varying parameter values. Recall that the validation_curve function, in addition to taking an initialized unfitted classifier object, takes a dataset as input and does its own internal train-test splits to compute results.\n",
    "\n",
    "Because creating a validation curve requires fitting multiple models, for performance reasons this question will use just a subset of the original mushroom dataset: please use the variables X_subset and y_subset as input to the validation curve function (instead of X_mush and y_mush) to reduce computation time.\n",
    "\n",
    "The initialized unfitted classifier object we'll be using is a Support Vector Classifier with radial basis kernel. So your first step is to create an SVC object with default parameters (i.e. kernel='rbf', C=1) and random_state=0. Recall that the kernel width of the RBF kernel is controlled using the gamma parameter.\n",
    "\n",
    "With this classifier, and the dataset in X_subset, y_subset, explore the effect of gamma on classifier accuracy by using the validation_curve function to find the training and test scores for 6 values of gamma from 0.0001 to 10 (i.e. np.logspace(-4,1,6)). Recall that you can specify what scoring metric you want validation_curve to use by setting the \"scoring\" parameter. In this case, we want to use \"accuracy\" as the scoring metric.\n",
    "\n",
    "For each level of gamma, validation_curve will fit 3 models on different subsets of the data, returning two 6x3 (6 levels of gamma x 3 fits per level) arrays of the scores for the training and test sets.\n",
    "\n",
    "Find the mean score across the three models for each level of gamma for both arrays, creating two arrays of length 6, and return a tuple with the two arrays.\n",
    "\n",
    "e.g.\n",
    "\n",
    "if one of your array of scores is\n",
    "\n",
    "array([[ 0.5,  0.4,  0.6],\n",
    "       [ 0.7,  0.8,  0.7],\n",
    "       [ 0.9,  0.8,  0.8],\n",
    "       [ 0.8,  0.7,  0.8],\n",
    "       [ 0.7,  0.6,  0.6],\n",
    "       [ 0.4,  0.6,  0.5]])\n",
    "it should then become\n",
    "\n",
    "array([ 0.5,  0.73333333,  0.83333333,  0.76666667,  0.63333333, 0.5])\n",
    "This function should return one tuple of numpy arrays (training_scores, test_scores) where each array in the tuple has shape (6,)."
   ]
  },
  {
   "cell_type": "code",
   "execution_count": 54,
   "metadata": {},
   "outputs": [],
   "source": [
    "# creating cross-validation.\n",
    "    ## stating cv=3 as the problem wanted 3 folds (older default)\n",
    "train_scores, test_scores = validation_curve(SVC(), X_subset, y_subset, param_name=\"gamma\", param_range=np.logspace(-4,1,6), scoring=\"accuracy\", cv=3)"
   ]
  },
  {
   "cell_type": "code",
   "execution_count": 62,
   "metadata": {},
   "outputs": [],
   "source": [
    "# to obtain the average per row we use np.apply_along-axis function for each array\n",
    "\n",
    "train_scores_sol = np.apply_along_axis(np.mean, 1, train_scores)\n",
    "\n",
    "test_scores_sol = np.apply_along_axis(np.mean, 1, test_scores)\n",
    "\n",
    "result = (train_scores_sol, test_scores_sol)"
   ]
  },
  {
   "cell_type": "markdown",
   "metadata": {},
   "source": [
    "# QUESTION 7"
   ]
  },
  {
   "cell_type": "raw",
   "metadata": {},
   "source": [
    "Based on the scores from question 6, what gamma value corresponds to a model that is underfitting (and has the worst test set accuracy)? What gamma value corresponds to a model that is overfitting (and has the worst test set accuracy)? What choice of gamma would be the best choice for a model with good generalization performance on this dataset (high accuracy on both training and test set)?\n",
    "\n",
    "Hint: Try plotting the scores from question 6 to visualize the relationship between gamma and accuracy. Remember to comment out the import matplotlib line before submission.\n",
    "\n",
    "This function should return one tuple with the degree values in this order: (Underfitting, Overfitting, Good_Generalization) Please note there is only one correct solution."
   ]
  },
  {
   "cell_type": "code",
   "execution_count": 71,
   "metadata": {},
   "outputs": [
    {
     "data": {
      "image/png": "[encoded data removed]",
      "text/plain": [
       "<Figure size 432x288 with 1 Axes>"
      ]
     },
     "metadata": {
      "needs_background": "light"
     },
     "output_type": "display_data"
    }
   ],
   "source": [
    "plt.plot(result[0], label=\"train\")\n",
    "plt.plot(result[1], label=\"test\")\n",
    "plt.legend();"
   ]
  },
  {
   "cell_type": "code",
   "execution_count": null,
   "metadata": {},
   "outputs": [],
   "source": []
  }
 ],
 "metadata": {
  "kernelspec": {
   "display_name": "Python 3",
   "language": "python",
   "name": "python3"
  },
  "language_info": {
   "codemirror_mode": {
    "name": "ipython",
    "version": 3
   },
   "file_extension": ".py",
   "mimetype": "text/x-python",
   "name": "python",
   "nbconvert_exporter": "python",
   "pygments_lexer": "ipython3",
   "version": "3.8.5"
  }
 },
 "nbformat": 4,
 "nbformat_minor": 4
}
