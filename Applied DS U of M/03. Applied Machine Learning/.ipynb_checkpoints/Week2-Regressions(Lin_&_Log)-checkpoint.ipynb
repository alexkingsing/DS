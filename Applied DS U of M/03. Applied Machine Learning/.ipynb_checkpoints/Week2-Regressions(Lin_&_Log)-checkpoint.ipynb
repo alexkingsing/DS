{
 "cells": [
  {
   "cell_type": "code",
   "execution_count": 1,
   "metadata": {},
   "outputs": [],
   "source": [
    "import numpy as np\n",
    "import pandas as pd\n",
    "import matplotlib.pyplot as plt\n",
    "from sklearn.model_selection import train_test_split"
   ]
  },
  {
   "cell_type": "markdown",
   "metadata": {},
   "source": [
    "# NORMALIZATION"
   ]
  },
  {
   "cell_type": "raw",
   "metadata": {},
   "source": [
    "Data normalization is extremely important for most machinelearning models, but especially for those like linear regression(s) that are sensitive to data scale, intervals and absolute magnitudes.\n",
    "\n",
    "A common normalization method used is MinMaxing. Which is basically \n",
    "1. Obtain the max and min values for each feature\n",
    "2. re-compute feature values based on the min-max scale. This results in 0 to 1 range.\n",
    "3. train model based on normalized data.\n",
    "\n",
    "Normalization formula is:\n",
    "\n",
    "NormalizedVal = (Orignal Val - MinVal) / (MaxVal - MinVal)\n",
    "\n",
    "sklearn has a minmax scaler incorporated"
   ]
  },
  {
   "cell_type": "code",
   "execution_count": 26,
   "metadata": {},
   "outputs": [],
   "source": [
    "# import method for the class\n",
    "from sklearn.preprocessing import MinMaxScaler\n",
    "# instance creation\n",
    "scaler = MinMaxScaler()\n",
    "\n",
    "# to normalize, you do:\n",
    "\n",
    "##   scaler.fit(X_train) ## THIS OBTAINS MIN MAX FOR LATER TRANSFORM\n",
    "##   X_NORMALIZED = scaler.transform(X_train)\n",
    "\n",
    "# You can also do it in a single operation\n",
    "##   X_NORMALIZED = scaler.fit_transform(X_train)"
   ]
  },
  {
   "cell_type": "markdown",
   "metadata": {},
   "source": [
    "# LINEAR REGRESSION"
   ]
  },
  {
   "cell_type": "raw",
   "metadata": {},
   "source": [
    "The Linear Regression is an application of the generalized linear models.\n",
    "Basically, a linear regression forms an equation of the form\n",
    "\n",
    "y = B + w0x0 + w1x1...\n",
    "\n",
    "Where y is the desired target value\n",
    "B is a constant value that represents the 0-intercept of the Y-axis with the X-axis\n",
    "and wx represent the weights of each independent feature / variable"
   ]
  },
  {
   "cell_type": "raw",
   "metadata": {},
   "source": [
    "The most known and easiest technique for linear regression is estimation by least squares.\n",
    "\n",
    "Basically, this computes the squared difference between predicted Y and \"real\" Y, and tries to estimate the optimal line through minimization of the squared error.\n",
    "One weakness of this approach is that it does not have parameters to control model complexity."
   ]
  },
  {
   "cell_type": "markdown",
   "metadata": {},
   "source": [
    "## Implementation in SKLEARN"
   ]
  },
  {
   "cell_type": "code",
   "execution_count": 2,
   "metadata": {},
   "outputs": [
    {
     "data": {
      "image/png": "[encoded data removed]",
      "text/plain": [
       "<Figure size 432x288 with 1 Axes>"
      ]
     },
     "metadata": {
      "needs_background": "light"
     },
     "output_type": "display_data"
    }
   ],
   "source": [
    "# synthetic dataset for simple regression\n",
    "from sklearn.datasets import make_regression\n",
    "plt.figure()\n",
    "plt.title('Sample regression problem with one input variable')\n",
    "X_R1, y_R1 = make_regression(n_samples = 100, n_features=1,\n",
    "                            n_informative=1, bias = 150.0,\n",
    "                            noise = 30, random_state=0)\n",
    "plt.scatter(X_R1, y_R1, marker= 'o', s=50)\n",
    "plt.show()"
   ]
  },
  {
   "cell_type": "code",
   "execution_count": 3,
   "metadata": {},
   "outputs": [],
   "source": [
    "# importing standard linear regression from sklearn\n",
    "from sklearn.linear_model import LinearRegression\n",
    "\n",
    "# splitting the test data\n",
    "X_train, X_test, y_train, y_test = train_test_split(X_R1, y_R1)"
   ]
  },
  {
   "cell_type": "code",
   "execution_count": 4,
   "metadata": {},
   "outputs": [
    {
     "name": "stdout",
     "output_type": "stream",
     "text": [
      "Intercept: 145.5892253453617\n",
      "Weight / Coef: [42.89756357]\n"
     ]
    }
   ],
   "source": [
    "# constructing linear regression class\n",
    "linreg = LinearRegression()\n",
    "linreg.fit(X_train, y_train)\n",
    "\n",
    "# intercept, constant value; and weights\n",
    "print(f\"Intercept: {linreg.intercept_}\")\n",
    "print(f\"Weight / Coef: {linreg.coef_}\")\n",
    "\n",
    "# Intercept, or constant value = linreg.intercept_\n",
    "# weights of each variable / feature = linreg.coef_"
   ]
  },
  {
   "cell_type": "code",
   "execution_count": 15,
   "metadata": {},
   "outputs": [
    {
     "data": {
      "text/plain": [
       "0.6470436266518025"
      ]
     },
     "execution_count": 15,
     "metadata": {},
     "output_type": "execute_result"
    }
   ],
   "source": [
    "# the coefficient of determination is obtain with test values like this\n",
    "linreg.score(X_test,y_test) # this rquires an array"
   ]
  },
  {
   "cell_type": "code",
   "execution_count": 18,
   "metadata": {},
   "outputs": [
    {
     "data": {
      "text/plain": [
       "array([188.48678891])"
      ]
     },
     "execution_count": 18,
     "metadata": {},
     "output_type": "execute_result"
    }
   ],
   "source": [
    "# the actual rpedicted vañues are calculated by passing an array of x vals\n",
    "linreg.predict([[1]])"
   ]
  },
  {
   "cell_type": "raw",
   "metadata": {},
   "source": [
    "It is also a good idea to compare KNN regressions to linear regressions in exploration of which model is more accurate."
   ]
  },
  {
   "cell_type": "markdown",
   "metadata": {},
   "source": [
    "## Linear Regression: Ridge, Lasso, and Polynomial Regression"
   ]
  },
  {
   "cell_type": "markdown",
   "metadata": {},
   "source": [
    "### Ridge Regression"
   ]
  },
  {
   "cell_type": "raw",
   "metadata": {},
   "source": [
    "Works very similarly to linear regression, with the added caveat that it includes a penalty for highly variable weight parameters during the LEARNING PHASE.\n",
    "AFter learning phase, the Ridge REgression behaves in the same way as the linear regression.\n",
    "\n",
    "The addition of this penalty is called REGULARIZATION. In this case, regularization is done by including the SUM OF THE SQUARE OF THE FEATURE/VARIABLE WEIGHTS.\n",
    "\n",
    "The regularization is managed by an Alpha parameter. The higher alpha, the higuer the regularization and the simpler the model."
   ]
  },
  {
   "cell_type": "code",
   "execution_count": 29,
   "metadata": {},
   "outputs": [
    {
     "data": {
      "text/plain": [
       "Ridge(alpha=2)"
      ]
     },
     "execution_count": 29,
     "metadata": {},
     "output_type": "execute_result"
    }
   ],
   "source": [
    "# to use ridge, we just import its class\n",
    "from sklearn.linear_model import Ridge\n",
    "\n",
    "# the alpha parameter is set on instance creation\n",
    "linrid = Ridge(alpha=2)\n",
    "linrid.fit(X_train, y_train)"
   ]
  },
  {
   "cell_type": "code",
   "execution_count": 30,
   "metadata": {},
   "outputs": [
    {
     "name": "stdout",
     "output_type": "stream",
     "text": [
      "[41.78329265]\n",
      "145.72104888970924\n",
      "0.646390444137216\n"
     ]
    }
   ],
   "source": [
    "# the linear ridge has the same relevant attributes as the linear regression: Coefficients, intercept and R-squared\n",
    "print(linrid.coef_)\n",
    "print(linrid.intercept_)\n",
    "print(linrid.score(X_test, y_test))"
   ]
  },
  {
   "cell_type": "code",
   "execution_count": 31,
   "metadata": {},
   "outputs": [
    {
     "name": "stdout",
     "output_type": "stream",
     "text": [
      "[120.22399037]\n",
      "95.1683184609872\n",
      "0.503661621755002\n"
     ]
    }
   ],
   "source": [
    "# applying normalization to data before re-training. IN THIS EXAMPLE THE NORMALIZED DATA WAS NOT VERY ACCURATE.\n",
    "\n",
    "X_train_normalized = scaler.fit_transform(X_train)\n",
    "X_test_normalized = scaler.fit_transform(X_test)\n",
    "\n",
    "linrid2 = Ridge(alpha=2)\n",
    "\n",
    "linrid2.fit(X_train_normalized, y_train)\n",
    "\n",
    "print(linrid2.coef_)\n",
    "print(linrid2.intercept_)\n",
    "print(linrid2.score(X_test_normalized, y_test))"
   ]
  },
  {
   "cell_type": "markdown",
   "metadata": {},
   "source": [
    "## Lasso Regression"
   ]
  },
  {
   "cell_type": "raw",
   "metadata": {},
   "source": [
    "Lasso regression is extremely similar to Ridge regression, with the key difference that penalizes based on the SUM OF THE ABSOLUTE VALUES OF THE WEIGHTS.\n",
    "In the extreme case, this sets the effect of weak variables to 0.\n",
    "This is called a sparse solution, a kind of feature selection.\n",
    "\n",
    "Just like in Ridge, this feature is tuned by an alpha parameter."
   ]
  },
  {
   "cell_type": "code",
   "execution_count": 32,
   "metadata": {},
   "outputs": [],
   "source": [
    "# aside from importing the class, its the same process as ridge or linear\n",
    "from sklearn.linear_model import Lasso"
   ]
  },
  {
   "cell_type": "code",
   "execution_count": 33,
   "metadata": {},
   "outputs": [
    {
     "name": "stdout",
     "output_type": "stream",
     "text": [
      "[139.48220697]\n",
      "86.27864582243278\n",
      "0.5277996496420515\n"
     ]
    }
   ],
   "source": [
    "linlas = Lasso(alpha=2)\n",
    "\n",
    "linlas.fit(X_train_normalized, y_train)\n",
    "\n",
    "print(linlas.coef_)\n",
    "print(linlas.intercept_)\n",
    "print(linlas.score(X_test_normalized, y_test))"
   ]
  },
  {
   "cell_type": "markdown",
   "metadata": {},
   "source": [
    "## LASSO VS RIDGE"
   ]
  },
  {
   "cell_type": "raw",
   "metadata": {},
   "source": [
    "Ridge is best used when there are MANY VARIABLES with MID OR SMALL EFFECTS.\n",
    "Lasso is best used when there are FEW VARIABLES with MID OR LARGE EFFECTS."
   ]
  },
  {
   "cell_type": "markdown",
   "metadata": {},
   "source": [
    "# POLYNOMIAL FEATURES REGRESSION"
   ]
  },
  {
   "cell_type": "raw",
   "metadata": {},
   "source": [
    "Polynomial features on linear regression is a transformation that takes K features and transform them into a combination of K*K features of varied degrees.\n",
    "The purpose of this transfortion is to capture more intricate relationships between the existing features and to better model them inside a linear regression everything. Interestingly, enough, even if the variables use different degrees (squared or cube), the problem still fits inside a linear regression.\n",
    "\n",
    "This is specially helpful in some clasffication problems.\n",
    "\n",
    "BEWARE: Using too many or too high degrees can lead to overfitting.\n",
    "\n",
    "POLYNOMIAL REGRESSION IS BEST USED WITH METHODS LIKE RIDGE OR LASSO WHICH HAVE REGULARIZATION.\n",
    "\n",
    "to use pólynomial features, SKlearn as a very useful class."
   ]
  },
  {
   "cell_type": "code",
   "execution_count": 34,
   "metadata": {},
   "outputs": [
    {
     "data": {
      "text/plain": [
       "<matplotlib.collections.PathCollection at 0x15ef3779610>"
      ]
     },
     "execution_count": 34,
     "metadata": {},
     "output_type": "execute_result"
    },
    {
     "data": {
      "image/png": "[encoded data removed]",
      "text/plain": [
       "<Figure size 432x288 with 1 Axes>"
      ]
     },
     "metadata": {
      "needs_background": "light"
     },
     "output_type": "display_data"
    }
   ],
   "source": [
    "# creating sample features\n",
    "from sklearn.datasets import make_friedman1\n",
    "plt.figure()\n",
    "plt.title('Complex regression problem with one input variable')\n",
    "X_F1, y_F1 = make_friedman1(n_samples = 100,\n",
    "                           n_features = 7, random_state=0)\n",
    "\n",
    "plt.scatter(X_F1[:, 2], y_F1, marker= 'o', s=50)"
   ]
  },
  {
   "cell_type": "code",
   "execution_count": 35,
   "metadata": {},
   "outputs": [
    {
     "name": "stdout",
     "output_type": "stream",
     "text": [
      "[ 5.68079327  7.26092741 -0.3622613   9.33920716  6.06125848 -1.29298037\n",
      "  0.95064333]\n",
      "0.7381921239328637\n",
      "0.5388658945729096\n"
     ]
    }
   ],
   "source": [
    "# computing results without polynomial featurig\n",
    "\n",
    "X_train, X_test, y_train, y_test = train_test_split(X_F1, y_F1)\n",
    "\n",
    "linreg2 = LinearRegression()\n",
    "linreg2.fit(X_train, y_train)\n",
    "\n",
    "print(linreg2.coef_)\n",
    "print(linreg2.intercept_)\n",
    "print(linreg2.score(X_test, y_test))"
   ]
  },
  {
   "cell_type": "code",
   "execution_count": 36,
   "metadata": {},
   "outputs": [
    {
     "name": "stdout",
     "output_type": "stream",
     "text": [
      "[ 2.42060967e-13  1.48380417e+01  2.99867584e+01 -1.41856666e+01\n",
      "  1.10630580e+01  4.61319489e+00  5.08781787e+00  1.71744256e+00\n",
      " -5.05247077e+00 -5.66024135e-01  1.29382604e+00 -1.96907262e+00\n",
      " -6.52401497e-03 -2.09010653e+00 -3.24447512e+00 -1.40677281e+01\n",
      " -1.00028818e+00 -7.79000399e+00 -1.25434954e+00 -2.51187680e+00\n",
      " -5.22908263e+00  1.24308768e+01 -9.91788260e-01  1.53454084e+00\n",
      " -2.87563209e+00  4.60179956e+00  4.10319722e+00  9.51512612e-01\n",
      " -1.29253494e+00  6.27574995e-02  7.24959739e-02 -1.60176407e+00\n",
      "  8.03181243e-01 -2.02528701e+00  3.75003928e+00 -2.45385055e+00]\n",
      "-5.058781921255612\n",
      "0.825910408824968\n"
     ]
    }
   ],
   "source": [
    "# importing the class\n",
    "from sklearn.preprocessing import PolynomialFeatures\n",
    "\n",
    "# instancing the class with degrees\n",
    "poly = PolynomialFeatures(degree=2)\n",
    "\n",
    "# just like MinMaxScaling, we can use fit_transform\n",
    "X_poly = poly.fit_transform(X_F1)\n",
    "\n",
    "X_train, X_test, y_train, y_test = train_test_split(X_poly, y_F1)\n",
    "\n",
    "linreg3 = LinearRegression()\n",
    "linreg3.fit(X_train, y_train)\n",
    "\n",
    "print(linreg3.coef_)\n",
    "print(linreg3.intercept_)\n",
    "print(linreg3.score(X_test, y_test))"
   ]
  },
  {
   "cell_type": "markdown",
   "metadata": {},
   "source": [
    "# LOGISTIC REGRESSION"
   ]
  },
  {
   "cell_type": "raw",
   "metadata": {},
   "source": [
    "Logistic regression is a different form of regression in which the result is not a continous Y variable, but rather, a classification.\n",
    "\n",
    "In essence, the logistic function takes the features, calculates a standard regression and then calculates the probability of Y belonging to a certain group, normally a binary classification.\n",
    "\n",
    "The output of the logistic regression is a PROBABILITY OR A DECISION.\n",
    "\n",
    "Logistic regression can only be applied to large datasets. Similarly, multiple assumptions need to be made in a dataset to be able to apply this machine learning algorithm. \n",
    "\n",
    "The dependent variable has to be binary in a binary logistic equation\n",
    "The factor level 1 of the dependent variable should represent the desired outcome\n",
    "Including non-meaningful variables may throw errors. Only include the variables that are necessary and may show a correlation \n",
    "The model should have little or no multicollinearity – the independent variables should be absolutely independent of each other\n",
    "The independent variables are linearly related to the log odds"
   ]
  },
  {
   "cell_type": "code",
   "execution_count": 62,
   "metadata": {},
   "outputs": [
    {
     "data": {
      "text/html": [
       "<div>\n",
       "<style scoped>\n",
       "    .dataframe tbody tr th:only-of-type {\n",
       "        vertical-align: middle;\n",
       "    }\n",
       "\n",
       "    .dataframe tbody tr th {\n",
       "        vertical-align: top;\n",
       "    }\n",
       "\n",
       "    .dataframe thead th {\n",
       "        text-align: right;\n",
       "    }\n",
       "</style>\n",
       "<table border=\"1\" class=\"dataframe\">\n",
       "  <thead>\n",
       "    <tr style=\"text-align: right;\">\n",
       "      <th></th>\n",
       "      <th>fruit_label</th>\n",
       "      <th>fruit_name</th>\n",
       "      <th>fruit_subtype</th>\n",
       "      <th>mass</th>\n",
       "      <th>width</th>\n",
       "      <th>height</th>\n",
       "      <th>color_score</th>\n",
       "    </tr>\n",
       "  </thead>\n",
       "  <tbody>\n",
       "    <tr>\n",
       "      <th>0</th>\n",
       "      <td>1</td>\n",
       "      <td>apple</td>\n",
       "      <td>granny_smith</td>\n",
       "      <td>192</td>\n",
       "      <td>8.4</td>\n",
       "      <td>7.3</td>\n",
       "      <td>0.55</td>\n",
       "    </tr>\n",
       "    <tr>\n",
       "      <th>1</th>\n",
       "      <td>1</td>\n",
       "      <td>apple</td>\n",
       "      <td>granny_smith</td>\n",
       "      <td>180</td>\n",
       "      <td>8.0</td>\n",
       "      <td>6.8</td>\n",
       "      <td>0.59</td>\n",
       "    </tr>\n",
       "    <tr>\n",
       "      <th>2</th>\n",
       "      <td>1</td>\n",
       "      <td>apple</td>\n",
       "      <td>granny_smith</td>\n",
       "      <td>176</td>\n",
       "      <td>7.4</td>\n",
       "      <td>7.2</td>\n",
       "      <td>0.60</td>\n",
       "    </tr>\n",
       "    <tr>\n",
       "      <th>3</th>\n",
       "      <td>0</td>\n",
       "      <td>mandarin</td>\n",
       "      <td>mandarin</td>\n",
       "      <td>86</td>\n",
       "      <td>6.2</td>\n",
       "      <td>4.7</td>\n",
       "      <td>0.80</td>\n",
       "    </tr>\n",
       "    <tr>\n",
       "      <th>4</th>\n",
       "      <td>0</td>\n",
       "      <td>mandarin</td>\n",
       "      <td>mandarin</td>\n",
       "      <td>84</td>\n",
       "      <td>6.0</td>\n",
       "      <td>4.6</td>\n",
       "      <td>0.79</td>\n",
       "    </tr>\n",
       "    <tr>\n",
       "      <th>5</th>\n",
       "      <td>0</td>\n",
       "      <td>mandarin</td>\n",
       "      <td>mandarin</td>\n",
       "      <td>80</td>\n",
       "      <td>5.8</td>\n",
       "      <td>4.3</td>\n",
       "      <td>0.77</td>\n",
       "    </tr>\n",
       "    <tr>\n",
       "      <th>6</th>\n",
       "      <td>0</td>\n",
       "      <td>mandarin</td>\n",
       "      <td>mandarin</td>\n",
       "      <td>80</td>\n",
       "      <td>5.9</td>\n",
       "      <td>4.3</td>\n",
       "      <td>0.81</td>\n",
       "    </tr>\n",
       "    <tr>\n",
       "      <th>7</th>\n",
       "      <td>0</td>\n",
       "      <td>mandarin</td>\n",
       "      <td>mandarin</td>\n",
       "      <td>76</td>\n",
       "      <td>5.8</td>\n",
       "      <td>4.0</td>\n",
       "      <td>0.81</td>\n",
       "    </tr>\n",
       "    <tr>\n",
       "      <th>8</th>\n",
       "      <td>1</td>\n",
       "      <td>apple</td>\n",
       "      <td>braeburn</td>\n",
       "      <td>178</td>\n",
       "      <td>7.1</td>\n",
       "      <td>7.8</td>\n",
       "      <td>0.92</td>\n",
       "    </tr>\n",
       "    <tr>\n",
       "      <th>9</th>\n",
       "      <td>1</td>\n",
       "      <td>apple</td>\n",
       "      <td>braeburn</td>\n",
       "      <td>172</td>\n",
       "      <td>7.4</td>\n",
       "      <td>7.0</td>\n",
       "      <td>0.89</td>\n",
       "    </tr>\n",
       "  </tbody>\n",
       "</table>\n",
       "</div>"
      ],
      "text/plain": [
       "   fruit_label fruit_name fruit_subtype  mass  width  height  color_score\n",
       "0            1      apple  granny_smith   192    8.4     7.3         0.55\n",
       "1            1      apple  granny_smith   180    8.0     6.8         0.59\n",
       "2            1      apple  granny_smith   176    7.4     7.2         0.60\n",
       "3            0   mandarin      mandarin    86    6.2     4.7         0.80\n",
       "4            0   mandarin      mandarin    84    6.0     4.6         0.79\n",
       "5            0   mandarin      mandarin    80    5.8     4.3         0.77\n",
       "6            0   mandarin      mandarin    80    5.9     4.3         0.81\n",
       "7            0   mandarin      mandarin    76    5.8     4.0         0.81\n",
       "8            1      apple      braeburn   178    7.1     7.8         0.92\n",
       "9            1      apple      braeburn   172    7.4     7.0         0.89"
      ]
     },
     "execution_count": 62,
     "metadata": {},
     "output_type": "execute_result"
    }
   ],
   "source": [
    "# using the fruit dataset for an example\n",
    "df = pd.read_csv(\"data/fruit_data_with_colors.txt\", sep=\"\\t\")\n",
    "\n",
    "# transforming the the fruit label columns so that 1 is apple and 0 is non apple\n",
    "df[\"fruit_label\"] = df[\"fruit_name\"].apply(lambda x: 0 if x != \"apple\" else 1)\n",
    "df.head(10)"
   ]
  },
  {
   "cell_type": "code",
   "execution_count": 63,
   "metadata": {},
   "outputs": [
    {
     "data": {
      "text/plain": [
       "LogisticRegression(C=10)"
      ]
     },
     "execution_count": 63,
     "metadata": {},
     "output_type": "execute_result"
    }
   ],
   "source": [
    "# the logistic model just needs to be imported\n",
    "from sklearn.linear_model import LogisticRegression\n",
    "\n",
    "# then, it just needs to be trained normally loke toher models\n",
    "## setting independt variables to be width and height\n",
    "X = df[[\"width\", \"height\"]]\n",
    "y = df[\"fruit_label\"]\n",
    "\n",
    "X_train, X_test, y_train, y_test = train_test_split(X,y)\n",
    "\n",
    "# the C parameter is a regularization parameter just like in Ridge or Lasso\n",
    "logreg = LogisticRegression(C=10)\n",
    "\n",
    "logreg.fit(X_train, y_train)"
   ]
  },
  {
   "cell_type": "code",
   "execution_count": 81,
   "metadata": {},
   "outputs": [
    {
     "name": "stdout",
     "output_type": "stream",
     "text": [
      "[[ 1.68068175 -0.81853504]]\n",
      "[-6.88194198]\n",
      "0.5333333333333333\n"
     ]
    }
   ],
   "source": [
    "print(logreg.coef_)\n",
    "print(logreg.intercept_)\n",
    "# the score here is a standard accuracy\n",
    "print(logreg.score(X_test, y_test))"
   ]
  },
  {
   "cell_type": "code",
   "execution_count": 82,
   "metadata": {},
   "outputs": [
    {
     "data": {
      "text/plain": [
       "array([0], dtype=int64)"
      ]
     },
     "execution_count": 82,
     "metadata": {},
     "output_type": "execute_result"
    }
   ],
   "source": [
    "# the standard prediction is run to predict\n",
    "logreg.predict([[1,1]])"
   ]
  },
  {
   "cell_type": "code",
   "execution_count": 85,
   "metadata": {},
   "outputs": [
    {
     "data": {
      "text/plain": [
       "array([[-2.42721900e-03, -6.02222249e+00]])"
      ]
     },
     "execution_count": 85,
     "metadata": {},
     "output_type": "execute_result"
    }
   ],
   "source": [
    "# both we can also obtain the probabilities for the run.\n",
    "    ## this returns an array of 2 probabilities. in this case:\n",
    "        ### the slice [0] is the probability of NOT BEING an apple\n",
    "        ### the slice [1] is the probability of BEING an apple\n",
    "logreg.predict_log_proba([[1,1]])"
   ]
  },
  {
   "cell_type": "code",
   "execution_count": 86,
   "metadata": {},
   "outputs": [
    {
     "data": {
      "text/plain": [
       "array([0, 1], dtype=int64)"
      ]
     },
     "execution_count": 86,
     "metadata": {},
     "output_type": "execute_result"
    }
   ],
   "source": [
    "logreg.classes_"
   ]
  }
 ],
 "metadata": {
  "kernelspec": {
   "display_name": "Python 3",
   "language": "python",
   "name": "python3"
  },
  "language_info": {
   "codemirror_mode": {
    "name": "ipython",
    "version": 3
   },
   "file_extension": ".py",
   "mimetype": "text/x-python",
   "name": "python",
   "nbconvert_exporter": "python",
   "pygments_lexer": "ipython3",
   "version": "3.8.5"
  }
 },
 "nbformat": 4,
 "nbformat_minor": 4
}
