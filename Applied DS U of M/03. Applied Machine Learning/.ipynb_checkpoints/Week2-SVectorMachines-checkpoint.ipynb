{
 "cells": [
  {
   "cell_type": "code",
   "execution_count": 2,
   "metadata": {},
   "outputs": [],
   "source": [
    "import pandas as pd\n",
    "import numpy as np\n",
    "import matplotlib.pyplot as plt\n",
    "from sklearn.model_selection import train_test_split"
   ]
  },
  {
   "cell_type": "markdown",
   "metadata": {},
   "source": [
    "# SUPPORT VECTOR MACHINES"
   ]
  },
  {
   "cell_type": "markdown",
   "metadata": {},
   "source": [
    "## LINEAR Support Vector Machines"
   ]
  },
  {
   "cell_type": "raw",
   "metadata": {},
   "source": [
    "A linear support vector machine is a classification algorithm which transform and processes features in process similar to that a logistic regression (the model is described by a linear equation) however a SVM transforms the standard linear model to a vector space.\n",
    "\n",
    "In essence the SVM transforms the linear function into a vector space like this:\n",
    "\n",
    "standard_form -> y = C + w0x0 + w1x1\n",
    "\n",
    "vector_form -> y = [ C + w ° x]\n",
    "w -> is the vector all weights [w1, w2, w3]\n",
    "x -> is the vector of all features [x1, x2, x3]\n",
    "finally, w ° x represents the dot product between vectors W and X. The dot product is the multiplication of each equivalent vector w1x1 + w2x2, etc...\n",
    "\n",
    "The Linear SVM's internal result, for a BINARY PROBLEM, is a -1 or +1 which denotes the vector space of the result. This is a form of classification."
   ]
  },
  {
   "cell_type": "raw",
   "metadata": {},
   "source": [
    "A LSVM works by maximizing what is known as the margin space, that is, the distance between the boundary region ( a line defined by the algorithm ) and the closest \"vectors\" which are data points obtained through training.\n",
    "\n",
    "By using this approach LSVM attempts to simplify and improve the decision process"
   ]
  },
  {
   "cell_type": "code",
   "execution_count": 5,
   "metadata": {},
   "outputs": [
    {
     "data": {
      "image/png": "[encoded data removed]",
      "text/plain": [
       "<Figure size 432x288 with 1 Axes>"
      ]
     },
     "metadata": {
      "needs_background": "light"
     },
     "output_type": "display_data"
    }
   ],
   "source": [
    "# synthetic dataset for classification (binary) \n",
    "from sklearn.datasets import make_classification\n",
    "plt.figure()\n",
    "plt.title('Sample binary classification problem with two informative features')\n",
    "X_C2, y_C2 = make_classification(n_samples = 100, n_features=2,\n",
    "                                n_redundant=0, n_informative=2,\n",
    "                                n_clusters_per_class=1, flip_y = 0.1,\n",
    "                                class_sep = 0.5, random_state=0)\n",
    "plt.scatter(X_C2[:, 0], X_C2[:, 1], c=y_C2,\n",
    "           marker= 'o', s=50)\n",
    "plt.show()"
   ]
  },
  {
   "cell_type": "code",
   "execution_count": 6,
   "metadata": {},
   "outputs": [],
   "source": [
    "# separating datasets\n",
    "X_train, X_test, y_train, y_test = train_test_split(X_C2, y_C2)"
   ]
  },
  {
   "cell_type": "code",
   "execution_count": 8,
   "metadata": {},
   "outputs": [
    {
     "data": {
      "text/plain": [
       "SVC(C=50, kernel='linear')"
      ]
     },
     "execution_count": 8,
     "metadata": {},
     "output_type": "execute_result"
    }
   ],
   "source": [
    "# import SVM class.\n",
    "from sklearn.svm import SVC\n",
    "\n",
    "# similar to logistic regression and other regressions, LSVM supports regularization via the C attribute\n",
    "    ## in this case, large values of C means LESS REGULARIZATION \n",
    "# the kernel attribute indicates this is a linear approach\n",
    "LSVM = SVC(kernel=\"linear\", C=50)\n",
    "\n",
    "# then, similar to other models, we train the model.\n",
    "LSVM.fit(X_train, y_train)"
   ]
  },
  {
   "cell_type": "code",
   "execution_count": 10,
   "metadata": {},
   "outputs": [
    {
     "data": {
      "text/plain": [
       "0.88"
      ]
     },
     "execution_count": 10,
     "metadata": {},
     "output_type": "execute_result"
    }
   ],
   "source": [
    "# the SVM can also generate a score, which represents the proportion of successes.\n",
    "LSVM.score(X_test, y_test)"
   ]
  },
  {
   "cell_type": "code",
   "execution_count": 17,
   "metadata": {},
   "outputs": [
    {
     "data": {
      "text/plain": [
       "LogisticRegression(C=50)"
      ]
     },
     "execution_count": 17,
     "metadata": {},
     "output_type": "execute_result"
    }
   ],
   "source": [
    "# comparing Logistic to LSVM for the same model\n",
    "from sklearn.linear_model import LogisticRegression\n",
    "\n",
    "# using same regularization parameter\n",
    "LR = LogisticRegression(C=50)\n",
    "\n",
    "LR.fit(X_train, y_train)"
   ]
  },
  {
   "cell_type": "code",
   "execution_count": 18,
   "metadata": {},
   "outputs": [
    {
     "name": "stdout",
     "output_type": "stream",
     "text": [
      "0.84\n",
      "0.88\n"
     ]
    }
   ],
   "source": [
    "print(LR.score(X_test, y_test))\n",
    "print(LSVM.score(X_test, y_test))"
   ]
  },
  {
   "cell_type": "markdown",
   "metadata": {},
   "source": [
    "# MULTI-CLASS CLASIFICATION"
   ]
  },
  {
   "cell_type": "raw",
   "metadata": {},
   "source": [
    "For multiclass classification we can use either KNN, Logistic Regression or Support Vector Machines. Either model works depending on several different situations.\n",
    "\n",
    "In essence, what scikitlearn does under the hood is create a distribution of binary problems in the form of:\n",
    "\n",
    "FOR N CATEGORIES:\n",
    "    create N models where the categories are:\n",
    "        N0 or NOT N0"
   ]
  },
  {
   "cell_type": "markdown",
   "metadata": {},
   "source": [
    "# KERNELIZED SUPPORT VECTOR MACHINES"
   ]
  },
  {
   "cell_type": "raw",
   "metadata": {},
   "source": [
    "Kernelized support vector machines are good for classification problems where the feature data cannot be assumed to behave linearly or where the data does behave linearly, but it cannot be easily separated through a line.\n",
    "\n",
    "In essence, what Kernelized SVM do is transform the vectors of the original dataset and add an additional dimension (for example, from 2D to 3D) and use the additional dimention to easily create a separation \"line\" (in reality an hyperplan of dimension D-1, or the original dimension of the data). This allows the algorithm to perform a much simpler divisin of the data.\n",
    "\n",
    "Through the use of Kernel tricks, the algorithm can process this meta-space internally very efficiently."
   ]
  },
  {
   "cell_type": "raw",
   "metadata": {},
   "source": [
    "KSVM are very powerful in cases where the data large amount of features (dimensions) and it can overall perform well in many different datasets.\n",
    "HOWEVER\n",
    "KSVM are very limited in efficiency or processing power (large datasets are troublesome, e.g of over 50k registers)\n",
    "KSVM are very sensitive and require extensive data normalization and tuning.\n",
    "KSVM are very difficult to interpret as to HOW they reached an answer (unlike Logistic regression, for exmaple, which is probability based)"
   ]
  },
  {
   "cell_type": "code",
   "execution_count": 20,
   "metadata": {},
   "outputs": [
    {
     "data": {
      "image/png": "[encoded data removed]",
      "text/plain": [
       "<Figure size 432x288 with 1 Axes>"
      ]
     },
     "metadata": {
      "needs_background": "light"
     },
     "output_type": "display_data"
    }
   ],
   "source": [
    "from sklearn.datasets import make_blobs\n",
    "## more difficult synthetic dataset for classification (binary) \n",
    "# with classes that are not linearly separable\n",
    "X_D2, y_D2 = make_blobs(n_samples = 100, n_features = 2, centers = 8,\n",
    "                       cluster_std = 1.3, random_state = 4)\n",
    "y_D2 = y_D2 % 2\n",
    "plt.figure()\n",
    "plt.title('Sample binary classification problem with non-linearly separable classes')\n",
    "plt.scatter(X_D2[:,0], X_D2[:,1], c=y_D2,\n",
    "           marker= 'o', s=50)\n",
    "plt.show()"
   ]
  },
  {
   "cell_type": "code",
   "execution_count": 41,
   "metadata": {},
   "outputs": [
    {
     "data": {
      "text/plain": [
       "SVC(C=10, kernel='poly')"
      ]
     },
     "execution_count": 41,
     "metadata": {},
     "output_type": "execute_result"
    }
   ],
   "source": [
    "# importing the SVC\n",
    "from sklearn.svm import SVC\n",
    "\n",
    "# splitting the data for actual usage\n",
    "X_train, X_test, y_train, y_test = train_test_split(X_D2, y_D2, random_state=0)\n",
    "\n",
    "# instantiationg the SVC\n",
    "    ## using the Radial Base Function (RBF)\n",
    "    ## RBF takes another parameter,  gamma, which basically controls the influence of a trending example. Low Gamma means a larger similarity radios, or more groups piled together\n",
    "    ## a high gamma sharpens the function and forces it to more closely resemble training data\n",
    "    ## the RBF formula is e to the power of -(gamma) times theabsolute distance between the points and the margin line.\n",
    "KSVM = SVC(kernel=\"rbf\", gamma=0.01, C=10)\n",
    "\n",
    "# fitting to the training data\n",
    "KSVM.fit(X_train, y_train)\n",
    "\n",
    "# We can also use OTHER kernels\n",
    "    ## this is the polynomial kernel and uses a degree additional parameter\n",
    "KSVMW = SVC(kernel=\"poly\", degree=3, C=10)\n",
    "KSVMW.fit(X_train, y_train)"
   ]
  },
  {
   "cell_type": "code",
   "execution_count": 42,
   "metadata": {},
   "outputs": [
    {
     "name": "stdout",
     "output_type": "stream",
     "text": [
      "0.76\n",
      "0.76\n"
     ]
    }
   ],
   "source": [
    "print(KSVM.score(X_test, y_test))\n",
    "print(KSVMW.score(X_test, y_test))"
   ]
  },
  {
   "cell_type": "code",
   "execution_count": null,
   "metadata": {},
   "outputs": [],
   "source": []
  }
 ],
 "metadata": {
  "kernelspec": {
   "display_name": "Python 3",
   "language": "python",
   "name": "python3"
  },
  "language_info": {
   "codemirror_mode": {
    "name": "ipython",
    "version": 3
   },
   "file_extension": ".py",
   "mimetype": "text/x-python",
   "name": "python",
   "nbconvert_exporter": "python",
   "pygments_lexer": "ipython3",
   "version": "3.8.5"
  }
 },
 "nbformat": 4,
 "nbformat_minor": 4
}
