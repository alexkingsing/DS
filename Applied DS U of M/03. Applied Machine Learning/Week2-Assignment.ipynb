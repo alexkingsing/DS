{
 "cells": [
  {
   "cell_type": "code",
   "execution_count": 40,
   "metadata": {},
   "outputs": [],
   "source": [
    "import numpy as np\n",
    "import pandas as pd\n",
    "from sklearn.model_selection import train_test_split\n",
    "from sklearn.linear_model import LinearRegression\n",
    "from sklearn.preprocessing import PolynomialFeatures\n",
    "import matplotlib.pyplot as plt"
   ]
  },
  {
   "cell_type": "code",
   "execution_count": 2,
   "metadata": {},
   "outputs": [],
   "source": [
    "# variables as per problem generation\n",
    "\n",
    "np.random.seed(0)\n",
    "n = 15\n",
    "x = np.linspace(0,10,n) + np.random.randn(n)/5\n",
    "y = np.sin(x)+x/6 + np.random.randn(n)/10\n",
    "\n",
    "\n",
    "X_train, X_test, y_train, y_test = train_test_split(x, y, random_state=0)"
   ]
  },
  {
   "cell_type": "markdown",
   "metadata": {},
   "source": [
    "# QUESTION 1"
   ]
  },
  {
   "cell_type": "raw",
   "metadata": {},
   "source": [
    "Write a function that fits a polynomial LinearRegression model on the training data X_train for degrees 1, 3, 6, and 9. (Use PolynomialFeatures in sklearn.preprocessing to create the polynomial features and then fit a linear regression model) For each model, find 100 predicted values over the interval x = 0 to 10 (e.g. np.linspace(0,10,100)) and store this in a numpy array. The first row of this array should correspond to the output from the model trained on degree 1, the second row degree 3, the third row degree 6, and the fourth row degree 9.\n",
    "\n",
    "This function should return a numpy array with shape (4, 100)"
   ]
  },
  {
   "cell_type": "code",
   "execution_count": 7,
   "metadata": {},
   "outputs": [
    {
     "data": {
      "text/plain": [
       "(4, 100)"
      ]
     },
     "execution_count": 7,
     "metadata": {},
     "output_type": "execute_result"
    }
   ],
   "source": [
    "# creating the polinomial separations\n",
    "X_pol_3 = PolynomialFeatures(degree=3)\n",
    "X_pol_6 = PolynomialFeatures(degree=6)\n",
    "X_pol_9 = PolynomialFeatures(degree=9)\n",
    "X_poly_3 = X_pol_3.fit_transform(X_train.reshape(-1, 1))\n",
    "X_poly_6 = X_pol_6.fit_transform(X_train.reshape(-1, 1))\n",
    "X_poly_9 = X_pol_9.fit_transform(X_train.reshape(-1, 1))\n",
    "\n",
    "lin_1 = LinearRegression()\n",
    "lin_1.fit(X_train.reshape(-1, 1), y_train)\n",
    "\n",
    "lin_3 = LinearRegression()\n",
    "lin_3.fit(X_poly_3, y_train)\n",
    "lin_6 = LinearRegression()\n",
    "lin_6.fit(X_poly_6, y_train)\n",
    "lin_9 = LinearRegression()\n",
    "lin_9.fit(X_poly_9, y_train)\n",
    "\n",
    "\n",
    "t_array = np.linspace(0,10,100).reshape(-1, 1)\n",
    "t_array3 = X_pol_3.fit_transform(t_array)\n",
    "t_array6 = X_pol_6.fit_transform(t_array)\n",
    "t_array9 = X_pol_9.fit_transform(t_array)\n",
    "sol_array = np.concatenate((lin_1.predict(t_array).reshape(1, -1), lin_3.predict(t_array3).reshape(1, -1), lin_6.predict(t_array6).reshape(1, -1), lin_9.predict(t_array9).reshape(1, -1)))\n",
    "sol_array.shape"
   ]
  },
  {
   "cell_type": "markdown",
   "metadata": {},
   "source": [
    "# QUESTION 2"
   ]
  },
  {
   "cell_type": "raw",
   "metadata": {},
   "source": [
    "Write a function that fits a polynomial LinearRegression model on the training data X_train for degrees 0 through 9. For each model compute the  R2R2  (coefficient of determination) regression score on the training data as well as the the test data, and return both of these arrays in a tuple.\n",
    "\n",
    "This function should return one tuple of numpy arrays (r2_train, r2_test). Both arrays should have shape (10,)"
   ]
  },
  {
   "cell_type": "code",
   "execution_count": 50,
   "metadata": {},
   "outputs": [],
   "source": [
    "test_array = None\n",
    "train_array = None\n",
    "\n",
    "for i in range(0,10):\n",
    "    poly = PolynomialFeatures(degree=i)\n",
    "\n",
    "    X_train_i = poly.fit_transform(X_train.reshape(-1, 1))\n",
    "    X_test_i = poly.fit_transform(X_test.reshape(-1, 1))\n",
    "\n",
    "    lngreg = LinearRegression()\n",
    "    lngreg.fit(X_train_i, y_train)\n",
    "\n",
    "    v1 = np.array(lngreg.score(X_test_i, y_test)).reshape(1)\n",
    "    v2 = np.array(lngreg.score(X_train_i, y_train)).reshape(1)\n",
    "\n",
    "    if test_array is None:\n",
    "        test_array = v1\n",
    "        train_array = v2\n",
    "    else:\n",
    "        test_array = np.concatenate((test_array, v1))\n",
    "        train_array = np.concatenate((train_array, v2))\n",
    "\n",
    "sol = (train_array, test_array)"
   ]
  },
  {
   "cell_type": "markdown",
   "metadata": {},
   "source": [
    "# QUESTION 3"
   ]
  },
  {
   "cell_type": "raw",
   "metadata": {},
   "source": [
    "Based on the  R2  scores from question 2 (degree levels 0 through 9), what degree level corresponds to a model that is underfitting? What degree level corresponds to a model that is overfitting? What choice of degree level would provide a model with good generalization performance on this dataset?\n",
    "\n",
    "Hint: Try plotting the  R2R2  scores from question 2 to visualize the relationship between degree level and  R2R2 . Remember to comment out the import matplotlib line before submission.\n",
    "\n",
    "This function should return one tuple with the degree values in this order: (Underfitting, Overfitting, Good_Generalization). There might be multiple correct solutions, however, you only need to return one possible solution, for example, (1,2,3)."
   ]
  },
  {
   "cell_type": "code",
   "execution_count": 53,
   "metadata": {},
   "outputs": [
    {
     "data": {
      "image/png": "[encoded data removed]",
      "text/plain": [
       "<Figure size 432x288 with 1 Axes>"
      ]
     },
     "metadata": {
      "needs_background": "light"
     },
     "output_type": "display_data"
    }
   ],
   "source": [
    "plt.plot(sol[0], label=\"train\")\n",
    "plt.plot(sol[1], label=\"test\")\n",
    "plt.xticks(list(range(0,10)))\n",
    "plt.legend();"
   ]
  },
  {
   "cell_type": "markdown",
   "metadata": {},
   "source": [
    "# QUESTION 4"
   ]
  },
  {
   "cell_type": "raw",
   "metadata": {},
   "source": [
    "Training models on high degree polynomial features can result in overly complex models that overfit, so we often use regularized versions of the model to constrain model complexity, as we saw with Ridge and Lasso linear regression.\n",
    "\n",
    "For this question, train two models: a non-regularized LinearRegression model (default parameters) and a regularized Lasso Regression model (with parameters alpha=0.01, max_iter=10000) both on polynomial features of degree 12. Return the  R2R2  score for both the LinearRegression and Lasso model's test sets.\n",
    "\n",
    "This function should return one tuple (LinearRegression_R2_test_score, Lasso_R2_test_score)"
   ]
  },
  {
   "cell_type": "code",
   "execution_count": null,
   "metadata": {},
   "outputs": [],
   "source": []
  }
 ],
 "metadata": {
  "kernelspec": {
   "display_name": "Python 3",
   "language": "python",
   "name": "python3"
  },
  "language_info": {
   "codemirror_mode": {
    "name": "ipython",
    "version": 3
   },
   "file_extension": ".py",
   "mimetype": "text/x-python",
   "name": "python",
   "nbconvert_exporter": "python",
   "pygments_lexer": "ipython3",
   "version": "3.8.5"
  }
 },
 "nbformat": 4,
 "nbformat_minor": 4
}
