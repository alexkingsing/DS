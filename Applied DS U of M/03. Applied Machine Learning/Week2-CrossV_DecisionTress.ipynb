{
 "cells": [
  {
   "cell_type": "code",
   "execution_count": 1,
   "metadata": {},
   "outputs": [],
   "source": [
    "import pandas as pd\n",
    "import numpy as np\n",
    "import matplotlib.pyplot as plt\n",
    "from sklearn.model_selection import train_test_split"
   ]
  },
  {
   "cell_type": "markdown",
   "metadata": {},
   "source": [
    "# CROSS-VALIDATION"
   ]
  },
  {
   "cell_type": "raw",
   "metadata": {},
   "source": [
    "Cross validation is a way to avoid the randomness on the train_test_split method.\n",
    "Basically, it creates partitions or fold of the original dataset and performs several train/test cycles to determine an average accuracy\n",
    "\n",
    "Cross validation helps us determine the expected average performance of the estimator for purposes of analysis.\n",
    "\n",
    "-- TO OBTAIN A RETURNABLE ESTIMATOR WE NEED TO SET THE RETURN ESTIMATOR PARAMETER TO TRUE, BUT CROSS VALIDATION IS NOT INTENDED FOR THIS"
   ]
  },
  {
   "cell_type": "code",
   "execution_count": 2,
   "metadata": {},
   "outputs": [
    {
     "data": {
      "image/png": "[encoded data removed]",
      "text/plain": [
       "<Figure size 432x288 with 1 Axes>"
      ]
     },
     "metadata": {
      "needs_background": "light"
     },
     "output_type": "display_data"
    }
   ],
   "source": [
    "from sklearn.datasets import make_classification\n",
    "plt.figure()\n",
    "plt.title('Sample binary classification problem with two informative features')\n",
    "# this creates 2, bidimensional NP arrays\n",
    "X_C2, y_C2 = make_classification(n_samples = 100, n_features=2,\n",
    "                                n_redundant=0, n_informative=2,\n",
    "                                n_clusters_per_class=1, flip_y = 0.1,\n",
    "                                class_sep = 0.5, random_state=0)\n",
    "plt.scatter(X_C2[:, 0], X_C2[:, 1], c=y_C2,\n",
    "           marker= 'o', s=50);"
   ]
  },
  {
   "cell_type": "code",
   "execution_count": 3,
   "metadata": {},
   "outputs": [
    {
     "data": {
      "text/plain": [
       "array([0.8       , 0.73333333, 0.64285714, 0.78571429, 0.92857143,\n",
       "       0.85714286, 0.57142857])"
      ]
     },
     "execution_count": 3,
     "metadata": {},
     "output_type": "execute_result"
    }
   ],
   "source": [
    "from sklearn.model_selection import cross_val_score\n",
    "\n",
    "# testing cross-val with a KNN\n",
    "from sklearn.neighbors import KNeighborsClassifier\n",
    "\n",
    "# instantiating the classifier\n",
    "clf = KNeighborsClassifier(n_neighbors=5)\n",
    "\n",
    "# this is the actual scorer\n",
    "    # it takes the model, the features and the expected value as parameters\n",
    "    # then, it returns a list of scores.\n",
    "    # we can also specify the number of folds and validations to perform via the CV argument\n",
    "    # n_jobs uses a python library for parallelism and multiple processor usage\n",
    "scores = cross_val_score(clf, X_C2, y_C2, cv=7, n_jobs=-1)\n",
    "scores"
   ]
  },
  {
   "cell_type": "markdown",
   "metadata": {},
   "source": [
    "## Validation Curves"
   ]
  },
  {
   "cell_type": "raw",
   "metadata": {},
   "source": [
    "Validation curves work extremely similar to cross validators, but they also allow to test a specific parameter to test against"
   ]
  },
  {
   "cell_type": "code",
   "execution_count": 4,
   "metadata": {},
   "outputs": [
    {
     "name": "stdout",
     "output_type": "stream",
     "text": [
      "[[0.5125 0.5125 0.525  0.525  0.525 ]\n",
      " [0.75   0.7125 0.7125 0.725  0.75  ]\n",
      " [0.975  0.975  0.9625 0.9625 0.95  ]\n",
      " [1.     1.     1.     1.     1.    ]]\n",
      "[[0.55 0.55 0.5  0.5  0.5 ]\n",
      " [0.65 0.75 0.8  0.75 0.7 ]\n",
      " [0.75 0.75 0.6  0.8  0.6 ]\n",
      " [0.55 0.55 0.5  0.5  0.5 ]]\n"
     ]
    }
   ],
   "source": [
    "from sklearn.svm import SVC\n",
    "\n",
    "from sklearn.model_selection import validation_curve\n",
    "\n",
    "param_score = np.logspace(-5,5,4)\n",
    "\n",
    "train_scores, test_scores = validation_curve(SVC(), X_C2, y_C2, param_name=\"gamma\", param_range=param_score)\n",
    "print(train_scores)\n",
    "print(test_scores)"
   ]
  },
  {
   "cell_type": "markdown",
   "metadata": {},
   "source": [
    "# DECISION TREES"
   ]
  },
  {
   "cell_type": "raw",
   "metadata": {},
   "source": [
    "Decision trees is an algorithm that can be used for both regression and classification.\n",
    "\n",
    "DEcision trees, in essence, work by creating boolean (TRUE / FALSE) divisions of the result classes based on the feature values. An example of this would be saying that any person above 170 cm is adult, and below is not adult. In the NOT adult leaf, we can use other features to further classify, in man or woman based on, for example, weight.\n",
    "\n",
    "Decisions trees resemble simple decision flowcharts based on a feature values. For the regression case, decision trees instead predict a mean value.\n",
    "\n",
    "Decision trees are simple and powerful for classification problems but they tend to overfit training data due to the nature of how the algorithm builds the decision tree."
   ]
  },
  {
   "cell_type": "code",
   "execution_count": 20,
   "metadata": {},
   "outputs": [
    {
     "name": "stdout",
     "output_type": "stream",
     "text": [
      "Accuracy of Decision Tree classifier on training set: 1.00\n",
      "Accuracy of Decision Tree classifier on test set: 0.95\n"
     ]
    }
   ],
   "source": [
    "# importing relevant dataset\n",
    "from sklearn.datasets import load_iris\n",
    "# importing the corresponding module\n",
    "from sklearn.tree import DecisionTreeClassifier\n",
    "\n",
    "iris = load_iris()\n",
    "\n",
    "X_train, X_test, y_train, y_test = train_test_split(iris.data, iris.target, random_state = 3)\n",
    "clf = DecisionTreeClassifier().fit(X_train, y_train)\n",
    "\n",
    "print('Accuracy of Decision Tree classifier on training set: {:.2f}'\n",
    "     .format(clf.score(X_train, y_train)))\n",
    "print('Accuracy of Decision Tree classifier on test set: {:.2f}'\n",
    "     .format(clf.score(X_test, y_test)))"
   ]
  },
  {
   "cell_type": "code",
   "execution_count": 21,
   "metadata": {},
   "outputs": [
    {
     "name": "stdout",
     "output_type": "stream",
     "text": [
      "Accuracy of Decision Tree classifier on training set: 0.98\n",
      "Accuracy of Decision Tree classifier on test set: 0.97\n"
     ]
    }
   ],
   "source": [
    "# we can set the decision trees max_depth to prevent or limit overfitting of training data.\n",
    "clf = DecisionTreeClassifier(max_depth=3)\n",
    "clf. fit(X_train, y_train)\n",
    "print('Accuracy of Decision Tree classifier on training set: {:.2f}'\n",
    "     .format(clf.score(X_train, y_train)))\n",
    "print('Accuracy of Decision Tree classifier on test set: {:.2f}'\n",
    "     .format(clf.score(X_test, y_test)))"
   ]
  },
  {
   "cell_type": "code",
   "execution_count": 22,
   "metadata": {},
   "outputs": [
    {
     "name": "stdout",
     "output_type": "stream",
     "text": [
      "[0.         0.         0.56801409 0.43198591]\n"
     ]
    }
   ],
   "source": [
    "# we can also retrieve the feature impportance (which is a normalized weight, from 0 to 1, of the relevant features)\n",
    "print(clf.feature_importances_)"
   ]
  },
  {
   "cell_type": "code",
   "execution_count": 23,
   "metadata": {},
   "outputs": [
    {
     "data": {
      "text/plain": [
       "<BarContainer object of 4 artists>"
      ]
     },
     "execution_count": 23,
     "metadata": {},
     "output_type": "execute_result"
    },
    {
     "data": {
      "image/png": "[encoded data removed]",
      "text/plain": [
       "<Figure size 432x288 with 1 Axes>"
      ]
     },
     "metadata": {
      "needs_background": "light"
     },
     "output_type": "display_data"
    }
   ],
   "source": [
    "plt.barh(iris.feature_names, clf.feature_importances_)"
   ]
  },
  {
   "cell_type": "code",
   "execution_count": null,
   "metadata": {},
   "outputs": [],
   "source": []
  }
 ],
 "metadata": {
  "kernelspec": {
   "display_name": "Python 3",
   "language": "python",
   "name": "python3"
  },
  "language_info": {
   "codemirror_mode": {
    "name": "ipython",
    "version": 3
   },
   "file_extension": ".py",
   "mimetype": "text/x-python",
   "name": "python",
   "nbconvert_exporter": "python",
   "pygments_lexer": "ipython3",
   "version": "3.8.5"
  }
 },
 "nbformat": 4,
 "nbformat_minor": 4
}
