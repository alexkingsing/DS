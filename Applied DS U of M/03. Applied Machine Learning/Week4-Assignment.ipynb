{
 "cells": [
  {
   "cell_type": "code",
   "execution_count": 38,
   "id": "positive-porter",
   "metadata": {},
   "outputs": [],
   "source": [
    "import pandas as pd\n",
    "import numpy as np\n",
    "import matplotlib.pyplot as plt\n",
    "import seaborn as sns\n",
    "\n",
    "from sklearn.metrics import roc_auc_score\n",
    "\n",
    "from sklearn.dummy import DummyClassifier\n",
    "\n",
    "from sklearn.compose import ColumnTransformer\n",
    "\n",
    "from sklearn.preprocessing import OneHotEncoder\n",
    "\n",
    "from sklearn.model_selection import train_test_split\n",
    "from sklearn.model_selection import GridSearchCV\n",
    "from sklearn.model_selection import cross_val_score\n",
    "\n",
    "from sklearn.naive_bayes import GaussianNB\n",
    "from sklearn.ensemble import RandomForestClassifier\n",
    "from sklearn.ensemble import GradientBoostingClassifier\n",
    "\n",
    "# autocomplete fix because IPYTHON UGH\n",
    "%config Completer.use_jedi = False"
   ]
  },
  {
   "cell_type": "markdown",
   "id": "willing-logging",
   "metadata": {},
   "source": [
    "# DATA LOAD AND EXPLORATORY ANALYSIS"
   ]
  },
  {
   "cell_type": "code",
   "execution_count": 14,
   "id": "handed-moore",
   "metadata": {},
   "outputs": [
    {
     "data": {
      "text/html": [
       "<div>\n",
       "<style scoped>\n",
       "    .dataframe tbody tr th:only-of-type {\n",
       "        vertical-align: middle;\n",
       "    }\n",
       "\n",
       "    .dataframe tbody tr th {\n",
       "        vertical-align: top;\n",
       "    }\n",
       "\n",
       "    .dataframe thead th {\n",
       "        text-align: right;\n",
       "    }\n",
       "</style>\n",
       "<table border=\"1\" class=\"dataframe\">\n",
       "  <thead>\n",
       "    <tr style=\"text-align: right;\">\n",
       "      <th></th>\n",
       "      <th>ticket_id</th>\n",
       "      <th>agency_name</th>\n",
       "      <th>inspector_name</th>\n",
       "      <th>violation_street_number</th>\n",
       "      <th>violation_street_name</th>\n",
       "      <th>violation_code</th>\n",
       "      <th>violation_description</th>\n",
       "      <th>disposition</th>\n",
       "      <th>fine_amount</th>\n",
       "      <th>admin_fee</th>\n",
       "      <th>state_fee</th>\n",
       "      <th>discount_amount</th>\n",
       "      <th>judgment_amount</th>\n",
       "      <th>compliance</th>\n",
       "      <th>address</th>\n",
       "    </tr>\n",
       "  </thead>\n",
       "  <tbody>\n",
       "    <tr>\n",
       "      <th>0</th>\n",
       "      <td>22056</td>\n",
       "      <td>Buildings, Safety Engineering &amp; Env Department</td>\n",
       "      <td>Sims, Martinzie</td>\n",
       "      <td>2900</td>\n",
       "      <td>tyler</td>\n",
       "      <td>9-1-36(a)</td>\n",
       "      <td>Failure of owner to obtain certificate of comp...</td>\n",
       "      <td>Responsible by Default</td>\n",
       "      <td>250.0</td>\n",
       "      <td>20.0</td>\n",
       "      <td>10.0</td>\n",
       "      <td>0.0</td>\n",
       "      <td>305.0</td>\n",
       "      <td>0.0</td>\n",
       "      <td>2900 tyler</td>\n",
       "    </tr>\n",
       "    <tr>\n",
       "      <th>1</th>\n",
       "      <td>27586</td>\n",
       "      <td>Buildings, Safety Engineering &amp; Env Department</td>\n",
       "      <td>Williams, Darrin</td>\n",
       "      <td>4311</td>\n",
       "      <td>central</td>\n",
       "      <td>61-63.0600</td>\n",
       "      <td>Failed To Secure Permit For Lawful Use Of Buil...</td>\n",
       "      <td>Responsible by Determination</td>\n",
       "      <td>750.0</td>\n",
       "      <td>20.0</td>\n",
       "      <td>10.0</td>\n",
       "      <td>0.0</td>\n",
       "      <td>855.0</td>\n",
       "      <td>1.0</td>\n",
       "      <td>4311 central</td>\n",
       "    </tr>\n",
       "    <tr>\n",
       "      <th>2</th>\n",
       "      <td>22062</td>\n",
       "      <td>Buildings, Safety Engineering &amp; Env Department</td>\n",
       "      <td>Sims, Martinzie</td>\n",
       "      <td>1449</td>\n",
       "      <td>longfellow</td>\n",
       "      <td>9-1-36(a)</td>\n",
       "      <td>Failure of owner to obtain certificate of comp...</td>\n",
       "      <td>Not responsible by Dismissal</td>\n",
       "      <td>250.0</td>\n",
       "      <td>0.0</td>\n",
       "      <td>0.0</td>\n",
       "      <td>0.0</td>\n",
       "      <td>0.0</td>\n",
       "      <td>NaN</td>\n",
       "      <td>1449 longfellow</td>\n",
       "    </tr>\n",
       "    <tr>\n",
       "      <th>3</th>\n",
       "      <td>22084</td>\n",
       "      <td>Buildings, Safety Engineering &amp; Env Department</td>\n",
       "      <td>Sims, Martinzie</td>\n",
       "      <td>1441</td>\n",
       "      <td>longfellow</td>\n",
       "      <td>9-1-36(a)</td>\n",
       "      <td>Failure of owner to obtain certificate of comp...</td>\n",
       "      <td>Not responsible by City Dismissal</td>\n",
       "      <td>250.0</td>\n",
       "      <td>0.0</td>\n",
       "      <td>0.0</td>\n",
       "      <td>0.0</td>\n",
       "      <td>0.0</td>\n",
       "      <td>NaN</td>\n",
       "      <td>1441 longfellow</td>\n",
       "    </tr>\n",
       "    <tr>\n",
       "      <th>4</th>\n",
       "      <td>22093</td>\n",
       "      <td>Buildings, Safety Engineering &amp; Env Department</td>\n",
       "      <td>Sims, Martinzie</td>\n",
       "      <td>2449</td>\n",
       "      <td>churchill</td>\n",
       "      <td>9-1-36(a)</td>\n",
       "      <td>Failure of owner to obtain certificate of comp...</td>\n",
       "      <td>Not responsible by Dismissal</td>\n",
       "      <td>250.0</td>\n",
       "      <td>0.0</td>\n",
       "      <td>0.0</td>\n",
       "      <td>0.0</td>\n",
       "      <td>0.0</td>\n",
       "      <td>NaN</td>\n",
       "      <td>2449 churchill</td>\n",
       "    </tr>\n",
       "  </tbody>\n",
       "</table>\n",
       "</div>"
      ],
      "text/plain": [
       "   ticket_id                                     agency_name  \\\n",
       "0      22056  Buildings, Safety Engineering & Env Department   \n",
       "1      27586  Buildings, Safety Engineering & Env Department   \n",
       "2      22062  Buildings, Safety Engineering & Env Department   \n",
       "3      22084  Buildings, Safety Engineering & Env Department   \n",
       "4      22093  Buildings, Safety Engineering & Env Department   \n",
       "\n",
       "     inspector_name  violation_street_number violation_street_name  \\\n",
       "0   Sims, Martinzie                     2900                 tyler   \n",
       "1  Williams, Darrin                     4311               central   \n",
       "2   Sims, Martinzie                     1449            longfellow   \n",
       "3   Sims, Martinzie                     1441            longfellow   \n",
       "4   Sims, Martinzie                     2449             churchill   \n",
       "\n",
       "  violation_code                              violation_description  \\\n",
       "0      9-1-36(a)  Failure of owner to obtain certificate of comp...   \n",
       "1     61-63.0600  Failed To Secure Permit For Lawful Use Of Buil...   \n",
       "2      9-1-36(a)  Failure of owner to obtain certificate of comp...   \n",
       "3      9-1-36(a)  Failure of owner to obtain certificate of comp...   \n",
       "4      9-1-36(a)  Failure of owner to obtain certificate of comp...   \n",
       "\n",
       "                         disposition  fine_amount  admin_fee  state_fee  \\\n",
       "0             Responsible by Default        250.0       20.0       10.0   \n",
       "1       Responsible by Determination        750.0       20.0       10.0   \n",
       "2       Not responsible by Dismissal        250.0        0.0        0.0   \n",
       "3  Not responsible by City Dismissal        250.0        0.0        0.0   \n",
       "4       Not responsible by Dismissal        250.0        0.0        0.0   \n",
       "\n",
       "   discount_amount  judgment_amount  compliance          address  \n",
       "0              0.0            305.0         0.0       2900 tyler  \n",
       "1              0.0            855.0         1.0     4311 central  \n",
       "2              0.0              0.0         NaN  1449 longfellow  \n",
       "3              0.0              0.0         NaN  1441 longfellow  \n",
       "4              0.0              0.0         NaN   2449 churchill  "
      ]
     },
     "execution_count": 14,
     "metadata": {},
     "output_type": "execute_result"
    }
   ],
   "source": [
    "# DATA DELETION\n",
    "\n",
    "    ## columns 12 and 31 have noise (most of them are NaN with 1 or 2 exceptions) I will delete these columns sa well since their data is noise.\n",
    "\n",
    "    # as a matter of principle our train / test data should have the same amount of input features, thus, I will delete all columns not present in test.csv.\n",
    "        ## exception, obviously I will keep the target value.\n",
    "\n",
    "    # to NOT include -> payment_amount, payment_date, payment_status, balance_due, collection_status, compliance_detail\n",
    "    # to NOT include 2 -> violation_zip_code : Data is all NaN.\n",
    "    # to NOT include 3 -> violator_name : Data is all unique names, not relevant\n",
    "    # to NOT include 4 -> since i'm deleting column 31, I will delete its associate column clean_up_cost. All of its values are 0.\n",
    "    # to NOT include 5 -> late_fee, since it provides information about the feature.\n",
    "    # to NOT include 6 -> 'mailing_address_str_number', 'mailing_address_str_name', . Sparse address information.\n",
    "    # to NOT inlcude 7 -> ignoring city, state, zip code and country.\n",
    "    # to NOT include 8 -> datetime columns -> they screw Gaussian NB\n",
    "\n",
    "# DATA TRANSFORM\n",
    "    # column 11 is zip dates, this shouldnt be touched at all. Set to string.\n",
    "    # \"violation_street_number\" should be a string, but first i'll pass it as a string to get rid of annoying digits without having to format.\n",
    "    \n",
    "data = pd.read_csv(\"data/train.csv\", dtype={\"zip_code\":str, \"violation_street_number\":int},\n",
    "                   usecols=['ticket_id', 'agency_name', 'inspector_name', 'violation_street_number', 'violation_street_name',\n",
    "                            'violation_code', 'violation_description', \n",
    "                            'disposition', 'fine_amount', 'admin_fee', 'state_fee',\n",
    "                            'discount_amount', 'judgment_amount', 'compliance'])\n",
    "\n",
    "# normalize the street names\n",
    "data[\"violation_street_name\"] = data[\"violation_street_name\"].apply(lambda x: x.lower())\n",
    "\n",
    "# create a column address based on street number and street name\n",
    "data[\"address\"] = data[\"violation_street_number\"].astype(str) + \" \" + data[\"violation_street_name\"]\n",
    "\n",
    "data.head()"
   ]
  },
  {
   "cell_type": "code",
   "execution_count": 15,
   "id": "elementary-question",
   "metadata": {},
   "outputs": [],
   "source": [
    "# reading lat table\n",
    "latlons = pd.read_csv(\"data/latlons.csv\")\n",
    "\n",
    "# dropping a few NA rows previously found\n",
    "latlons = latlons.dropna()"
   ]
  },
  {
   "cell_type": "code",
   "execution_count": 16,
   "id": "peaceful-little",
   "metadata": {},
   "outputs": [],
   "source": [
    "# simplifying address to just street for generalization purposes\n",
    "latlons[\"address\"] = latlons[\"address\"].str.extract(\"(.*),.*\")"
   ]
  },
  {
   "cell_type": "code",
   "execution_count": 17,
   "id": "ordered-return",
   "metadata": {},
   "outputs": [],
   "source": [
    "# creating general purpose dataframe\n",
    "df = pd.merge(data, latlons, on=\"address\", how=\"inner\")\n",
    "\n",
    "# eliminating duplicates created during merge\n",
    "df = df.drop_duplicates(subset=\"ticket_id\")"
   ]
  },
  {
   "cell_type": "code",
   "execution_count": 18,
   "id": "whole-realtor",
   "metadata": {},
   "outputs": [],
   "source": [
    "# creating mask to eliminate all nan values in compliance\n",
    "not_na_mask = df[\"compliance\"].notna()\n",
    "df = df[not_na_mask]"
   ]
  },
  {
   "cell_type": "code",
   "execution_count": 19,
   "id": "based-fusion",
   "metadata": {},
   "outputs": [],
   "source": [
    "# since we already have addresses, i will get rid of the constituting columns and the actual address. Lat Lon should be enough to cover the geo aspects.\n",
    "# also getting rid of ticket_id, since it's nothing but unique numbers\n",
    "df = df.drop(\"violation_street_number\", axis=1)\n",
    "df = df.drop(\"violation_street_name\", axis=1)\n",
    "df = df.drop(\"address\", axis=1)\n",
    "df = df.drop(\"ticket_id\", axis=1)\n",
    "\n",
    "# finally, i'll drop any remaining NAs.\n",
    "df = df.dropna()"
   ]
  },
  {
   "cell_type": "code",
   "execution_count": 20,
   "id": "opposite-condition",
   "metadata": {},
   "outputs": [],
   "source": [
    "# splitting data \n",
    "X = df.drop(\"compliance\", axis=1)\n",
    "y = df[\"compliance\"]"
   ]
  },
  {
   "cell_type": "code",
   "execution_count": 21,
   "id": "fresh-reviewer",
   "metadata": {},
   "outputs": [],
   "source": [
    "# creating transformation pipelina for all categorical columns\n",
    "    ## list(X.select_dtypes(\"object\").columns) gets me all the non numerical columns\n",
    "ct = ColumnTransformer(\n",
    "    [(\"encoder\", OneHotEncoder(sparse=False, dtype=\"int\"), list(X.select_dtypes(\"object\").columns))], remainder=\"passthrough\")"
   ]
  },
  {
   "cell_type": "code",
   "execution_count": 22,
   "id": "vertical-paper",
   "metadata": {},
   "outputs": [],
   "source": [
    "# saving array\n",
    "X2 = ct.fit_transform(X)"
   ]
  },
  {
   "cell_type": "code",
   "execution_count": 23,
   "id": "complimentary-installation",
   "metadata": {},
   "outputs": [],
   "source": [
    "# creating sets\n",
    "X_train, X_test, y_train, y_test = train_test_split(X2, y, train_size=0.8)"
   ]
  },
  {
   "cell_type": "code",
   "execution_count": 24,
   "id": "extra-chocolate",
   "metadata": {},
   "outputs": [
    {
     "data": {
      "text/plain": [
       "0.5"
      ]
     },
     "execution_count": 24,
     "metadata": {},
     "output_type": "execute_result"
    }
   ],
   "source": [
    "# setting dummy classifier\n",
    "dummy = DummyClassifier(strategy=\"most_frequent\")\n",
    "dummy.fit(X_train, y_train)\n",
    "\n",
    "# determining baseline score with mf strategy\n",
    "roc_auc_score(y_test, dummy.predict(X_test))"
   ]
  },
  {
   "cell_type": "code",
   "execution_count": 31,
   "id": "affecting-germany",
   "metadata": {},
   "outputs": [],
   "source": [
    "# setting initial classifiers, especially for LARGE DATA as per my notes.\n",
    "    ## attempting NAIVE BAYES, RANDOM FOREST, GRADIENT BOOSTED DECISION TREES\n",
    "clf1 = GaussianNB()\n",
    "clf2 = RandomForestClassifier()"
   ]
  },
  {
   "cell_type": "code",
   "execution_count": 29,
   "id": "bibliographic-encounter",
   "metadata": {},
   "outputs": [
    {
     "data": {
      "text/plain": [
       "0.650626367497533"
      ]
     },
     "execution_count": 29,
     "metadata": {},
     "output_type": "execute_result"
    }
   ],
   "source": [
    "clf1.fit(X_train, y_train)\n",
    "roc_auc_score(y_test, clf1.predict(X_test))"
   ]
  },
  {
   "cell_type": "code",
   "execution_count": 33,
   "id": "bearing-soldier",
   "metadata": {},
   "outputs": [
    {
     "data": {
      "text/plain": [
       "array([0.71958555, 0.7143432 , 0.71488412, 0.71583662, 0.69718345,\n",
       "       0.71231893, 0.70497373])"
      ]
     },
     "execution_count": 33,
     "metadata": {},
     "output_type": "execute_result"
    }
   ],
   "source": [
    "bayes_score = cross_val_score(clf1, X_train, y_train, scoring=\"roc_auc\", n_jobs=-1, cv=7)\n",
    "bayes_score"
   ]
  },
  {
   "cell_type": "code",
   "execution_count": 37,
   "id": "placed-bearing",
   "metadata": {},
   "outputs": [
    {
     "data": {
      "text/plain": [
       "array([0.77077845, 0.76233445, 0.77094631])"
      ]
     },
     "execution_count": 37,
     "metadata": {},
     "output_type": "execute_result"
    }
   ],
   "source": [
    "forest_score = cross_val_score(clf2, X_train, y_train, scoring=\"roc_auc\", n_jobs=-1, cv=3)\n",
    "forest_score"
   ]
  },
  {
   "cell_type": "code",
   "execution_count": 39,
   "id": "mechanical-willow",
   "metadata": {},
   "outputs": [],
   "source": [
    "# testing gradient forest\n",
    "clf3 = GradientBoostingClassifier()"
   ]
  },
  {
   "cell_type": "code",
   "execution_count": 40,
   "id": "respective-belgium",
   "metadata": {},
   "outputs": [
    {
     "data": {
      "text/plain": [
       "array([0.80664496, 0.80156734, 0.8067035 ])"
      ]
     },
     "execution_count": 40,
     "metadata": {},
     "output_type": "execute_result"
    }
   ],
   "source": [
    "gradient_score = cross_val_score(clf3, X_train, y_train, scoring=\"roc_auc\", n_jobs=-1, cv=3)\n",
    "gradient_score"
   ]
  },
  {
   "cell_type": "code",
   "execution_count": null,
   "id": "emerging-directory",
   "metadata": {},
   "outputs": [],
   "source": []
  }
 ],
 "metadata": {
  "kernelspec": {
   "display_name": "Python 3",
   "language": "python",
   "name": "python3"
  },
  "language_info": {
   "codemirror_mode": {
    "name": "ipython",
    "version": 3
   },
   "file_extension": ".py",
   "mimetype": "text/x-python",
   "name": "python",
   "nbconvert_exporter": "python",
   "pygments_lexer": "ipython3",
   "version": "3.8.8"
  }
 },
 "nbformat": 4,
 "nbformat_minor": 5
}
